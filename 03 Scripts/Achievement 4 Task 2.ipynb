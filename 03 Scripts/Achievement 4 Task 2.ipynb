{
 "cells": [
  {
   "cell_type": "markdown",
   "id": "6d4d1e60-ffba-41ea-8300-c4b6cb98678b",
   "metadata": {},
   "source": [
    "#01. Importing Libraries"
   ]
  },
  {
   "cell_type": "code",
   "execution_count": 1,
   "id": "8b1eff20-72ae-4aba-ae87-9421a4096ab3",
   "metadata": {},
   "outputs": [],
   "source": [
    "#Import Libraries\n",
    "import pandas as pd\n",
    "import numpy as np\n",
    "import os"
   ]
  },
  {
   "cell_type": "markdown",
   "id": "78a5c8e8-3bcc-4aad-9cea-41e3216059b3",
   "metadata": {},
   "source": [
    "#02. Python Data Types"
   ]
  },
  {
   "cell_type": "code",
   "execution_count": 3,
   "id": "340b318b-b217-4d6d-9e49-0fad8f5ba3ca",
   "metadata": {},
   "outputs": [],
   "source": [
    "#Code 3 different ways of reaching a result of 100 by adding or subtracting numeric variables.\n",
    "\n",
    "x = 75 \n",
    "y = 25"
   ]
  },
  {
   "cell_type": "code",
   "execution_count": 5,
   "id": "4e67ef52-08e1-49b4-b78f-3a1d7bf3a51e",
   "metadata": {},
   "outputs": [
    {
     "data": {
      "text/plain": [
       "100"
      ]
     },
     "execution_count": 5,
     "metadata": {},
     "output_type": "execute_result"
    }
   ],
   "source": [
    "x + y"
   ]
  },
  {
   "cell_type": "code",
   "execution_count": 7,
   "id": "f8a173f9-8ccb-4922-b4b4-a6a54d5dc0e1",
   "metadata": {},
   "outputs": [],
   "source": [
    "x = 150\n",
    "y = 50"
   ]
  },
  {
   "cell_type": "code",
   "execution_count": 11,
   "id": "b31038f4-f97a-4d2b-b5ac-6650168ab876",
   "metadata": {},
   "outputs": [
    {
     "data": {
      "text/plain": [
       "100"
      ]
     },
     "execution_count": 11,
     "metadata": {},
     "output_type": "execute_result"
    }
   ],
   "source": [
    "x - y"
   ]
  },
  {
   "cell_type": "code",
   "execution_count": 13,
   "id": "c2686ee2-35b0-4d34-891b-747fdfb9cb14",
   "metadata": {},
   "outputs": [],
   "source": [
    "x = 75\n",
    "y = 35\n",
    "z = 10"
   ]
  },
  {
   "cell_type": "code",
   "execution_count": 15,
   "id": "569875b7-4e30-4cd2-967b-6c6ff7734e3d",
   "metadata": {},
   "outputs": [
    {
     "data": {
      "text/plain": [
       "100"
      ]
     },
     "execution_count": 15,
     "metadata": {},
     "output_type": "execute_result"
    }
   ],
   "source": [
    "x + (y-z)"
   ]
  },
  {
   "cell_type": "code",
   "execution_count": 17,
   "id": "3a2c140e-974b-4d7e-86bd-f2de983c02e9",
   "metadata": {},
   "outputs": [],
   "source": [
    "#Code 2 floating-point variables and divide them by each other\n",
    "\n",
    "x = 3.45 \n",
    "y = 6.78"
   ]
  },
  {
   "cell_type": "code",
   "execution_count": 19,
   "id": "7abe5fb2-72e7-4088-b4b7-e2d9898158bb",
   "metadata": {},
   "outputs": [
    {
     "data": {
      "text/plain": [
       "0.5088495575221239"
      ]
     },
     "execution_count": 19,
     "metadata": {},
     "output_type": "execute_result"
    }
   ],
   "source": [
    "x/y"
   ]
  },
  {
   "cell_type": "code",
   "execution_count": 21,
   "id": "a6ec8077-6180-4c24-93b3-bf001d6d5ed9",
   "metadata": {},
   "outputs": [],
   "source": [
    "#Construct a short word made of separate strings \n",
    "\n",
    "x = 'uke'\n",
    "y = 'lele'"
   ]
  },
  {
   "cell_type": "code",
   "execution_count": 23,
   "id": "223b38a6-d488-4430-a5e3-7c1fe0ab668b",
   "metadata": {},
   "outputs": [
    {
     "data": {
      "text/plain": [
       "'ukelele'"
      ]
     },
     "execution_count": 23,
     "metadata": {},
     "output_type": "execute_result"
    }
   ],
   "source": [
    "x + y"
   ]
  },
  {
   "cell_type": "code",
   "execution_count": 25,
   "id": "f60deeb9-a163-4e2b-b255-c18413b1b636",
   "metadata": {},
   "outputs": [],
   "source": [
    "#Construct 2 short sentences made of separate strings\n",
    "\n",
    "x = 'I play '\n",
    "y = 'the ukelele.'"
   ]
  },
  {
   "cell_type": "code",
   "execution_count": 27,
   "id": "de02b529-f06c-48b4-82f7-4d87a9858ce6",
   "metadata": {},
   "outputs": [
    {
     "data": {
      "text/plain": [
       "'I play the ukelele.'"
      ]
     },
     "execution_count": 27,
     "metadata": {},
     "output_type": "execute_result"
    }
   ],
   "source": [
    "x + y"
   ]
  },
  {
   "cell_type": "code",
   "execution_count": 29,
   "id": "cc5c4459-72a3-4c75-bedc-1c54345e9c82",
   "metadata": {},
   "outputs": [],
   "source": [
    "x = 'It is '\n",
    "y = 'a lot of fun.'"
   ]
  },
  {
   "cell_type": "code",
   "execution_count": 31,
   "id": "46eb7586-8237-4d53-8da0-2855f4d6b75a",
   "metadata": {},
   "outputs": [
    {
     "data": {
      "text/plain": [
       "'It is a lot of fun.'"
      ]
     },
     "execution_count": 31,
     "metadata": {},
     "output_type": "execute_result"
    }
   ],
   "source": [
    "x + y"
   ]
  },
  {
   "cell_type": "code",
   "execution_count": 33,
   "id": "29763d45-5412-4dc7-acb7-d18e3e18d48f",
   "metadata": {},
   "outputs": [],
   "source": [
    "x = x + y"
   ]
  },
  {
   "cell_type": "code",
   "execution_count": 35,
   "id": "1ae4de30-4953-4c99-ad97-976d88c04c93",
   "metadata": {},
   "outputs": [
    {
     "name": "stdout",
     "output_type": "stream",
     "text": [
      "It is a lot of fun.\n"
     ]
    }
   ],
   "source": [
    "print(x)"
   ]
  },
  {
   "cell_type": "code",
   "execution_count": 37,
   "id": "3881ed9b-dc3e-4271-b491-b9265cc84399",
   "metadata": {},
   "outputs": [
    {
     "data": {
      "text/plain": [
       "'It is a lot of fun.It is a lot of fun.It is a lot of fun.It is a lot of fun.It is a lot of fun.It is a lot of fun.It is a lot of fun.It is a lot of fun.It is a lot of fun.It is a lot of fun.It is a lot of fun.It is a lot of fun.It is a lot of fun.It is a lot of fun.It is a lot of fun.It is a lot of fun.It is a lot of fun.It is a lot of fun.It is a lot of fun.It is a lot of fun.It is a lot of fun.It is a lot of fun.It is a lot of fun.It is a lot of fun.It is a lot of fun.It is a lot of fun.It is a lot of fun.It is a lot of fun.It is a lot of fun.It is a lot of fun.It is a lot of fun.It is a lot of fun.It is a lot of fun.It is a lot of fun.It is a lot of fun.It is a lot of fun.It is a lot of fun.It is a lot of fun.It is a lot of fun.It is a lot of fun.It is a lot of fun.It is a lot of fun.It is a lot of fun.It is a lot of fun.It is a lot of fun.It is a lot of fun.It is a lot of fun.It is a lot of fun.It is a lot of fun.It is a lot of fun.It is a lot of fun.It is a lot of fun.It is a lot of fun.It is a lot of fun.It is a lot of fun.It is a lot of fun.It is a lot of fun.It is a lot of fun.It is a lot of fun.It is a lot of fun.It is a lot of fun.It is a lot of fun.It is a lot of fun.It is a lot of fun.It is a lot of fun.It is a lot of fun.It is a lot of fun.It is a lot of fun.It is a lot of fun.It is a lot of fun.It is a lot of fun.It is a lot of fun.It is a lot of fun.It is a lot of fun.It is a lot of fun.It is a lot of fun.It is a lot of fun.It is a lot of fun.It is a lot of fun.It is a lot of fun.It is a lot of fun.It is a lot of fun.It is a lot of fun.It is a lot of fun.It is a lot of fun.It is a lot of fun.It is a lot of fun.It is a lot of fun.It is a lot of fun.It is a lot of fun.It is a lot of fun.It is a lot of fun.It is a lot of fun.It is a lot of fun.It is a lot of fun.It is a lot of fun.It is a lot of fun.It is a lot of fun.It is a lot of fun.It is a lot of fun.'"
      ]
     },
     "execution_count": 37,
     "metadata": {},
     "output_type": "execute_result"
    }
   ],
   "source": [
    "#bonus task include a command that makes a string appear 100 times.\n",
    "\n",
    "x * 100"
   ]
  }
 ],
 "metadata": {
  "kernelspec": {
   "display_name": "Python 3 (ipykernel)",
   "language": "python",
   "name": "python3"
  },
  "language_info": {
   "codemirror_mode": {
    "name": "ipython",
    "version": 3
   },
   "file_extension": ".py",
   "mimetype": "text/x-python",
   "name": "python",
   "nbconvert_exporter": "python",
   "pygments_lexer": "ipython3",
   "version": "3.12.4"
  }
 },
 "nbformat": 4,
 "nbformat_minor": 5
}
