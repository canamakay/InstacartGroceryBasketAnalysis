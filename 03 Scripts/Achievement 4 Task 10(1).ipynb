{
 "cells": [
  {
   "cell_type": "markdown",
   "id": "12af3210-796c-4626-b56a-67d446a37916",
   "metadata": {},
   "source": [
    "## Table of Contents \n",
    "### 01. Importing Libraries and Data\n",
    "### 02. Considering Security Implications\n",
    "### 03. Comparing customer behavior in different geographic areas\n",
    "### 04. Removing Low Activity Customers\n",
    "### 05. Creating a profiling variable based on age, income, certain goods in the “department_id” column, and number of dependents.\n",
    "### 06. Creating appropriate visualizations to show the distribution of profiles.\n",
    "### 07. Aggregating the max, mean, and min variables on a customer-profile level for usage frequency and expenditure\n",
    "### 08. Comparing customer profiles with regions and departments\n",
    "###     Additional Charts"
   ]
  },
  {
   "cell_type": "markdown",
   "id": "4e36a3fc-b425-4bc5-b298-ee5770b57e8a",
   "metadata": {},
   "source": [
    "# 01. Importing Libraries and Data "
   ]
  },
  {
   "cell_type": "code",
   "execution_count": 3,
   "id": "f6622f3a-ff0c-42fc-bc7c-9dbc75932108",
   "metadata": {},
   "outputs": [],
   "source": [
    "#importing libraries \n",
    "import pandas as pd\n",
    "import numpy as np\n",
    "import os\n",
    "import matplotlib.pyplot as plt\n",
    "import seaborn as sns\n",
    "import scipy"
   ]
  },
  {
   "cell_type": "code",
   "execution_count": 4,
   "id": "0c34bb83-8c78-4fc0-93e6-69503ee835e0",
   "metadata": {},
   "outputs": [],
   "source": [
    "#creating a path\n",
    "path = r'C:\\Users\\canam\\Achievement 4\\Instacart Basket Analysis'"
   ]
  },
  {
   "cell_type": "code",
   "execution_count": 5,
   "id": "01e65d54-2e84-492a-91a4-6741baa1bce8",
   "metadata": {},
   "outputs": [],
   "source": [
    "#importing merged version of data with customer columns \n",
    "df_ords_prods_cust = pd.read_pickle(os.path.join(path, '02 Data', 'Prepared Data', 'ords_prods_cust_merge.pkl'))"
   ]
  },
  {
   "cell_type": "code",
   "execution_count": 6,
   "id": "cfd55b48-2d32-424f-b907-fbae2c093f88",
   "metadata": {},
   "outputs": [
    {
     "data": {
      "text/html": [
       "<div>\n",
       "<style scoped>\n",
       "    .dataframe tbody tr th:only-of-type {\n",
       "        vertical-align: middle;\n",
       "    }\n",
       "\n",
       "    .dataframe tbody tr th {\n",
       "        vertical-align: top;\n",
       "    }\n",
       "\n",
       "    .dataframe thead th {\n",
       "        text-align: right;\n",
       "    }\n",
       "</style>\n",
       "<table border=\"1\" class=\"dataframe\">\n",
       "  <thead>\n",
       "    <tr style=\"text-align: right;\">\n",
       "      <th></th>\n",
       "      <th>product_id</th>\n",
       "      <th>product_name</th>\n",
       "      <th>aisle_id</th>\n",
       "      <th>department_id</th>\n",
       "      <th>prices</th>\n",
       "      <th>order_id</th>\n",
       "      <th>user_id</th>\n",
       "      <th>order_number</th>\n",
       "      <th>orders_day_of_week</th>\n",
       "      <th>order_hour_of_day</th>\n",
       "      <th>...</th>\n",
       "      <th>first_name</th>\n",
       "      <th>last_name</th>\n",
       "      <th>gender</th>\n",
       "      <th>state</th>\n",
       "      <th>age</th>\n",
       "      <th>date_joined</th>\n",
       "      <th>number_of_dependants</th>\n",
       "      <th>marital_status</th>\n",
       "      <th>income</th>\n",
       "      <th>_merge</th>\n",
       "    </tr>\n",
       "  </thead>\n",
       "  <tbody>\n",
       "    <tr>\n",
       "      <th>0</th>\n",
       "      <td>1</td>\n",
       "      <td>Chocolate Sandwich Cookies</td>\n",
       "      <td>61</td>\n",
       "      <td>19</td>\n",
       "      <td>5.8</td>\n",
       "      <td>3139998</td>\n",
       "      <td>138</td>\n",
       "      <td>28</td>\n",
       "      <td>6</td>\n",
       "      <td>11</td>\n",
       "      <td>...</td>\n",
       "      <td>Charles</td>\n",
       "      <td>Cox</td>\n",
       "      <td>Male</td>\n",
       "      <td>Minnesota</td>\n",
       "      <td>81</td>\n",
       "      <td>8/1/2019</td>\n",
       "      <td>1</td>\n",
       "      <td>married</td>\n",
       "      <td>49620</td>\n",
       "      <td>both</td>\n",
       "    </tr>\n",
       "    <tr>\n",
       "      <th>1</th>\n",
       "      <td>1</td>\n",
       "      <td>Chocolate Sandwich Cookies</td>\n",
       "      <td>61</td>\n",
       "      <td>19</td>\n",
       "      <td>5.8</td>\n",
       "      <td>1977647</td>\n",
       "      <td>138</td>\n",
       "      <td>30</td>\n",
       "      <td>6</td>\n",
       "      <td>17</td>\n",
       "      <td>...</td>\n",
       "      <td>Charles</td>\n",
       "      <td>Cox</td>\n",
       "      <td>Male</td>\n",
       "      <td>Minnesota</td>\n",
       "      <td>81</td>\n",
       "      <td>8/1/2019</td>\n",
       "      <td>1</td>\n",
       "      <td>married</td>\n",
       "      <td>49620</td>\n",
       "      <td>both</td>\n",
       "    </tr>\n",
       "    <tr>\n",
       "      <th>2</th>\n",
       "      <td>1</td>\n",
       "      <td>Chocolate Sandwich Cookies</td>\n",
       "      <td>61</td>\n",
       "      <td>19</td>\n",
       "      <td>5.8</td>\n",
       "      <td>389851</td>\n",
       "      <td>709</td>\n",
       "      <td>2</td>\n",
       "      <td>0</td>\n",
       "      <td>21</td>\n",
       "      <td>...</td>\n",
       "      <td>Deborah</td>\n",
       "      <td>Glass</td>\n",
       "      <td>Female</td>\n",
       "      <td>Vermont</td>\n",
       "      <td>66</td>\n",
       "      <td>6/16/2018</td>\n",
       "      <td>2</td>\n",
       "      <td>married</td>\n",
       "      <td>158302</td>\n",
       "      <td>both</td>\n",
       "    </tr>\n",
       "    <tr>\n",
       "      <th>3</th>\n",
       "      <td>1</td>\n",
       "      <td>Chocolate Sandwich Cookies</td>\n",
       "      <td>61</td>\n",
       "      <td>19</td>\n",
       "      <td>5.8</td>\n",
       "      <td>652770</td>\n",
       "      <td>764</td>\n",
       "      <td>1</td>\n",
       "      <td>3</td>\n",
       "      <td>13</td>\n",
       "      <td>...</td>\n",
       "      <td>Heather</td>\n",
       "      <td>Myers</td>\n",
       "      <td>Female</td>\n",
       "      <td>Wisconsin</td>\n",
       "      <td>40</td>\n",
       "      <td>2/9/2020</td>\n",
       "      <td>3</td>\n",
       "      <td>married</td>\n",
       "      <td>31308</td>\n",
       "      <td>both</td>\n",
       "    </tr>\n",
       "    <tr>\n",
       "      <th>4</th>\n",
       "      <td>1</td>\n",
       "      <td>Chocolate Sandwich Cookies</td>\n",
       "      <td>61</td>\n",
       "      <td>19</td>\n",
       "      <td>5.8</td>\n",
       "      <td>1813452</td>\n",
       "      <td>764</td>\n",
       "      <td>3</td>\n",
       "      <td>4</td>\n",
       "      <td>17</td>\n",
       "      <td>...</td>\n",
       "      <td>Heather</td>\n",
       "      <td>Myers</td>\n",
       "      <td>Female</td>\n",
       "      <td>Wisconsin</td>\n",
       "      <td>40</td>\n",
       "      <td>2/9/2020</td>\n",
       "      <td>3</td>\n",
       "      <td>married</td>\n",
       "      <td>31308</td>\n",
       "      <td>both</td>\n",
       "    </tr>\n",
       "  </tbody>\n",
       "</table>\n",
       "<p>5 rows × 34 columns</p>\n",
       "</div>"
      ],
      "text/plain": [
       "   product_id                product_name  aisle_id  department_id  prices  \\\n",
       "0           1  Chocolate Sandwich Cookies        61             19     5.8   \n",
       "1           1  Chocolate Sandwich Cookies        61             19     5.8   \n",
       "2           1  Chocolate Sandwich Cookies        61             19     5.8   \n",
       "3           1  Chocolate Sandwich Cookies        61             19     5.8   \n",
       "4           1  Chocolate Sandwich Cookies        61             19     5.8   \n",
       "\n",
       "   order_id user_id  order_number  orders_day_of_week  order_hour_of_day  ...  \\\n",
       "0   3139998     138            28                   6                 11  ...   \n",
       "1   1977647     138            30                   6                 17  ...   \n",
       "2    389851     709             2                   0                 21  ...   \n",
       "3    652770     764             1                   3                 13  ...   \n",
       "4   1813452     764             3                   4                 17  ...   \n",
       "\n",
       "   first_name  last_name  gender      state age date_joined  \\\n",
       "0     Charles        Cox    Male  Minnesota  81    8/1/2019   \n",
       "1     Charles        Cox    Male  Minnesota  81    8/1/2019   \n",
       "2     Deborah      Glass  Female    Vermont  66   6/16/2018   \n",
       "3     Heather      Myers  Female  Wisconsin  40    2/9/2020   \n",
       "4     Heather      Myers  Female  Wisconsin  40    2/9/2020   \n",
       "\n",
       "  number_of_dependants marital_status  income _merge  \n",
       "0                    1        married   49620   both  \n",
       "1                    1        married   49620   both  \n",
       "2                    2        married  158302   both  \n",
       "3                    3        married   31308   both  \n",
       "4                    3        married   31308   both  \n",
       "\n",
       "[5 rows x 34 columns]"
      ]
     },
     "execution_count": 6,
     "metadata": {},
     "output_type": "execute_result"
    }
   ],
   "source": [
    "#checking output\n",
    "df_ords_prods_cust.head()"
   ]
  },
  {
   "cell_type": "markdown",
   "id": "3c4cdb16-89ac-48bd-8500-9514dc61a07e",
   "metadata": {},
   "source": [
    "# 02. Considering Security Implications"
   ]
  },
  {
   "cell_type": "code",
   "execution_count": 8,
   "id": "1873a0f7-1d00-4b7c-a23d-bdbad79bba91",
   "metadata": {},
   "outputs": [],
   "source": [
    "#the columns first_name & last_name have PII\n",
    "#we must drop the columns \n",
    "df_ords_prods_cust = df_ords_prods_cust.drop(columns = ['first_name', 'last_name'], axis = 1) "
   ]
  },
  {
   "cell_type": "code",
   "execution_count": 9,
   "id": "95b3ae04-e4bb-47c8-b7e9-ed075fb176af",
   "metadata": {},
   "outputs": [
    {
     "data": {
      "text/html": [
       "<div>\n",
       "<style scoped>\n",
       "    .dataframe tbody tr th:only-of-type {\n",
       "        vertical-align: middle;\n",
       "    }\n",
       "\n",
       "    .dataframe tbody tr th {\n",
       "        vertical-align: top;\n",
       "    }\n",
       "\n",
       "    .dataframe thead th {\n",
       "        text-align: right;\n",
       "    }\n",
       "</style>\n",
       "<table border=\"1\" class=\"dataframe\">\n",
       "  <thead>\n",
       "    <tr style=\"text-align: right;\">\n",
       "      <th></th>\n",
       "      <th>product_id</th>\n",
       "      <th>product_name</th>\n",
       "      <th>aisle_id</th>\n",
       "      <th>department_id</th>\n",
       "      <th>prices</th>\n",
       "      <th>order_id</th>\n",
       "      <th>user_id</th>\n",
       "      <th>order_number</th>\n",
       "      <th>orders_day_of_week</th>\n",
       "      <th>order_hour_of_day</th>\n",
       "      <th>...</th>\n",
       "      <th>median_days_since_last_order</th>\n",
       "      <th>frequency_flag</th>\n",
       "      <th>gender</th>\n",
       "      <th>state</th>\n",
       "      <th>age</th>\n",
       "      <th>date_joined</th>\n",
       "      <th>number_of_dependants</th>\n",
       "      <th>marital_status</th>\n",
       "      <th>income</th>\n",
       "      <th>_merge</th>\n",
       "    </tr>\n",
       "  </thead>\n",
       "  <tbody>\n",
       "    <tr>\n",
       "      <th>0</th>\n",
       "      <td>1</td>\n",
       "      <td>Chocolate Sandwich Cookies</td>\n",
       "      <td>61</td>\n",
       "      <td>19</td>\n",
       "      <td>5.8</td>\n",
       "      <td>3139998</td>\n",
       "      <td>138</td>\n",
       "      <td>28</td>\n",
       "      <td>6</td>\n",
       "      <td>11</td>\n",
       "      <td>...</td>\n",
       "      <td>8.0</td>\n",
       "      <td>Frequent customer</td>\n",
       "      <td>Male</td>\n",
       "      <td>Minnesota</td>\n",
       "      <td>81</td>\n",
       "      <td>8/1/2019</td>\n",
       "      <td>1</td>\n",
       "      <td>married</td>\n",
       "      <td>49620</td>\n",
       "      <td>both</td>\n",
       "    </tr>\n",
       "    <tr>\n",
       "      <th>1</th>\n",
       "      <td>1</td>\n",
       "      <td>Chocolate Sandwich Cookies</td>\n",
       "      <td>61</td>\n",
       "      <td>19</td>\n",
       "      <td>5.8</td>\n",
       "      <td>1977647</td>\n",
       "      <td>138</td>\n",
       "      <td>30</td>\n",
       "      <td>6</td>\n",
       "      <td>17</td>\n",
       "      <td>...</td>\n",
       "      <td>8.0</td>\n",
       "      <td>Frequent customer</td>\n",
       "      <td>Male</td>\n",
       "      <td>Minnesota</td>\n",
       "      <td>81</td>\n",
       "      <td>8/1/2019</td>\n",
       "      <td>1</td>\n",
       "      <td>married</td>\n",
       "      <td>49620</td>\n",
       "      <td>both</td>\n",
       "    </tr>\n",
       "    <tr>\n",
       "      <th>2</th>\n",
       "      <td>1</td>\n",
       "      <td>Chocolate Sandwich Cookies</td>\n",
       "      <td>61</td>\n",
       "      <td>19</td>\n",
       "      <td>5.8</td>\n",
       "      <td>389851</td>\n",
       "      <td>709</td>\n",
       "      <td>2</td>\n",
       "      <td>0</td>\n",
       "      <td>21</td>\n",
       "      <td>...</td>\n",
       "      <td>8.0</td>\n",
       "      <td>Frequent customer</td>\n",
       "      <td>Female</td>\n",
       "      <td>Vermont</td>\n",
       "      <td>66</td>\n",
       "      <td>6/16/2018</td>\n",
       "      <td>2</td>\n",
       "      <td>married</td>\n",
       "      <td>158302</td>\n",
       "      <td>both</td>\n",
       "    </tr>\n",
       "    <tr>\n",
       "      <th>3</th>\n",
       "      <td>1</td>\n",
       "      <td>Chocolate Sandwich Cookies</td>\n",
       "      <td>61</td>\n",
       "      <td>19</td>\n",
       "      <td>5.8</td>\n",
       "      <td>652770</td>\n",
       "      <td>764</td>\n",
       "      <td>1</td>\n",
       "      <td>3</td>\n",
       "      <td>13</td>\n",
       "      <td>...</td>\n",
       "      <td>9.0</td>\n",
       "      <td>Frequent customer</td>\n",
       "      <td>Female</td>\n",
       "      <td>Wisconsin</td>\n",
       "      <td>40</td>\n",
       "      <td>2/9/2020</td>\n",
       "      <td>3</td>\n",
       "      <td>married</td>\n",
       "      <td>31308</td>\n",
       "      <td>both</td>\n",
       "    </tr>\n",
       "    <tr>\n",
       "      <th>4</th>\n",
       "      <td>1</td>\n",
       "      <td>Chocolate Sandwich Cookies</td>\n",
       "      <td>61</td>\n",
       "      <td>19</td>\n",
       "      <td>5.8</td>\n",
       "      <td>1813452</td>\n",
       "      <td>764</td>\n",
       "      <td>3</td>\n",
       "      <td>4</td>\n",
       "      <td>17</td>\n",
       "      <td>...</td>\n",
       "      <td>9.0</td>\n",
       "      <td>Frequent customer</td>\n",
       "      <td>Female</td>\n",
       "      <td>Wisconsin</td>\n",
       "      <td>40</td>\n",
       "      <td>2/9/2020</td>\n",
       "      <td>3</td>\n",
       "      <td>married</td>\n",
       "      <td>31308</td>\n",
       "      <td>both</td>\n",
       "    </tr>\n",
       "  </tbody>\n",
       "</table>\n",
       "<p>5 rows × 32 columns</p>\n",
       "</div>"
      ],
      "text/plain": [
       "   product_id                product_name  aisle_id  department_id  prices  \\\n",
       "0           1  Chocolate Sandwich Cookies        61             19     5.8   \n",
       "1           1  Chocolate Sandwich Cookies        61             19     5.8   \n",
       "2           1  Chocolate Sandwich Cookies        61             19     5.8   \n",
       "3           1  Chocolate Sandwich Cookies        61             19     5.8   \n",
       "4           1  Chocolate Sandwich Cookies        61             19     5.8   \n",
       "\n",
       "   order_id user_id  order_number  orders_day_of_week  order_hour_of_day  ...  \\\n",
       "0   3139998     138            28                   6                 11  ...   \n",
       "1   1977647     138            30                   6                 17  ...   \n",
       "2    389851     709             2                   0                 21  ...   \n",
       "3    652770     764             1                   3                 13  ...   \n",
       "4   1813452     764             3                   4                 17  ...   \n",
       "\n",
       "   median_days_since_last_order     frequency_flag  gender      state age  \\\n",
       "0                           8.0  Frequent customer    Male  Minnesota  81   \n",
       "1                           8.0  Frequent customer    Male  Minnesota  81   \n",
       "2                           8.0  Frequent customer  Female    Vermont  66   \n",
       "3                           9.0  Frequent customer  Female  Wisconsin  40   \n",
       "4                           9.0  Frequent customer  Female  Wisconsin  40   \n",
       "\n",
       "  date_joined number_of_dependants marital_status  income _merge  \n",
       "0    8/1/2019                    1        married   49620   both  \n",
       "1    8/1/2019                    1        married   49620   both  \n",
       "2   6/16/2018                    2        married  158302   both  \n",
       "3    2/9/2020                    3        married   31308   both  \n",
       "4    2/9/2020                    3        married   31308   both  \n",
       "\n",
       "[5 rows x 32 columns]"
      ]
     },
     "execution_count": 9,
     "metadata": {},
     "output_type": "execute_result"
    }
   ],
   "source": [
    "#checking to see that the columns were dropped\n",
    "df_ords_prods_cust.head()"
   ]
  },
  {
   "cell_type": "code",
   "execution_count": 10,
   "id": "ec814402-b7c0-4bc8-8668-d70b1de55bf2",
   "metadata": {},
   "outputs": [],
   "source": [
    "#columns dropped successfully"
   ]
  },
  {
   "cell_type": "markdown",
   "id": "d3d6685e-3478-4ac3-b093-ba8317ff4680",
   "metadata": {},
   "source": [
    "# 03. Comparing customer behavior in different geographic areas"
   ]
  },
  {
   "cell_type": "code",
   "execution_count": 12,
   "id": "ed7f89bf-be8b-4b64-a98a-2c6faba42370",
   "metadata": {},
   "outputs": [],
   "source": [
    "#creating a “Region” column based on the “State” column\n",
    "#creating a Northeast region\n",
    "Northeast = ['Maine', 'New Hampshire', 'Vermont', 'Massachusetts', 'Rhode Island', 'Connecticut', 'New York', 'Pennsylvania', 'New Jersey'] "
   ]
  },
  {
   "cell_type": "code",
   "execution_count": 13,
   "id": "579181ab-5fd4-42f8-a43d-3f55dd989f43",
   "metadata": {},
   "outputs": [],
   "source": [
    "#creating a Midwest region \n",
    "Midwest = ['Wisconsin', 'Michigan', 'Illinois', 'Indiana', 'Ohio', 'North Dakota', 'South Dakota', 'Nebraska', 'Kansas', 'Minnesota', 'Iowa', 'Missouri']  \n",
    "        "
   ]
  },
  {
   "cell_type": "code",
   "execution_count": 14,
   "id": "4f2812ba-a355-45e7-b950-39d70c848a75",
   "metadata": {},
   "outputs": [],
   "source": [
    "#creating a South region\n",
    "South = ['Delaware', 'Maryland', 'District of Columbia', 'Virginia', 'West Virginia', 'North Carolina', 'South Carolina', 'Georgia', 'Florida', 'Kentucky', 'Tennessee', 'Mississippi', 'Alabama', 'Oklahoma', 'Texas', 'Arkansas', 'Louisiana']  "
   ]
  },
  {
   "cell_type": "code",
   "execution_count": 15,
   "id": "67e8dbfd-f8b5-4e94-b258-9c84db062302",
   "metadata": {},
   "outputs": [],
   "source": [
    "#creating a West region\n",
    "West = ['Idaho', 'Montana', 'Wyoming', 'Nevada', 'Utah', 'Colorado', 'Arizona', 'New Mexico', 'Alaska', 'Washington', 'Oregon', 'California', 'Hawaii']"
   ]
  },
  {
   "cell_type": "code",
   "execution_count": 16,
   "id": "0b25d47e-209f-447d-9329-33f0543bed7e",
   "metadata": {},
   "outputs": [],
   "source": [
    "#creating a region column based on previously defined regions \n",
    "#creating a Northeast region\n",
    "df_ords_prods_cust.loc[df_ords_prods_cust['state'].isin(Northeast),'region']= 'Northeast'"
   ]
  },
  {
   "cell_type": "code",
   "execution_count": 17,
   "id": "c365799a-421c-4528-af02-eadef8f57cd7",
   "metadata": {},
   "outputs": [],
   "source": [
    "#creating Midwest region \n",
    "df_ords_prods_cust.loc[df_ords_prods_cust['state'].isin(Midwest),'region']= 'Midwest'"
   ]
  },
  {
   "cell_type": "code",
   "execution_count": 18,
   "id": "846326dd-9cbd-4fa3-bb5d-4e731e8c96f3",
   "metadata": {},
   "outputs": [],
   "source": [
    "#creating a South region\n",
    "df_ords_prods_cust.loc[df_ords_prods_cust['state'].isin(South),'region']= 'South'"
   ]
  },
  {
   "cell_type": "code",
   "execution_count": 19,
   "id": "38f1dc17-1a5e-4599-b5c9-545a212dcf53",
   "metadata": {},
   "outputs": [],
   "source": [
    "#creating a West region\n",
    "df_ords_prods_cust.loc[df_ords_prods_cust['state'].isin(West),'region']= 'West'"
   ]
  },
  {
   "cell_type": "code",
   "execution_count": 20,
   "id": "d7a5e66e-8fb5-4949-83f4-178f41838118",
   "metadata": {},
   "outputs": [
    {
     "data": {
      "text/html": [
       "<div>\n",
       "<style scoped>\n",
       "    .dataframe tbody tr th:only-of-type {\n",
       "        vertical-align: middle;\n",
       "    }\n",
       "\n",
       "    .dataframe tbody tr th {\n",
       "        vertical-align: top;\n",
       "    }\n",
       "\n",
       "    .dataframe thead th {\n",
       "        text-align: right;\n",
       "    }\n",
       "</style>\n",
       "<table border=\"1\" class=\"dataframe\">\n",
       "  <thead>\n",
       "    <tr style=\"text-align: right;\">\n",
       "      <th></th>\n",
       "      <th>product_id</th>\n",
       "      <th>product_name</th>\n",
       "      <th>aisle_id</th>\n",
       "      <th>department_id</th>\n",
       "      <th>prices</th>\n",
       "      <th>order_id</th>\n",
       "      <th>user_id</th>\n",
       "      <th>order_number</th>\n",
       "      <th>orders_day_of_week</th>\n",
       "      <th>order_hour_of_day</th>\n",
       "      <th>...</th>\n",
       "      <th>frequency_flag</th>\n",
       "      <th>gender</th>\n",
       "      <th>state</th>\n",
       "      <th>age</th>\n",
       "      <th>date_joined</th>\n",
       "      <th>number_of_dependants</th>\n",
       "      <th>marital_status</th>\n",
       "      <th>income</th>\n",
       "      <th>_merge</th>\n",
       "      <th>region</th>\n",
       "    </tr>\n",
       "  </thead>\n",
       "  <tbody>\n",
       "    <tr>\n",
       "      <th>0</th>\n",
       "      <td>1</td>\n",
       "      <td>Chocolate Sandwich Cookies</td>\n",
       "      <td>61</td>\n",
       "      <td>19</td>\n",
       "      <td>5.8</td>\n",
       "      <td>3139998</td>\n",
       "      <td>138</td>\n",
       "      <td>28</td>\n",
       "      <td>6</td>\n",
       "      <td>11</td>\n",
       "      <td>...</td>\n",
       "      <td>Frequent customer</td>\n",
       "      <td>Male</td>\n",
       "      <td>Minnesota</td>\n",
       "      <td>81</td>\n",
       "      <td>8/1/2019</td>\n",
       "      <td>1</td>\n",
       "      <td>married</td>\n",
       "      <td>49620</td>\n",
       "      <td>both</td>\n",
       "      <td>Midwest</td>\n",
       "    </tr>\n",
       "    <tr>\n",
       "      <th>1</th>\n",
       "      <td>1</td>\n",
       "      <td>Chocolate Sandwich Cookies</td>\n",
       "      <td>61</td>\n",
       "      <td>19</td>\n",
       "      <td>5.8</td>\n",
       "      <td>1977647</td>\n",
       "      <td>138</td>\n",
       "      <td>30</td>\n",
       "      <td>6</td>\n",
       "      <td>17</td>\n",
       "      <td>...</td>\n",
       "      <td>Frequent customer</td>\n",
       "      <td>Male</td>\n",
       "      <td>Minnesota</td>\n",
       "      <td>81</td>\n",
       "      <td>8/1/2019</td>\n",
       "      <td>1</td>\n",
       "      <td>married</td>\n",
       "      <td>49620</td>\n",
       "      <td>both</td>\n",
       "      <td>Midwest</td>\n",
       "    </tr>\n",
       "    <tr>\n",
       "      <th>2</th>\n",
       "      <td>1</td>\n",
       "      <td>Chocolate Sandwich Cookies</td>\n",
       "      <td>61</td>\n",
       "      <td>19</td>\n",
       "      <td>5.8</td>\n",
       "      <td>389851</td>\n",
       "      <td>709</td>\n",
       "      <td>2</td>\n",
       "      <td>0</td>\n",
       "      <td>21</td>\n",
       "      <td>...</td>\n",
       "      <td>Frequent customer</td>\n",
       "      <td>Female</td>\n",
       "      <td>Vermont</td>\n",
       "      <td>66</td>\n",
       "      <td>6/16/2018</td>\n",
       "      <td>2</td>\n",
       "      <td>married</td>\n",
       "      <td>158302</td>\n",
       "      <td>both</td>\n",
       "      <td>Northeast</td>\n",
       "    </tr>\n",
       "    <tr>\n",
       "      <th>3</th>\n",
       "      <td>1</td>\n",
       "      <td>Chocolate Sandwich Cookies</td>\n",
       "      <td>61</td>\n",
       "      <td>19</td>\n",
       "      <td>5.8</td>\n",
       "      <td>652770</td>\n",
       "      <td>764</td>\n",
       "      <td>1</td>\n",
       "      <td>3</td>\n",
       "      <td>13</td>\n",
       "      <td>...</td>\n",
       "      <td>Frequent customer</td>\n",
       "      <td>Female</td>\n",
       "      <td>Wisconsin</td>\n",
       "      <td>40</td>\n",
       "      <td>2/9/2020</td>\n",
       "      <td>3</td>\n",
       "      <td>married</td>\n",
       "      <td>31308</td>\n",
       "      <td>both</td>\n",
       "      <td>Midwest</td>\n",
       "    </tr>\n",
       "    <tr>\n",
       "      <th>4</th>\n",
       "      <td>1</td>\n",
       "      <td>Chocolate Sandwich Cookies</td>\n",
       "      <td>61</td>\n",
       "      <td>19</td>\n",
       "      <td>5.8</td>\n",
       "      <td>1813452</td>\n",
       "      <td>764</td>\n",
       "      <td>3</td>\n",
       "      <td>4</td>\n",
       "      <td>17</td>\n",
       "      <td>...</td>\n",
       "      <td>Frequent customer</td>\n",
       "      <td>Female</td>\n",
       "      <td>Wisconsin</td>\n",
       "      <td>40</td>\n",
       "      <td>2/9/2020</td>\n",
       "      <td>3</td>\n",
       "      <td>married</td>\n",
       "      <td>31308</td>\n",
       "      <td>both</td>\n",
       "      <td>Midwest</td>\n",
       "    </tr>\n",
       "  </tbody>\n",
       "</table>\n",
       "<p>5 rows × 33 columns</p>\n",
       "</div>"
      ],
      "text/plain": [
       "   product_id                product_name  aisle_id  department_id  prices  \\\n",
       "0           1  Chocolate Sandwich Cookies        61             19     5.8   \n",
       "1           1  Chocolate Sandwich Cookies        61             19     5.8   \n",
       "2           1  Chocolate Sandwich Cookies        61             19     5.8   \n",
       "3           1  Chocolate Sandwich Cookies        61             19     5.8   \n",
       "4           1  Chocolate Sandwich Cookies        61             19     5.8   \n",
       "\n",
       "   order_id user_id  order_number  orders_day_of_week  order_hour_of_day  ...  \\\n",
       "0   3139998     138            28                   6                 11  ...   \n",
       "1   1977647     138            30                   6                 17  ...   \n",
       "2    389851     709             2                   0                 21  ...   \n",
       "3    652770     764             1                   3                 13  ...   \n",
       "4   1813452     764             3                   4                 17  ...   \n",
       "\n",
       "      frequency_flag  gender      state  age date_joined number_of_dependants  \\\n",
       "0  Frequent customer    Male  Minnesota   81    8/1/2019                    1   \n",
       "1  Frequent customer    Male  Minnesota   81    8/1/2019                    1   \n",
       "2  Frequent customer  Female    Vermont   66   6/16/2018                    2   \n",
       "3  Frequent customer  Female  Wisconsin   40    2/9/2020                    3   \n",
       "4  Frequent customer  Female  Wisconsin   40    2/9/2020                    3   \n",
       "\n",
       "  marital_status  income  _merge     region  \n",
       "0        married   49620    both    Midwest  \n",
       "1        married   49620    both    Midwest  \n",
       "2        married  158302    both  Northeast  \n",
       "3        married   31308    both    Midwest  \n",
       "4        married   31308    both    Midwest  \n",
       "\n",
       "[5 rows x 33 columns]"
      ]
     },
     "execution_count": 20,
     "metadata": {},
     "output_type": "execute_result"
    }
   ],
   "source": [
    "#checking to see that the region column was created\n",
    "df_ords_prods_cust.head()"
   ]
  },
  {
   "cell_type": "code",
   "execution_count": 21,
   "id": "99287072-9cca-4869-9a17-6b9237e046a2",
   "metadata": {},
   "outputs": [
    {
     "data": {
      "text/plain": [
       "region\n",
       "South        10791885\n",
       "West          8292913\n",
       "Midwest       7597325\n",
       "Northeast     5722736\n",
       "Name: count, dtype: int64"
      ]
     },
     "execution_count": 21,
     "metadata": {},
     "output_type": "execute_result"
    }
   ],
   "source": [
    "#checking the values of the new region column\n",
    "df_ords_prods_cust['region'].value_counts(dropna = False)"
   ]
  },
  {
   "cell_type": "code",
   "execution_count": 22,
   "id": "100cd6f6-3d1a-461e-b19e-302c1eb84df4",
   "metadata": {},
   "outputs": [],
   "source": [
    "#Determining whether there’s a difference in spending habits between different regions by creating a region and spending_flag crosstab\n",
    "spending_habits_by_region = pd.crosstab(df_ords_prods_cust['region'], df_ords_prods_cust['spending_flag'], dropna = False)"
   ]
  },
  {
   "cell_type": "code",
   "execution_count": 23,
   "id": "7f478ba2-43e2-4a98-97ba-32902763e33e",
   "metadata": {
    "scrolled": true
   },
   "outputs": [
    {
     "data": {
      "text/html": [
       "<div>\n",
       "<style scoped>\n",
       "    .dataframe tbody tr th:only-of-type {\n",
       "        vertical-align: middle;\n",
       "    }\n",
       "\n",
       "    .dataframe tbody tr th {\n",
       "        vertical-align: top;\n",
       "    }\n",
       "\n",
       "    .dataframe thead th {\n",
       "        text-align: right;\n",
       "    }\n",
       "</style>\n",
       "<table border=\"1\" class=\"dataframe\">\n",
       "  <thead>\n",
       "    <tr style=\"text-align: right;\">\n",
       "      <th>spending_flag</th>\n",
       "      <th>High spender</th>\n",
       "      <th>Low spender</th>\n",
       "    </tr>\n",
       "    <tr>\n",
       "      <th>region</th>\n",
       "      <th></th>\n",
       "      <th></th>\n",
       "    </tr>\n",
       "  </thead>\n",
       "  <tbody>\n",
       "    <tr>\n",
       "      <th>Midwest</th>\n",
       "      <td>29265</td>\n",
       "      <td>7568060</td>\n",
       "    </tr>\n",
       "    <tr>\n",
       "      <th>Northeast</th>\n",
       "      <td>18642</td>\n",
       "      <td>5704094</td>\n",
       "    </tr>\n",
       "    <tr>\n",
       "      <th>South</th>\n",
       "      <td>40579</td>\n",
       "      <td>10751306</td>\n",
       "    </tr>\n",
       "    <tr>\n",
       "      <th>West</th>\n",
       "      <td>31223</td>\n",
       "      <td>8261690</td>\n",
       "    </tr>\n",
       "  </tbody>\n",
       "</table>\n",
       "</div>"
      ],
      "text/plain": [
       "spending_flag  High spender  Low spender\n",
       "region                                  \n",
       "Midwest               29265      7568060\n",
       "Northeast             18642      5704094\n",
       "South                 40579     10751306\n",
       "West                  31223      8261690"
      ]
     },
     "execution_count": 23,
     "metadata": {},
     "output_type": "execute_result"
    }
   ],
   "source": [
    "spending_habits_by_region"
   ]
  },
  {
   "cell_type": "code",
   "execution_count": 24,
   "id": "fb53f20a-9935-4c9d-854c-9aa2ebabfbeb",
   "metadata": {},
   "outputs": [
    {
     "data": {
      "text/plain": [
       "<matplotlib.legend.Legend at 0x203c36351f0>"
      ]
     },
     "execution_count": 24,
     "metadata": {},
     "output_type": "execute_result"
    },
    {
     "data": {
      "image/png": "[encoded data removed]",
      "text/plain": [
       "<Figure size 640x480 with 1 Axes>"
      ]
     },
     "metadata": {},
     "output_type": "display_data"
    }
   ],
   "source": [
    "bar_spending_habits_by_region = spending_habits_by_region.plot.bar()\n",
    "plt.title('Spending Habits by Region')\n",
    "plt.xlabel('Region')\n",
    "plt.ylabel('Counts')\n",
    "plt.legend(title='Spending Habit')"
   ]
  },
  {
   "cell_type": "markdown",
   "id": "7ebe212f-4d13-4aa0-a7cb-ce9cc93a8eae",
   "metadata": {},
   "source": [
    "For every region, there is a significantly larger number of low spenders than there are high spenders.\n",
    "The South has the most low spenders while the Northeast has the least."
   ]
  },
  {
   "cell_type": "code",
   "execution_count": 26,
   "id": "a26be617-430c-430f-aa06-e8e825e6264f",
   "metadata": {},
   "outputs": [],
   "source": [
    "bar_spending_habits_by_region.figure.savefig((os.path.join(path, '04 Analysis','Visualizations', 'bar_spending_habits_by_region.png')), bbox_inches='tight')"
   ]
  },
  {
   "cell_type": "markdown",
   "id": "867900f1-5d42-4b08-8643-1fb95a691803",
   "metadata": {},
   "source": [
    "# 04. Removing Low Activity Customers "
   ]
  },
  {
   "cell_type": "code",
   "execution_count": 28,
   "id": "a1b6c782-0d7c-4186-921c-48514a2627f2",
   "metadata": {},
   "outputs": [],
   "source": [
    "#creating flag for low activity customers\n",
    "df_ords_prods_cust.loc[df_ords_prods_cust['max_order'] < 5, 'activity_flag'] = 'Low Activity'"
   ]
  },
  {
   "cell_type": "code",
   "execution_count": 29,
   "id": "0cc393bc-c47b-49c3-a82a-4e34bbced336",
   "metadata": {},
   "outputs": [],
   "source": [
    "#creating flag for high activity customers\n",
    "df_ords_prods_cust.loc[df_ords_prods_cust['max_order'] >= 5, 'activity_flag'] = 'High Activity'"
   ]
  },
  {
   "cell_type": "code",
   "execution_count": 30,
   "id": "57ccce24-1cf7-40d5-94a7-ef82adb66360",
   "metadata": {},
   "outputs": [
    {
     "data": {
      "text/html": [
       "<div>\n",
       "<style scoped>\n",
       "    .dataframe tbody tr th:only-of-type {\n",
       "        vertical-align: middle;\n",
       "    }\n",
       "\n",
       "    .dataframe tbody tr th {\n",
       "        vertical-align: top;\n",
       "    }\n",
       "\n",
       "    .dataframe thead th {\n",
       "        text-align: right;\n",
       "    }\n",
       "</style>\n",
       "<table border=\"1\" class=\"dataframe\">\n",
       "  <thead>\n",
       "    <tr style=\"text-align: right;\">\n",
       "      <th></th>\n",
       "      <th>product_id</th>\n",
       "      <th>product_name</th>\n",
       "      <th>aisle_id</th>\n",
       "      <th>department_id</th>\n",
       "      <th>prices</th>\n",
       "      <th>order_id</th>\n",
       "      <th>user_id</th>\n",
       "      <th>order_number</th>\n",
       "      <th>orders_day_of_week</th>\n",
       "      <th>order_hour_of_day</th>\n",
       "      <th>...</th>\n",
       "      <th>gender</th>\n",
       "      <th>state</th>\n",
       "      <th>age</th>\n",
       "      <th>date_joined</th>\n",
       "      <th>number_of_dependants</th>\n",
       "      <th>marital_status</th>\n",
       "      <th>income</th>\n",
       "      <th>_merge</th>\n",
       "      <th>region</th>\n",
       "      <th>activity_flag</th>\n",
       "    </tr>\n",
       "  </thead>\n",
       "  <tbody>\n",
       "    <tr>\n",
       "      <th>0</th>\n",
       "      <td>1</td>\n",
       "      <td>Chocolate Sandwich Cookies</td>\n",
       "      <td>61</td>\n",
       "      <td>19</td>\n",
       "      <td>5.8</td>\n",
       "      <td>3139998</td>\n",
       "      <td>138</td>\n",
       "      <td>28</td>\n",
       "      <td>6</td>\n",
       "      <td>11</td>\n",
       "      <td>...</td>\n",
       "      <td>Male</td>\n",
       "      <td>Minnesota</td>\n",
       "      <td>81</td>\n",
       "      <td>8/1/2019</td>\n",
       "      <td>1</td>\n",
       "      <td>married</td>\n",
       "      <td>49620</td>\n",
       "      <td>both</td>\n",
       "      <td>Midwest</td>\n",
       "      <td>High Activity</td>\n",
       "    </tr>\n",
       "    <tr>\n",
       "      <th>1</th>\n",
       "      <td>1</td>\n",
       "      <td>Chocolate Sandwich Cookies</td>\n",
       "      <td>61</td>\n",
       "      <td>19</td>\n",
       "      <td>5.8</td>\n",
       "      <td>1977647</td>\n",
       "      <td>138</td>\n",
       "      <td>30</td>\n",
       "      <td>6</td>\n",
       "      <td>17</td>\n",
       "      <td>...</td>\n",
       "      <td>Male</td>\n",
       "      <td>Minnesota</td>\n",
       "      <td>81</td>\n",
       "      <td>8/1/2019</td>\n",
       "      <td>1</td>\n",
       "      <td>married</td>\n",
       "      <td>49620</td>\n",
       "      <td>both</td>\n",
       "      <td>Midwest</td>\n",
       "      <td>High Activity</td>\n",
       "    </tr>\n",
       "    <tr>\n",
       "      <th>2</th>\n",
       "      <td>1</td>\n",
       "      <td>Chocolate Sandwich Cookies</td>\n",
       "      <td>61</td>\n",
       "      <td>19</td>\n",
       "      <td>5.8</td>\n",
       "      <td>389851</td>\n",
       "      <td>709</td>\n",
       "      <td>2</td>\n",
       "      <td>0</td>\n",
       "      <td>21</td>\n",
       "      <td>...</td>\n",
       "      <td>Female</td>\n",
       "      <td>Vermont</td>\n",
       "      <td>66</td>\n",
       "      <td>6/16/2018</td>\n",
       "      <td>2</td>\n",
       "      <td>married</td>\n",
       "      <td>158302</td>\n",
       "      <td>both</td>\n",
       "      <td>Northeast</td>\n",
       "      <td>High Activity</td>\n",
       "    </tr>\n",
       "    <tr>\n",
       "      <th>3</th>\n",
       "      <td>1</td>\n",
       "      <td>Chocolate Sandwich Cookies</td>\n",
       "      <td>61</td>\n",
       "      <td>19</td>\n",
       "      <td>5.8</td>\n",
       "      <td>652770</td>\n",
       "      <td>764</td>\n",
       "      <td>1</td>\n",
       "      <td>3</td>\n",
       "      <td>13</td>\n",
       "      <td>...</td>\n",
       "      <td>Female</td>\n",
       "      <td>Wisconsin</td>\n",
       "      <td>40</td>\n",
       "      <td>2/9/2020</td>\n",
       "      <td>3</td>\n",
       "      <td>married</td>\n",
       "      <td>31308</td>\n",
       "      <td>both</td>\n",
       "      <td>Midwest</td>\n",
       "      <td>Low Activity</td>\n",
       "    </tr>\n",
       "    <tr>\n",
       "      <th>4</th>\n",
       "      <td>1</td>\n",
       "      <td>Chocolate Sandwich Cookies</td>\n",
       "      <td>61</td>\n",
       "      <td>19</td>\n",
       "      <td>5.8</td>\n",
       "      <td>1813452</td>\n",
       "      <td>764</td>\n",
       "      <td>3</td>\n",
       "      <td>4</td>\n",
       "      <td>17</td>\n",
       "      <td>...</td>\n",
       "      <td>Female</td>\n",
       "      <td>Wisconsin</td>\n",
       "      <td>40</td>\n",
       "      <td>2/9/2020</td>\n",
       "      <td>3</td>\n",
       "      <td>married</td>\n",
       "      <td>31308</td>\n",
       "      <td>both</td>\n",
       "      <td>Midwest</td>\n",
       "      <td>Low Activity</td>\n",
       "    </tr>\n",
       "  </tbody>\n",
       "</table>\n",
       "<p>5 rows × 34 columns</p>\n",
       "</div>"
      ],
      "text/plain": [
       "   product_id                product_name  aisle_id  department_id  prices  \\\n",
       "0           1  Chocolate Sandwich Cookies        61             19     5.8   \n",
       "1           1  Chocolate Sandwich Cookies        61             19     5.8   \n",
       "2           1  Chocolate Sandwich Cookies        61             19     5.8   \n",
       "3           1  Chocolate Sandwich Cookies        61             19     5.8   \n",
       "4           1  Chocolate Sandwich Cookies        61             19     5.8   \n",
       "\n",
       "   order_id user_id  order_number  orders_day_of_week  order_hour_of_day  ...  \\\n",
       "0   3139998     138            28                   6                 11  ...   \n",
       "1   1977647     138            30                   6                 17  ...   \n",
       "2    389851     709             2                   0                 21  ...   \n",
       "3    652770     764             1                   3                 13  ...   \n",
       "4   1813452     764             3                   4                 17  ...   \n",
       "\n",
       "   gender      state  age  date_joined number_of_dependants marital_status  \\\n",
       "0    Male  Minnesota   81     8/1/2019                    1        married   \n",
       "1    Male  Minnesota   81     8/1/2019                    1        married   \n",
       "2  Female    Vermont   66    6/16/2018                    2        married   \n",
       "3  Female  Wisconsin   40     2/9/2020                    3        married   \n",
       "4  Female  Wisconsin   40     2/9/2020                    3        married   \n",
       "\n",
       "   income _merge     region  activity_flag  \n",
       "0   49620   both    Midwest  High Activity  \n",
       "1   49620   both    Midwest  High Activity  \n",
       "2  158302   both  Northeast  High Activity  \n",
       "3   31308   both    Midwest   Low Activity  \n",
       "4   31308   both    Midwest   Low Activity  \n",
       "\n",
       "[5 rows x 34 columns]"
      ]
     },
     "execution_count": 30,
     "metadata": {},
     "output_type": "execute_result"
    }
   ],
   "source": [
    "#checking to see if activity_flag has been added\n",
    "df_ords_prods_cust.head()"
   ]
  },
  {
   "cell_type": "code",
   "execution_count": 31,
   "id": "8e4fdfe7-f440-484f-b9c7-c10840a21265",
   "metadata": {},
   "outputs": [],
   "source": [
    "#activity flag successfully added"
   ]
  },
  {
   "cell_type": "code",
   "execution_count": 32,
   "id": "ca8d1356-618a-4f1d-9c02-532937392399",
   "metadata": {},
   "outputs": [
    {
     "data": {
      "text/plain": [
       "activity_flag\n",
       "High Activity    30964564\n",
       "Low Activity      1440295\n",
       "Name: count, dtype: int64"
      ]
     },
     "execution_count": 32,
     "metadata": {},
     "output_type": "execute_result"
    }
   ],
   "source": [
    "#cheking the values for the new activity_flag column\n",
    "df_ords_prods_cust['activity_flag'].value_counts(dropna = False)"
   ]
  },
  {
   "cell_type": "code",
   "execution_count": 33,
   "id": "6548a2cb-9ec9-4cd5-a242-5da5e25a51d7",
   "metadata": {},
   "outputs": [
    {
     "data": {
      "text/plain": [
       "(32404859, 34)"
      ]
     },
     "execution_count": 33,
     "metadata": {},
     "output_type": "execute_result"
    }
   ],
   "source": [
    "#checking shape\n",
    "df_ords_prods_cust.shape"
   ]
  },
  {
   "cell_type": "code",
   "execution_count": 34,
   "id": "45b6a76d-449c-41fe-a06f-378606960360",
   "metadata": {},
   "outputs": [],
   "source": [
    "#excluding low activity customers from the data\n",
    "df_high_activity =  df_ords_prods_cust[df_ords_prods_cust['activity_flag']=='High Activity']"
   ]
  },
  {
   "cell_type": "code",
   "execution_count": 35,
   "id": "68d39702-c2c7-4ee2-a8b2-ab7d1870b781",
   "metadata": {},
   "outputs": [
    {
     "data": {
      "text/plain": [
       "(30964564, 34)"
      ]
     },
     "execution_count": 35,
     "metadata": {},
     "output_type": "execute_result"
    }
   ],
   "source": [
    "df_high_activity.shape"
   ]
  },
  {
   "cell_type": "code",
   "execution_count": 36,
   "id": "1ef22025-7a19-4cb3-9ac2-9adc2488a21b",
   "metadata": {},
   "outputs": [],
   "source": [
    "#df_high_activity has the same amount of rows as frequency count"
   ]
  },
  {
   "cell_type": "code",
   "execution_count": 37,
   "id": "731aff37-9523-408b-99c6-2dcfd70b7cf2",
   "metadata": {},
   "outputs": [],
   "source": [
    "#exporting df_high_activity dataframe \n",
    "df_high_activity.to_pickle(os.path.join(path, '02 Data','Prepared Data', 'ords_prods_cust_high_activity.pkl'))"
   ]
  },
  {
   "cell_type": "code",
   "execution_count": 38,
   "id": "d4ef3a08-db89-4c9d-8a71-b6705b7cf9a6",
   "metadata": {},
   "outputs": [],
   "source": [
    "#exporting df_cust_ords_cust which includes region and activity flag\n",
    "df_ords_prods_cust.to_pickle(os.path.join(path, '02 Data','Prepared Data', 'ords_prods_cust_region_activity.pkl'))"
   ]
  },
  {
   "cell_type": "code",
   "execution_count": 39,
   "id": "9ef19ec0-6f99-4530-bc97-810d63a70e99",
   "metadata": {},
   "outputs": [],
   "source": [
    "#changing df_ords_prods_cust to only include high activity customers \n",
    "df_ords_prods_cust = df_high_activity"
   ]
  },
  {
   "cell_type": "code",
   "execution_count": 40,
   "id": "87bdd023-3883-4000-92f9-326ff6f6cd5a",
   "metadata": {},
   "outputs": [
    {
     "data": {
      "text/plain": [
       "(30964564, 34)"
      ]
     },
     "execution_count": 40,
     "metadata": {},
     "output_type": "execute_result"
    }
   ],
   "source": [
    "#checking shape \n",
    "df_ords_prods_cust.shape"
   ]
  },
  {
   "cell_type": "code",
   "execution_count": 41,
   "id": "1196c021-e534-4fcf-9525-c22f19c7a77a",
   "metadata": {},
   "outputs": [],
   "source": [
    "#shapes match"
   ]
  },
  {
   "cell_type": "markdown",
   "id": "c64cbc09-a91d-4062-a89a-99060338a7fb",
   "metadata": {},
   "source": [
    "# 05. Creating a profiling variable based on age, income, certain goods in the “department_id” column, and number of dependents. "
   ]
  },
  {
   "cell_type": "markdown",
   "id": "a1392eee-e445-4a8e-9c94-c2e2d3aca2d5",
   "metadata": {},
   "source": [
    "## Age Variable"
   ]
  },
  {
   "cell_type": "code",
   "execution_count": 44,
   "id": "4eae700f-3cea-4bf0-a627-92dafdfd63c3",
   "metadata": {},
   "outputs": [],
   "source": [
    "#creating profiling variable based on age\n",
    "#creating an 'Adult' age group\n",
    "df_ords_prods_cust.loc[df_ords_prods_cust['age'] < 40, 'age_group'] = 'Adult'"
   ]
  },
  {
   "cell_type": "code",
   "execution_count": 45,
   "id": "2c4d6b62-5723-41a0-92ea-6549fd156c7c",
   "metadata": {},
   "outputs": [],
   "source": [
    "#creating a 'Middle Adult' age group\n",
    "df_ords_prods_cust.loc[(df_ords_prods_cust['age'] >= 40) & (df_ords_prods_cust['age'] <65), 'age_group'] = 'Middle Adult'"
   ]
  },
  {
   "cell_type": "code",
   "execution_count": 46,
   "id": "c0e14bb9-7145-4b6c-8f4f-ea09f460ad67",
   "metadata": {},
   "outputs": [],
   "source": [
    "#creating a 'Senior Adult' age group \n",
    "df_ords_prods_cust.loc[df_ords_prods_cust['age'] >= 65, 'age_group'] = 'Senior Adult'"
   ]
  },
  {
   "cell_type": "code",
   "execution_count": 47,
   "id": "39e07c48-f6e9-417b-8204-304b53106f7e",
   "metadata": {},
   "outputs": [
    {
     "data": {
      "text/html": [
       "<div>\n",
       "<style scoped>\n",
       "    .dataframe tbody tr th:only-of-type {\n",
       "        vertical-align: middle;\n",
       "    }\n",
       "\n",
       "    .dataframe tbody tr th {\n",
       "        vertical-align: top;\n",
       "    }\n",
       "\n",
       "    .dataframe thead th {\n",
       "        text-align: right;\n",
       "    }\n",
       "</style>\n",
       "<table border=\"1\" class=\"dataframe\">\n",
       "  <thead>\n",
       "    <tr style=\"text-align: right;\">\n",
       "      <th></th>\n",
       "      <th>product_id</th>\n",
       "      <th>product_name</th>\n",
       "      <th>aisle_id</th>\n",
       "      <th>department_id</th>\n",
       "      <th>prices</th>\n",
       "      <th>order_id</th>\n",
       "      <th>user_id</th>\n",
       "      <th>order_number</th>\n",
       "      <th>orders_day_of_week</th>\n",
       "      <th>order_hour_of_day</th>\n",
       "      <th>...</th>\n",
       "      <th>state</th>\n",
       "      <th>age</th>\n",
       "      <th>date_joined</th>\n",
       "      <th>number_of_dependants</th>\n",
       "      <th>marital_status</th>\n",
       "      <th>income</th>\n",
       "      <th>_merge</th>\n",
       "      <th>region</th>\n",
       "      <th>activity_flag</th>\n",
       "      <th>age_group</th>\n",
       "    </tr>\n",
       "  </thead>\n",
       "  <tbody>\n",
       "    <tr>\n",
       "      <th>0</th>\n",
       "      <td>1</td>\n",
       "      <td>Chocolate Sandwich Cookies</td>\n",
       "      <td>61</td>\n",
       "      <td>19</td>\n",
       "      <td>5.8</td>\n",
       "      <td>3139998</td>\n",
       "      <td>138</td>\n",
       "      <td>28</td>\n",
       "      <td>6</td>\n",
       "      <td>11</td>\n",
       "      <td>...</td>\n",
       "      <td>Minnesota</td>\n",
       "      <td>81</td>\n",
       "      <td>8/1/2019</td>\n",
       "      <td>1</td>\n",
       "      <td>married</td>\n",
       "      <td>49620</td>\n",
       "      <td>both</td>\n",
       "      <td>Midwest</td>\n",
       "      <td>High Activity</td>\n",
       "      <td>Senior Adult</td>\n",
       "    </tr>\n",
       "    <tr>\n",
       "      <th>1</th>\n",
       "      <td>1</td>\n",
       "      <td>Chocolate Sandwich Cookies</td>\n",
       "      <td>61</td>\n",
       "      <td>19</td>\n",
       "      <td>5.8</td>\n",
       "      <td>1977647</td>\n",
       "      <td>138</td>\n",
       "      <td>30</td>\n",
       "      <td>6</td>\n",
       "      <td>17</td>\n",
       "      <td>...</td>\n",
       "      <td>Minnesota</td>\n",
       "      <td>81</td>\n",
       "      <td>8/1/2019</td>\n",
       "      <td>1</td>\n",
       "      <td>married</td>\n",
       "      <td>49620</td>\n",
       "      <td>both</td>\n",
       "      <td>Midwest</td>\n",
       "      <td>High Activity</td>\n",
       "      <td>Senior Adult</td>\n",
       "    </tr>\n",
       "    <tr>\n",
       "      <th>2</th>\n",
       "      <td>1</td>\n",
       "      <td>Chocolate Sandwich Cookies</td>\n",
       "      <td>61</td>\n",
       "      <td>19</td>\n",
       "      <td>5.8</td>\n",
       "      <td>389851</td>\n",
       "      <td>709</td>\n",
       "      <td>2</td>\n",
       "      <td>0</td>\n",
       "      <td>21</td>\n",
       "      <td>...</td>\n",
       "      <td>Vermont</td>\n",
       "      <td>66</td>\n",
       "      <td>6/16/2018</td>\n",
       "      <td>2</td>\n",
       "      <td>married</td>\n",
       "      <td>158302</td>\n",
       "      <td>both</td>\n",
       "      <td>Northeast</td>\n",
       "      <td>High Activity</td>\n",
       "      <td>Senior Adult</td>\n",
       "    </tr>\n",
       "    <tr>\n",
       "      <th>5</th>\n",
       "      <td>1</td>\n",
       "      <td>Chocolate Sandwich Cookies</td>\n",
       "      <td>61</td>\n",
       "      <td>19</td>\n",
       "      <td>5.8</td>\n",
       "      <td>1701441</td>\n",
       "      <td>777</td>\n",
       "      <td>16</td>\n",
       "      <td>1</td>\n",
       "      <td>7</td>\n",
       "      <td>...</td>\n",
       "      <td>Hawaii</td>\n",
       "      <td>51</td>\n",
       "      <td>1/4/2019</td>\n",
       "      <td>2</td>\n",
       "      <td>married</td>\n",
       "      <td>57797</td>\n",
       "      <td>both</td>\n",
       "      <td>West</td>\n",
       "      <td>High Activity</td>\n",
       "      <td>Middle Adult</td>\n",
       "    </tr>\n",
       "    <tr>\n",
       "      <th>6</th>\n",
       "      <td>1</td>\n",
       "      <td>Chocolate Sandwich Cookies</td>\n",
       "      <td>61</td>\n",
       "      <td>19</td>\n",
       "      <td>5.8</td>\n",
       "      <td>1871483</td>\n",
       "      <td>825</td>\n",
       "      <td>3</td>\n",
       "      <td>2</td>\n",
       "      <td>14</td>\n",
       "      <td>...</td>\n",
       "      <td>District of Columbia</td>\n",
       "      <td>20</td>\n",
       "      <td>5/8/2019</td>\n",
       "      <td>3</td>\n",
       "      <td>living with parents and siblings</td>\n",
       "      <td>34171</td>\n",
       "      <td>both</td>\n",
       "      <td>South</td>\n",
       "      <td>High Activity</td>\n",
       "      <td>Adult</td>\n",
       "    </tr>\n",
       "  </tbody>\n",
       "</table>\n",
       "<p>5 rows × 35 columns</p>\n",
       "</div>"
      ],
      "text/plain": [
       "   product_id                product_name  aisle_id  department_id  prices  \\\n",
       "0           1  Chocolate Sandwich Cookies        61             19     5.8   \n",
       "1           1  Chocolate Sandwich Cookies        61             19     5.8   \n",
       "2           1  Chocolate Sandwich Cookies        61             19     5.8   \n",
       "5           1  Chocolate Sandwich Cookies        61             19     5.8   \n",
       "6           1  Chocolate Sandwich Cookies        61             19     5.8   \n",
       "\n",
       "   order_id user_id  order_number  orders_day_of_week  order_hour_of_day  ...  \\\n",
       "0   3139998     138            28                   6                 11  ...   \n",
       "1   1977647     138            30                   6                 17  ...   \n",
       "2    389851     709             2                   0                 21  ...   \n",
       "5   1701441     777            16                   1                  7  ...   \n",
       "6   1871483     825             3                   2                 14  ...   \n",
       "\n",
       "                  state  age  date_joined  number_of_dependants  \\\n",
       "0             Minnesota   81     8/1/2019                     1   \n",
       "1             Minnesota   81     8/1/2019                     1   \n",
       "2               Vermont   66    6/16/2018                     2   \n",
       "5                Hawaii   51     1/4/2019                     2   \n",
       "6  District of Columbia   20     5/8/2019                     3   \n",
       "\n",
       "                     marital_status  income _merge     region  activity_flag  \\\n",
       "0                           married   49620   both    Midwest  High Activity   \n",
       "1                           married   49620   both    Midwest  High Activity   \n",
       "2                           married  158302   both  Northeast  High Activity   \n",
       "5                           married   57797   both       West  High Activity   \n",
       "6  living with parents and siblings   34171   both      South  High Activity   \n",
       "\n",
       "      age_group  \n",
       "0  Senior Adult  \n",
       "1  Senior Adult  \n",
       "2  Senior Adult  \n",
       "5  Middle Adult  \n",
       "6         Adult  \n",
       "\n",
       "[5 rows x 35 columns]"
      ]
     },
     "execution_count": 47,
     "metadata": {},
     "output_type": "execute_result"
    }
   ],
   "source": [
    "#checking to see if age group has been added\n",
    "df_ords_prods_cust.head()"
   ]
  },
  {
   "cell_type": "code",
   "execution_count": 48,
   "id": "9448a9a3-5a16-4732-8b1f-fb4d0accaec7",
   "metadata": {},
   "outputs": [
    {
     "data": {
      "text/plain": [
       "age_group\n",
       "Middle Adult    12103910\n",
       "Adult           10665110\n",
       "Senior Adult     8195544\n",
       "Name: count, dtype: int64"
      ]
     },
     "execution_count": 48,
     "metadata": {},
     "output_type": "execute_result"
    }
   ],
   "source": [
    "#checking values in the new age group column \n",
    "df_ords_prods_cust['age_group'].value_counts(dropna = False)"
   ]
  },
  {
   "cell_type": "code",
   "execution_count": 79,
   "id": "80dd67a3-aed8-43b0-b68f-cce12eb894c9",
   "metadata": {
    "scrolled": true
   },
   "outputs": [
    {
     "data": {
      "text/plain": [
       "([<matplotlib.axis.XTick at 0x204b417a0f0>,\n",
       "  <matplotlib.axis.XTick at 0x204b417b230>,\n",
       "  <matplotlib.axis.XTick at 0x203c3e55fd0>],\n",
       " [Text(0, 0, 'Middle Adult: >=40 & <65 years'),\n",
       "  Text(1, 0, 'Adult: <40 years'),\n",
       "  Text(2, 0, 'Senior Adult:>=65 years')])"
      ]
     },
     "execution_count": 79,
     "metadata": {},
     "output_type": "execute_result"
    },
    {
     "data": {
      "image/png": "[encoded data removed]",
      "text/plain": [
       "<Figure size 640x480 with 1 Axes>"
      ]
     },
     "metadata": {},
     "output_type": "display_data"
    }
   ],
   "source": [
    "#creating a bar graph of age groups\n",
    "bar_age_group = df_ords_prods_cust['age_group'].value_counts().plot.bar(color=['purple', 'blue', 'red'])\n",
    "plt.title('Distribution of Customers by Age Group')\n",
    "plt.xlabel('Age Group')\n",
    "plt.ylabel('Number of Customers')\n",
    "plt.xticks(np.arange(3), ['Middle Adult: >=40 & <65 years', 'Adult: <40 years', 'Senior Adult:>=65 years'])"
   ]
  },
  {
   "cell_type": "code",
   "execution_count": 81,
   "id": "a845f5c3-6bda-4b60-8fc0-ffc8d871dc02",
   "metadata": {},
   "outputs": [],
   "source": [
    "#exporting the bar graph \n",
    "bar_age_group.figure.savefig((os.path.join(path, '04 Analysis','Visualizations', 'Distribution of Customers by Age Group.png',)), bbox_inches='tight')"
   ]
  },
  {
   "cell_type": "markdown",
   "id": "ea493ade-9225-4250-9af1-e97ddd277277",
   "metadata": {},
   "source": [
    "## Income Variable"
   ]
  },
  {
   "cell_type": "code",
   "execution_count": 84,
   "id": "026eab3b-1b3e-4e82-8b02-47213d53439b",
   "metadata": {},
   "outputs": [],
   "source": [
    "#creating a profiling variable based on income\n",
    "#creating a 'Low Income' group \n",
    "df_ords_prods_cust.loc[df_ords_prods_cust['income'] < 55000, 'income_level'] = 'Low Income'"
   ]
  },
  {
   "cell_type": "code",
   "execution_count": 86,
   "id": "a9ab08b4-d68e-4e7e-b550-e1073c315548",
   "metadata": {},
   "outputs": [],
   "source": [
    "#creating a 'Middle Income' group \n",
    "df_ords_prods_cust.loc[(df_ords_prods_cust['income'] >= 55000) & (df_ords_prods_cust['income'] <110000), 'income_level'] = 'Middle Income'"
   ]
  },
  {
   "cell_type": "code",
   "execution_count": 88,
   "id": "6d6f42e0-46c5-4cbc-8807-97009a186039",
   "metadata": {},
   "outputs": [],
   "source": [
    "#creating a 'High Income' group \n",
    "df_ords_prods_cust.loc[df_ords_prods_cust['income'] >= 110000, 'income_level'] = 'High Income'"
   ]
  },
  {
   "cell_type": "code",
   "execution_count": 90,
   "id": "804bee4d-c254-41cf-9ce7-ab2a64527c39",
   "metadata": {},
   "outputs": [
    {
     "data": {
      "text/html": [
       "<div>\n",
       "<style scoped>\n",
       "    .dataframe tbody tr th:only-of-type {\n",
       "        vertical-align: middle;\n",
       "    }\n",
       "\n",
       "    .dataframe tbody tr th {\n",
       "        vertical-align: top;\n",
       "    }\n",
       "\n",
       "    .dataframe thead th {\n",
       "        text-align: right;\n",
       "    }\n",
       "</style>\n",
       "<table border=\"1\" class=\"dataframe\">\n",
       "  <thead>\n",
       "    <tr style=\"text-align: right;\">\n",
       "      <th></th>\n",
       "      <th>product_id</th>\n",
       "      <th>product_name</th>\n",
       "      <th>aisle_id</th>\n",
       "      <th>department_id</th>\n",
       "      <th>prices</th>\n",
       "      <th>order_id</th>\n",
       "      <th>user_id</th>\n",
       "      <th>order_number</th>\n",
       "      <th>orders_day_of_week</th>\n",
       "      <th>order_hour_of_day</th>\n",
       "      <th>...</th>\n",
       "      <th>age</th>\n",
       "      <th>date_joined</th>\n",
       "      <th>number_of_dependants</th>\n",
       "      <th>marital_status</th>\n",
       "      <th>income</th>\n",
       "      <th>_merge</th>\n",
       "      <th>region</th>\n",
       "      <th>activity_flag</th>\n",
       "      <th>age_group</th>\n",
       "      <th>income_level</th>\n",
       "    </tr>\n",
       "  </thead>\n",
       "  <tbody>\n",
       "    <tr>\n",
       "      <th>0</th>\n",
       "      <td>1</td>\n",
       "      <td>Chocolate Sandwich Cookies</td>\n",
       "      <td>61</td>\n",
       "      <td>19</td>\n",
       "      <td>5.8</td>\n",
       "      <td>3139998</td>\n",
       "      <td>138</td>\n",
       "      <td>28</td>\n",
       "      <td>6</td>\n",
       "      <td>11</td>\n",
       "      <td>...</td>\n",
       "      <td>81</td>\n",
       "      <td>8/1/2019</td>\n",
       "      <td>1</td>\n",
       "      <td>married</td>\n",
       "      <td>49620</td>\n",
       "      <td>both</td>\n",
       "      <td>Midwest</td>\n",
       "      <td>High Activity</td>\n",
       "      <td>Senior Adult</td>\n",
       "      <td>Low Income</td>\n",
       "    </tr>\n",
       "    <tr>\n",
       "      <th>1</th>\n",
       "      <td>1</td>\n",
       "      <td>Chocolate Sandwich Cookies</td>\n",
       "      <td>61</td>\n",
       "      <td>19</td>\n",
       "      <td>5.8</td>\n",
       "      <td>1977647</td>\n",
       "      <td>138</td>\n",
       "      <td>30</td>\n",
       "      <td>6</td>\n",
       "      <td>17</td>\n",
       "      <td>...</td>\n",
       "      <td>81</td>\n",
       "      <td>8/1/2019</td>\n",
       "      <td>1</td>\n",
       "      <td>married</td>\n",
       "      <td>49620</td>\n",
       "      <td>both</td>\n",
       "      <td>Midwest</td>\n",
       "      <td>High Activity</td>\n",
       "      <td>Senior Adult</td>\n",
       "      <td>Low Income</td>\n",
       "    </tr>\n",
       "    <tr>\n",
       "      <th>2</th>\n",
       "      <td>1</td>\n",
       "      <td>Chocolate Sandwich Cookies</td>\n",
       "      <td>61</td>\n",
       "      <td>19</td>\n",
       "      <td>5.8</td>\n",
       "      <td>389851</td>\n",
       "      <td>709</td>\n",
       "      <td>2</td>\n",
       "      <td>0</td>\n",
       "      <td>21</td>\n",
       "      <td>...</td>\n",
       "      <td>66</td>\n",
       "      <td>6/16/2018</td>\n",
       "      <td>2</td>\n",
       "      <td>married</td>\n",
       "      <td>158302</td>\n",
       "      <td>both</td>\n",
       "      <td>Northeast</td>\n",
       "      <td>High Activity</td>\n",
       "      <td>Senior Adult</td>\n",
       "      <td>High Income</td>\n",
       "    </tr>\n",
       "    <tr>\n",
       "      <th>5</th>\n",
       "      <td>1</td>\n",
       "      <td>Chocolate Sandwich Cookies</td>\n",
       "      <td>61</td>\n",
       "      <td>19</td>\n",
       "      <td>5.8</td>\n",
       "      <td>1701441</td>\n",
       "      <td>777</td>\n",
       "      <td>16</td>\n",
       "      <td>1</td>\n",
       "      <td>7</td>\n",
       "      <td>...</td>\n",
       "      <td>51</td>\n",
       "      <td>1/4/2019</td>\n",
       "      <td>2</td>\n",
       "      <td>married</td>\n",
       "      <td>57797</td>\n",
       "      <td>both</td>\n",
       "      <td>West</td>\n",
       "      <td>High Activity</td>\n",
       "      <td>Middle Adult</td>\n",
       "      <td>Middle Income</td>\n",
       "    </tr>\n",
       "    <tr>\n",
       "      <th>6</th>\n",
       "      <td>1</td>\n",
       "      <td>Chocolate Sandwich Cookies</td>\n",
       "      <td>61</td>\n",
       "      <td>19</td>\n",
       "      <td>5.8</td>\n",
       "      <td>1871483</td>\n",
       "      <td>825</td>\n",
       "      <td>3</td>\n",
       "      <td>2</td>\n",
       "      <td>14</td>\n",
       "      <td>...</td>\n",
       "      <td>20</td>\n",
       "      <td>5/8/2019</td>\n",
       "      <td>3</td>\n",
       "      <td>living with parents and siblings</td>\n",
       "      <td>34171</td>\n",
       "      <td>both</td>\n",
       "      <td>South</td>\n",
       "      <td>High Activity</td>\n",
       "      <td>Adult</td>\n",
       "      <td>Low Income</td>\n",
       "    </tr>\n",
       "  </tbody>\n",
       "</table>\n",
       "<p>5 rows × 36 columns</p>\n",
       "</div>"
      ],
      "text/plain": [
       "   product_id                product_name  aisle_id  department_id  prices  \\\n",
       "0           1  Chocolate Sandwich Cookies        61             19     5.8   \n",
       "1           1  Chocolate Sandwich Cookies        61             19     5.8   \n",
       "2           1  Chocolate Sandwich Cookies        61             19     5.8   \n",
       "5           1  Chocolate Sandwich Cookies        61             19     5.8   \n",
       "6           1  Chocolate Sandwich Cookies        61             19     5.8   \n",
       "\n",
       "   order_id user_id  order_number  orders_day_of_week  order_hour_of_day  ...  \\\n",
       "0   3139998     138            28                   6                 11  ...   \n",
       "1   1977647     138            30                   6                 17  ...   \n",
       "2    389851     709             2                   0                 21  ...   \n",
       "5   1701441     777            16                   1                  7  ...   \n",
       "6   1871483     825             3                   2                 14  ...   \n",
       "\n",
       "   age  date_joined  number_of_dependants                    marital_status  \\\n",
       "0   81     8/1/2019                     1                           married   \n",
       "1   81     8/1/2019                     1                           married   \n",
       "2   66    6/16/2018                     2                           married   \n",
       "5   51     1/4/2019                     2                           married   \n",
       "6   20     5/8/2019                     3  living with parents and siblings   \n",
       "\n",
       "   income _merge     region  activity_flag     age_group   income_level  \n",
       "0   49620   both    Midwest  High Activity  Senior Adult     Low Income  \n",
       "1   49620   both    Midwest  High Activity  Senior Adult     Low Income  \n",
       "2  158302   both  Northeast  High Activity  Senior Adult    High Income  \n",
       "5   57797   both       West  High Activity  Middle Adult  Middle Income  \n",
       "6   34171   both      South  High Activity         Adult     Low Income  \n",
       "\n",
       "[5 rows x 36 columns]"
      ]
     },
     "execution_count": 90,
     "metadata": {},
     "output_type": "execute_result"
    }
   ],
   "source": [
    "#checking to see if income_level has been added\n",
    "df_ords_prods_cust.head()"
   ]
  },
  {
   "cell_type": "code",
   "execution_count": 92,
   "id": "395decba-0927-4b27-b963-cdc4a367d7d5",
   "metadata": {},
   "outputs": [
    {
     "data": {
      "text/plain": [
       "income_level\n",
       "Middle Income    14941716\n",
       "High Income      11570460\n",
       "Low Income        4452388\n",
       "Name: count, dtype: int64"
      ]
     },
     "execution_count": 92,
     "metadata": {},
     "output_type": "execute_result"
    }
   ],
   "source": [
    "#checking the values of the new income level column\n",
    "df_ords_prods_cust['income_level'].value_counts(dropna = False)"
   ]
  },
  {
   "cell_type": "code",
   "execution_count": 94,
   "id": "5e4f7923-b5e2-4535-b9d4-d44ba3e8f420",
   "metadata": {
    "scrolled": true
   },
   "outputs": [
    {
     "data": {
      "text/plain": [
       "Text(0, 0.5, 'Count')"
      ]
     },
     "execution_count": 94,
     "metadata": {},
     "output_type": "execute_result"
    },
    {
     "data": {
      "image/png": "[encoded data removed]",
      "text/plain": [
       "<Figure size 640x480 with 1 Axes>"
      ]
     },
     "metadata": {},
     "output_type": "display_data"
    }
   ],
   "source": [
    "#creating a bar graph for income level\n",
    "bar_income_level = df_ords_prods_cust['income_level'].value_counts().plot.bar(color=['orange', 'yellow', 'green'])\n",
    "plt.title('Income Level')\n",
    "plt.xlabel('Income Level')\n",
    "plt.ylabel('Count')\n"
   ]
  },
  {
   "cell_type": "code",
   "execution_count": 96,
   "id": "5311f718-7db0-4ca1-be4a-d5be409310cc",
   "metadata": {},
   "outputs": [],
   "source": [
    "#exporting the income level bar graph\n",
    "bar_income_level.figure.savefig((os.path.join(path, '04 Analysis','Visualizations', 'bar_income_level.png',)), bbox_inches='tight')"
   ]
  },
  {
   "cell_type": "markdown",
   "id": "e17627d6-e5bb-4c97-9aa3-c296d20513b5",
   "metadata": {},
   "source": [
    "## Dependants Variable"
   ]
  },
  {
   "cell_type": "code",
   "execution_count": 99,
   "id": "b000b12c-fcd4-4054-a995-516ff24e2ee8",
   "metadata": {},
   "outputs": [
    {
     "data": {
      "text/plain": [
       "Index(['product_id', 'product_name', 'aisle_id', 'department_id', 'prices',\n",
       "       'order_id', 'user_id', 'order_number', 'orders_day_of_week',\n",
       "       'order_hour_of_day', 'days_since_last_order', 'first_order',\n",
       "       'add_to_cart_order', 'reordered', 'price_range_loc', 'busiest_day',\n",
       "       'busiest_days', 'busiest_period_of_day', 'max_order', 'loyalty_flag',\n",
       "       'average_spent', 'spending_flag', 'median_days_since_last_order',\n",
       "       'frequency_flag', 'gender', 'state', 'age', 'date_joined',\n",
       "       'number_of_dependants', 'marital_status', 'income', '_merge', 'region',\n",
       "       'activity_flag', 'age_group', 'income_level'],\n",
       "      dtype='object')"
      ]
     },
     "execution_count": 99,
     "metadata": {},
     "output_type": "execute_result"
    }
   ],
   "source": [
    "#checking column names\n",
    "df_ords_prods_cust.columns"
   ]
  },
  {
   "cell_type": "code",
   "execution_count": 100,
   "id": "0b3b9694-4fe9-4237-a030-48c572eaae59",
   "metadata": {},
   "outputs": [],
   "source": [
    "#creating a dependant flag based on number_of_dependants  \n",
    "#creating a 'No Dependants'group \n",
    "df_ords_prods_cust.loc[df_ords_prods_cust['number_of_dependants'] == 0, 'dependant_flag'] = 'No Dependants'"
   ]
  },
  {
   "cell_type": "code",
   "execution_count": 101,
   "id": "8496c832-c2ef-4eb1-9d38-b6423bdcd1d2",
   "metadata": {},
   "outputs": [],
   "source": [
    "#creating a 'Has Dependants' group \n",
    "df_ords_prods_cust.loc[df_ords_prods_cust['number_of_dependants'] > 0, 'dependant_flag'] = 'Has Dependants'"
   ]
  },
  {
   "cell_type": "code",
   "execution_count": 102,
   "id": "7150b860-0b28-4e19-80f0-b94c5b6a89bd",
   "metadata": {},
   "outputs": [
    {
     "data": {
      "text/html": [
       "<div>\n",
       "<style scoped>\n",
       "    .dataframe tbody tr th:only-of-type {\n",
       "        vertical-align: middle;\n",
       "    }\n",
       "\n",
       "    .dataframe tbody tr th {\n",
       "        vertical-align: top;\n",
       "    }\n",
       "\n",
       "    .dataframe thead th {\n",
       "        text-align: right;\n",
       "    }\n",
       "</style>\n",
       "<table border=\"1\" class=\"dataframe\">\n",
       "  <thead>\n",
       "    <tr style=\"text-align: right;\">\n",
       "      <th></th>\n",
       "      <th>product_id</th>\n",
       "      <th>product_name</th>\n",
       "      <th>aisle_id</th>\n",
       "      <th>department_id</th>\n",
       "      <th>prices</th>\n",
       "      <th>order_id</th>\n",
       "      <th>user_id</th>\n",
       "      <th>order_number</th>\n",
       "      <th>orders_day_of_week</th>\n",
       "      <th>order_hour_of_day</th>\n",
       "      <th>...</th>\n",
       "      <th>date_joined</th>\n",
       "      <th>number_of_dependants</th>\n",
       "      <th>marital_status</th>\n",
       "      <th>income</th>\n",
       "      <th>_merge</th>\n",
       "      <th>region</th>\n",
       "      <th>activity_flag</th>\n",
       "      <th>age_group</th>\n",
       "      <th>income_level</th>\n",
       "      <th>dependant_flag</th>\n",
       "    </tr>\n",
       "  </thead>\n",
       "  <tbody>\n",
       "    <tr>\n",
       "      <th>0</th>\n",
       "      <td>1</td>\n",
       "      <td>Chocolate Sandwich Cookies</td>\n",
       "      <td>61</td>\n",
       "      <td>19</td>\n",
       "      <td>5.8</td>\n",
       "      <td>3139998</td>\n",
       "      <td>138</td>\n",
       "      <td>28</td>\n",
       "      <td>6</td>\n",
       "      <td>11</td>\n",
       "      <td>...</td>\n",
       "      <td>8/1/2019</td>\n",
       "      <td>1</td>\n",
       "      <td>married</td>\n",
       "      <td>49620</td>\n",
       "      <td>both</td>\n",
       "      <td>Midwest</td>\n",
       "      <td>High Activity</td>\n",
       "      <td>Senior Adult</td>\n",
       "      <td>Low Income</td>\n",
       "      <td>Has Dependants</td>\n",
       "    </tr>\n",
       "    <tr>\n",
       "      <th>1</th>\n",
       "      <td>1</td>\n",
       "      <td>Chocolate Sandwich Cookies</td>\n",
       "      <td>61</td>\n",
       "      <td>19</td>\n",
       "      <td>5.8</td>\n",
       "      <td>1977647</td>\n",
       "      <td>138</td>\n",
       "      <td>30</td>\n",
       "      <td>6</td>\n",
       "      <td>17</td>\n",
       "      <td>...</td>\n",
       "      <td>8/1/2019</td>\n",
       "      <td>1</td>\n",
       "      <td>married</td>\n",
       "      <td>49620</td>\n",
       "      <td>both</td>\n",
       "      <td>Midwest</td>\n",
       "      <td>High Activity</td>\n",
       "      <td>Senior Adult</td>\n",
       "      <td>Low Income</td>\n",
       "      <td>Has Dependants</td>\n",
       "    </tr>\n",
       "    <tr>\n",
       "      <th>2</th>\n",
       "      <td>1</td>\n",
       "      <td>Chocolate Sandwich Cookies</td>\n",
       "      <td>61</td>\n",
       "      <td>19</td>\n",
       "      <td>5.8</td>\n",
       "      <td>389851</td>\n",
       "      <td>709</td>\n",
       "      <td>2</td>\n",
       "      <td>0</td>\n",
       "      <td>21</td>\n",
       "      <td>...</td>\n",
       "      <td>6/16/2018</td>\n",
       "      <td>2</td>\n",
       "      <td>married</td>\n",
       "      <td>158302</td>\n",
       "      <td>both</td>\n",
       "      <td>Northeast</td>\n",
       "      <td>High Activity</td>\n",
       "      <td>Senior Adult</td>\n",
       "      <td>High Income</td>\n",
       "      <td>Has Dependants</td>\n",
       "    </tr>\n",
       "    <tr>\n",
       "      <th>5</th>\n",
       "      <td>1</td>\n",
       "      <td>Chocolate Sandwich Cookies</td>\n",
       "      <td>61</td>\n",
       "      <td>19</td>\n",
       "      <td>5.8</td>\n",
       "      <td>1701441</td>\n",
       "      <td>777</td>\n",
       "      <td>16</td>\n",
       "      <td>1</td>\n",
       "      <td>7</td>\n",
       "      <td>...</td>\n",
       "      <td>1/4/2019</td>\n",
       "      <td>2</td>\n",
       "      <td>married</td>\n",
       "      <td>57797</td>\n",
       "      <td>both</td>\n",
       "      <td>West</td>\n",
       "      <td>High Activity</td>\n",
       "      <td>Middle Adult</td>\n",
       "      <td>Middle Income</td>\n",
       "      <td>Has Dependants</td>\n",
       "    </tr>\n",
       "    <tr>\n",
       "      <th>6</th>\n",
       "      <td>1</td>\n",
       "      <td>Chocolate Sandwich Cookies</td>\n",
       "      <td>61</td>\n",
       "      <td>19</td>\n",
       "      <td>5.8</td>\n",
       "      <td>1871483</td>\n",
       "      <td>825</td>\n",
       "      <td>3</td>\n",
       "      <td>2</td>\n",
       "      <td>14</td>\n",
       "      <td>...</td>\n",
       "      <td>5/8/2019</td>\n",
       "      <td>3</td>\n",
       "      <td>living with parents and siblings</td>\n",
       "      <td>34171</td>\n",
       "      <td>both</td>\n",
       "      <td>South</td>\n",
       "      <td>High Activity</td>\n",
       "      <td>Adult</td>\n",
       "      <td>Low Income</td>\n",
       "      <td>Has Dependants</td>\n",
       "    </tr>\n",
       "  </tbody>\n",
       "</table>\n",
       "<p>5 rows × 37 columns</p>\n",
       "</div>"
      ],
      "text/plain": [
       "   product_id                product_name  aisle_id  department_id  prices  \\\n",
       "0           1  Chocolate Sandwich Cookies        61             19     5.8   \n",
       "1           1  Chocolate Sandwich Cookies        61             19     5.8   \n",
       "2           1  Chocolate Sandwich Cookies        61             19     5.8   \n",
       "5           1  Chocolate Sandwich Cookies        61             19     5.8   \n",
       "6           1  Chocolate Sandwich Cookies        61             19     5.8   \n",
       "\n",
       "   order_id user_id  order_number  orders_day_of_week  order_hour_of_day  ...  \\\n",
       "0   3139998     138            28                   6                 11  ...   \n",
       "1   1977647     138            30                   6                 17  ...   \n",
       "2    389851     709             2                   0                 21  ...   \n",
       "5   1701441     777            16                   1                  7  ...   \n",
       "6   1871483     825             3                   2                 14  ...   \n",
       "\n",
       "   date_joined  number_of_dependants                    marital_status  \\\n",
       "0     8/1/2019                     1                           married   \n",
       "1     8/1/2019                     1                           married   \n",
       "2    6/16/2018                     2                           married   \n",
       "5     1/4/2019                     2                           married   \n",
       "6     5/8/2019                     3  living with parents and siblings   \n",
       "\n",
       "   income _merge     region  activity_flag     age_group   income_level  \\\n",
       "0   49620   both    Midwest  High Activity  Senior Adult     Low Income   \n",
       "1   49620   both    Midwest  High Activity  Senior Adult     Low Income   \n",
       "2  158302   both  Northeast  High Activity  Senior Adult    High Income   \n",
       "5   57797   both       West  High Activity  Middle Adult  Middle Income   \n",
       "6   34171   both      South  High Activity         Adult     Low Income   \n",
       "\n",
       "   dependant_flag  \n",
       "0  Has Dependants  \n",
       "1  Has Dependants  \n",
       "2  Has Dependants  \n",
       "5  Has Dependants  \n",
       "6  Has Dependants  \n",
       "\n",
       "[5 rows x 37 columns]"
      ]
     },
     "execution_count": 102,
     "metadata": {},
     "output_type": "execute_result"
    }
   ],
   "source": [
    "#checking to see if dependant_flag has been added \n",
    "df_ords_prods_cust.head()"
   ]
  },
  {
   "cell_type": "code",
   "execution_count": 103,
   "id": "f81d0af5-dee1-4abf-8c20-76641118c7b0",
   "metadata": {},
   "outputs": [],
   "source": [
    "#dependant_flag added successfully"
   ]
  },
  {
   "cell_type": "code",
   "execution_count": 104,
   "id": "17ba6081-551f-4134-9484-2158301c5f91",
   "metadata": {},
   "outputs": [
    {
     "data": {
      "text/plain": [
       "dependant_flag\n",
       "Has Dependants    23224883\n",
       "No Dependants      7739681\n",
       "Name: count, dtype: int64"
      ]
     },
     "execution_count": 104,
     "metadata": {},
     "output_type": "execute_result"
    }
   ],
   "source": [
    "#checking the values of the dependent_flag column\n",
    "df_ords_prods_cust['dependant_flag'].value_counts(dropna = False)"
   ]
  },
  {
   "cell_type": "code",
   "execution_count": 105,
   "id": "63090907-79c2-407f-b6dd-659da716e02e",
   "metadata": {},
   "outputs": [
    {
     "data": {
      "text/plain": [
       "Text(0, 0.5, 'Count')"
      ]
     },
     "execution_count": 105,
     "metadata": {},
     "output_type": "execute_result"
    },
    {
     "data": {
      "image/png": "[encoded data removed]",
      "text/plain": [
       "<Figure size 640x480 with 1 Axes>"
      ]
     },
     "metadata": {},
     "output_type": "display_data"
    }
   ],
   "source": [
    "#creating a bar graph for dependant_flag\n",
    "bar_dependants = df_ords_prods_cust['dependant_flag'].value_counts().plot.bar(color=['purple', 'yellow'])\n",
    "plt.title('Dependant Status')\n",
    "plt.xlabel('Dependant Status')\n",
    "plt.ylabel('Count')"
   ]
  },
  {
   "cell_type": "code",
   "execution_count": 106,
   "id": "200674bc-bfbd-4cb1-a6cb-27096e391648",
   "metadata": {},
   "outputs": [],
   "source": [
    "#exporting the dependent status  \n",
    "bar_dependants.figure.savefig((os.path.join(path, '04 Analysis','Visualizations', 'bar_dependant_status.png',)), bbox_inches='tight')"
   ]
  },
  {
   "cell_type": "markdown",
   "id": "318bcef6-7b98-4cd8-bfbc-e412a7f6bf4a",
   "metadata": {},
   "source": [
    "## Department Variable"
   ]
  },
  {
   "cell_type": "code",
   "execution_count": 108,
   "id": "49dfecd2-7e63-43a6-8270-99f711e55b23",
   "metadata": {},
   "outputs": [],
   "source": [
    "#importing departments csv\n",
    "df_departments = pd.read_csv(os.path.join(path, '02 Data', 'Prepared Data', 'departments_wrangled.csv'), index_col = False)"
   ]
  },
  {
   "cell_type": "code",
   "execution_count": 109,
   "id": "6b80b28c-913e-4ac6-8db2-3d005b0a34f5",
   "metadata": {},
   "outputs": [
    {
     "data": {
      "text/html": [
       "<div>\n",
       "<style scoped>\n",
       "    .dataframe tbody tr th:only-of-type {\n",
       "        vertical-align: middle;\n",
       "    }\n",
       "\n",
       "    .dataframe tbody tr th {\n",
       "        vertical-align: top;\n",
       "    }\n",
       "\n",
       "    .dataframe thead th {\n",
       "        text-align: right;\n",
       "    }\n",
       "</style>\n",
       "<table border=\"1\" class=\"dataframe\">\n",
       "  <thead>\n",
       "    <tr style=\"text-align: right;\">\n",
       "      <th></th>\n",
       "      <th>Unnamed: 0</th>\n",
       "      <th>department</th>\n",
       "    </tr>\n",
       "  </thead>\n",
       "  <tbody>\n",
       "    <tr>\n",
       "      <th>0</th>\n",
       "      <td>1</td>\n",
       "      <td>frozen</td>\n",
       "    </tr>\n",
       "    <tr>\n",
       "      <th>1</th>\n",
       "      <td>2</td>\n",
       "      <td>other</td>\n",
       "    </tr>\n",
       "    <tr>\n",
       "      <th>2</th>\n",
       "      <td>3</td>\n",
       "      <td>bakery</td>\n",
       "    </tr>\n",
       "    <tr>\n",
       "      <th>3</th>\n",
       "      <td>4</td>\n",
       "      <td>produce</td>\n",
       "    </tr>\n",
       "    <tr>\n",
       "      <th>4</th>\n",
       "      <td>5</td>\n",
       "      <td>alcohol</td>\n",
       "    </tr>\n",
       "    <tr>\n",
       "      <th>5</th>\n",
       "      <td>6</td>\n",
       "      <td>international</td>\n",
       "    </tr>\n",
       "    <tr>\n",
       "      <th>6</th>\n",
       "      <td>7</td>\n",
       "      <td>beverages</td>\n",
       "    </tr>\n",
       "    <tr>\n",
       "      <th>7</th>\n",
       "      <td>8</td>\n",
       "      <td>pets</td>\n",
       "    </tr>\n",
       "    <tr>\n",
       "      <th>8</th>\n",
       "      <td>9</td>\n",
       "      <td>dry goods pasta</td>\n",
       "    </tr>\n",
       "    <tr>\n",
       "      <th>9</th>\n",
       "      <td>10</td>\n",
       "      <td>bulk</td>\n",
       "    </tr>\n",
       "    <tr>\n",
       "      <th>10</th>\n",
       "      <td>11</td>\n",
       "      <td>personal care</td>\n",
       "    </tr>\n",
       "    <tr>\n",
       "      <th>11</th>\n",
       "      <td>12</td>\n",
       "      <td>meat seafood</td>\n",
       "    </tr>\n",
       "    <tr>\n",
       "      <th>12</th>\n",
       "      <td>13</td>\n",
       "      <td>pantry</td>\n",
       "    </tr>\n",
       "    <tr>\n",
       "      <th>13</th>\n",
       "      <td>14</td>\n",
       "      <td>breakfast</td>\n",
       "    </tr>\n",
       "    <tr>\n",
       "      <th>14</th>\n",
       "      <td>15</td>\n",
       "      <td>canned goods</td>\n",
       "    </tr>\n",
       "    <tr>\n",
       "      <th>15</th>\n",
       "      <td>16</td>\n",
       "      <td>dairy eggs</td>\n",
       "    </tr>\n",
       "    <tr>\n",
       "      <th>16</th>\n",
       "      <td>17</td>\n",
       "      <td>household</td>\n",
       "    </tr>\n",
       "    <tr>\n",
       "      <th>17</th>\n",
       "      <td>18</td>\n",
       "      <td>babies</td>\n",
       "    </tr>\n",
       "    <tr>\n",
       "      <th>18</th>\n",
       "      <td>19</td>\n",
       "      <td>snacks</td>\n",
       "    </tr>\n",
       "    <tr>\n",
       "      <th>19</th>\n",
       "      <td>20</td>\n",
       "      <td>deli</td>\n",
       "    </tr>\n",
       "    <tr>\n",
       "      <th>20</th>\n",
       "      <td>21</td>\n",
       "      <td>missing</td>\n",
       "    </tr>\n",
       "  </tbody>\n",
       "</table>\n",
       "</div>"
      ],
      "text/plain": [
       "    Unnamed: 0       department\n",
       "0            1           frozen\n",
       "1            2            other\n",
       "2            3           bakery\n",
       "3            4          produce\n",
       "4            5          alcohol\n",
       "5            6    international\n",
       "6            7        beverages\n",
       "7            8             pets\n",
       "8            9  dry goods pasta\n",
       "9           10             bulk\n",
       "10          11    personal care\n",
       "11          12     meat seafood\n",
       "12          13           pantry\n",
       "13          14        breakfast\n",
       "14          15     canned goods\n",
       "15          16       dairy eggs\n",
       "16          17        household\n",
       "17          18           babies\n",
       "18          19           snacks\n",
       "19          20             deli\n",
       "20          21          missing"
      ]
     },
     "execution_count": 109,
     "metadata": {},
     "output_type": "execute_result"
    }
   ],
   "source": [
    "#checking import \n",
    "df_departments"
   ]
  },
  {
   "cell_type": "code",
   "execution_count": 110,
   "id": "8d12c467-8ade-4eb0-8b0d-751d8a8b8e6a",
   "metadata": {},
   "outputs": [],
   "source": [
    "#changing 'Unnamed:0' column into department id\n",
    "df_departments.rename(columns={'Unnamed: 0':'department_id'}, inplace=True )"
   ]
  },
  {
   "cell_type": "code",
   "execution_count": 111,
   "id": "eb1d039d-494c-4877-8e1c-470255bf178b",
   "metadata": {},
   "outputs": [
    {
     "data": {
      "text/html": [
       "<div>\n",
       "<style scoped>\n",
       "    .dataframe tbody tr th:only-of-type {\n",
       "        vertical-align: middle;\n",
       "    }\n",
       "\n",
       "    .dataframe tbody tr th {\n",
       "        vertical-align: top;\n",
       "    }\n",
       "\n",
       "    .dataframe thead th {\n",
       "        text-align: right;\n",
       "    }\n",
       "</style>\n",
       "<table border=\"1\" class=\"dataframe\">\n",
       "  <thead>\n",
       "    <tr style=\"text-align: right;\">\n",
       "      <th></th>\n",
       "      <th>department_id</th>\n",
       "      <th>department</th>\n",
       "    </tr>\n",
       "  </thead>\n",
       "  <tbody>\n",
       "    <tr>\n",
       "      <th>0</th>\n",
       "      <td>1</td>\n",
       "      <td>frozen</td>\n",
       "    </tr>\n",
       "    <tr>\n",
       "      <th>1</th>\n",
       "      <td>2</td>\n",
       "      <td>other</td>\n",
       "    </tr>\n",
       "    <tr>\n",
       "      <th>2</th>\n",
       "      <td>3</td>\n",
       "      <td>bakery</td>\n",
       "    </tr>\n",
       "    <tr>\n",
       "      <th>3</th>\n",
       "      <td>4</td>\n",
       "      <td>produce</td>\n",
       "    </tr>\n",
       "    <tr>\n",
       "      <th>4</th>\n",
       "      <td>5</td>\n",
       "      <td>alcohol</td>\n",
       "    </tr>\n",
       "    <tr>\n",
       "      <th>5</th>\n",
       "      <td>6</td>\n",
       "      <td>international</td>\n",
       "    </tr>\n",
       "    <tr>\n",
       "      <th>6</th>\n",
       "      <td>7</td>\n",
       "      <td>beverages</td>\n",
       "    </tr>\n",
       "    <tr>\n",
       "      <th>7</th>\n",
       "      <td>8</td>\n",
       "      <td>pets</td>\n",
       "    </tr>\n",
       "    <tr>\n",
       "      <th>8</th>\n",
       "      <td>9</td>\n",
       "      <td>dry goods pasta</td>\n",
       "    </tr>\n",
       "    <tr>\n",
       "      <th>9</th>\n",
       "      <td>10</td>\n",
       "      <td>bulk</td>\n",
       "    </tr>\n",
       "    <tr>\n",
       "      <th>10</th>\n",
       "      <td>11</td>\n",
       "      <td>personal care</td>\n",
       "    </tr>\n",
       "    <tr>\n",
       "      <th>11</th>\n",
       "      <td>12</td>\n",
       "      <td>meat seafood</td>\n",
       "    </tr>\n",
       "    <tr>\n",
       "      <th>12</th>\n",
       "      <td>13</td>\n",
       "      <td>pantry</td>\n",
       "    </tr>\n",
       "    <tr>\n",
       "      <th>13</th>\n",
       "      <td>14</td>\n",
       "      <td>breakfast</td>\n",
       "    </tr>\n",
       "    <tr>\n",
       "      <th>14</th>\n",
       "      <td>15</td>\n",
       "      <td>canned goods</td>\n",
       "    </tr>\n",
       "    <tr>\n",
       "      <th>15</th>\n",
       "      <td>16</td>\n",
       "      <td>dairy eggs</td>\n",
       "    </tr>\n",
       "    <tr>\n",
       "      <th>16</th>\n",
       "      <td>17</td>\n",
       "      <td>household</td>\n",
       "    </tr>\n",
       "    <tr>\n",
       "      <th>17</th>\n",
       "      <td>18</td>\n",
       "      <td>babies</td>\n",
       "    </tr>\n",
       "    <tr>\n",
       "      <th>18</th>\n",
       "      <td>19</td>\n",
       "      <td>snacks</td>\n",
       "    </tr>\n",
       "    <tr>\n",
       "      <th>19</th>\n",
       "      <td>20</td>\n",
       "      <td>deli</td>\n",
       "    </tr>\n",
       "    <tr>\n",
       "      <th>20</th>\n",
       "      <td>21</td>\n",
       "      <td>missing</td>\n",
       "    </tr>\n",
       "  </tbody>\n",
       "</table>\n",
       "</div>"
      ],
      "text/plain": [
       "    department_id       department\n",
       "0               1           frozen\n",
       "1               2            other\n",
       "2               3           bakery\n",
       "3               4          produce\n",
       "4               5          alcohol\n",
       "5               6    international\n",
       "6               7        beverages\n",
       "7               8             pets\n",
       "8               9  dry goods pasta\n",
       "9              10             bulk\n",
       "10             11    personal care\n",
       "11             12     meat seafood\n",
       "12             13           pantry\n",
       "13             14        breakfast\n",
       "14             15     canned goods\n",
       "15             16       dairy eggs\n",
       "16             17        household\n",
       "17             18           babies\n",
       "18             19           snacks\n",
       "19             20             deli\n",
       "20             21          missing"
      ]
     },
     "execution_count": 111,
     "metadata": {},
     "output_type": "execute_result"
    }
   ],
   "source": [
    "#checking to see that it has changed\n",
    "df_departments"
   ]
  },
  {
   "cell_type": "code",
   "execution_count": 112,
   "id": "d40b68e3-bbcf-4d79-a42c-f49c378e1166",
   "metadata": {},
   "outputs": [],
   "source": [
    "#column changed successfully"
   ]
  },
  {
   "cell_type": "code",
   "execution_count": 113,
   "id": "3734a57d-05cc-447b-9f7f-1b9906f1a108",
   "metadata": {},
   "outputs": [
    {
     "data": {
      "text/plain": [
       "{1: 'frozen',\n",
       " 2: 'other',\n",
       " 3: 'bakery',\n",
       " 4: 'produce',\n",
       " 5: 'alcohol',\n",
       " 6: 'international',\n",
       " 7: 'beverages',\n",
       " 8: 'pets',\n",
       " 9: 'dry goods pasta',\n",
       " 10: 'bulk',\n",
       " 11: 'personal care',\n",
       " 12: 'meat seafood',\n",
       " 13: 'pantry',\n",
       " 14: 'breakfast',\n",
       " 15: 'canned goods',\n",
       " 16: 'dairy eggs',\n",
       " 17: 'household',\n",
       " 18: 'babies',\n",
       " 19: 'snacks',\n",
       " 20: 'deli',\n",
       " 21: 'missing'}"
      ]
     },
     "execution_count": 113,
     "metadata": {},
     "output_type": "execute_result"
    }
   ],
   "source": [
    "#creating a data dictionary \n",
    "combined=zip(df_departments['department_id'], df_departments['department'])\n",
    "data_dict=dict(combined)\n",
    "data_dict"
   ]
  },
  {
   "cell_type": "code",
   "execution_count": 114,
   "id": "6218d4c9-e336-4d0b-9ba2-a28619c74864",
   "metadata": {},
   "outputs": [],
   "source": [
    "#creating new department column in dataframe \n",
    "df_ords_prods_cust['department'] = df_ords_prods_cust['department_id'].map(data_dict)"
   ]
  },
  {
   "cell_type": "code",
   "execution_count": 115,
   "id": "f26ceb63-ca0b-4417-9ce2-605f48110ed2",
   "metadata": {},
   "outputs": [
    {
     "data": {
      "text/html": [
       "<div>\n",
       "<style scoped>\n",
       "    .dataframe tbody tr th:only-of-type {\n",
       "        vertical-align: middle;\n",
       "    }\n",
       "\n",
       "    .dataframe tbody tr th {\n",
       "        vertical-align: top;\n",
       "    }\n",
       "\n",
       "    .dataframe thead th {\n",
       "        text-align: right;\n",
       "    }\n",
       "</style>\n",
       "<table border=\"1\" class=\"dataframe\">\n",
       "  <thead>\n",
       "    <tr style=\"text-align: right;\">\n",
       "      <th></th>\n",
       "      <th>product_id</th>\n",
       "      <th>product_name</th>\n",
       "      <th>aisle_id</th>\n",
       "      <th>department_id</th>\n",
       "      <th>prices</th>\n",
       "      <th>order_id</th>\n",
       "      <th>user_id</th>\n",
       "      <th>order_number</th>\n",
       "      <th>orders_day_of_week</th>\n",
       "      <th>order_hour_of_day</th>\n",
       "      <th>...</th>\n",
       "      <th>number_of_dependants</th>\n",
       "      <th>marital_status</th>\n",
       "      <th>income</th>\n",
       "      <th>_merge</th>\n",
       "      <th>region</th>\n",
       "      <th>activity_flag</th>\n",
       "      <th>age_group</th>\n",
       "      <th>income_level</th>\n",
       "      <th>dependant_flag</th>\n",
       "      <th>department</th>\n",
       "    </tr>\n",
       "  </thead>\n",
       "  <tbody>\n",
       "    <tr>\n",
       "      <th>0</th>\n",
       "      <td>1</td>\n",
       "      <td>Chocolate Sandwich Cookies</td>\n",
       "      <td>61</td>\n",
       "      <td>19</td>\n",
       "      <td>5.8</td>\n",
       "      <td>3139998</td>\n",
       "      <td>138</td>\n",
       "      <td>28</td>\n",
       "      <td>6</td>\n",
       "      <td>11</td>\n",
       "      <td>...</td>\n",
       "      <td>1</td>\n",
       "      <td>married</td>\n",
       "      <td>49620</td>\n",
       "      <td>both</td>\n",
       "      <td>Midwest</td>\n",
       "      <td>High Activity</td>\n",
       "      <td>Senior Adult</td>\n",
       "      <td>Low Income</td>\n",
       "      <td>Has Dependants</td>\n",
       "      <td>snacks</td>\n",
       "    </tr>\n",
       "    <tr>\n",
       "      <th>1</th>\n",
       "      <td>1</td>\n",
       "      <td>Chocolate Sandwich Cookies</td>\n",
       "      <td>61</td>\n",
       "      <td>19</td>\n",
       "      <td>5.8</td>\n",
       "      <td>1977647</td>\n",
       "      <td>138</td>\n",
       "      <td>30</td>\n",
       "      <td>6</td>\n",
       "      <td>17</td>\n",
       "      <td>...</td>\n",
       "      <td>1</td>\n",
       "      <td>married</td>\n",
       "      <td>49620</td>\n",
       "      <td>both</td>\n",
       "      <td>Midwest</td>\n",
       "      <td>High Activity</td>\n",
       "      <td>Senior Adult</td>\n",
       "      <td>Low Income</td>\n",
       "      <td>Has Dependants</td>\n",
       "      <td>snacks</td>\n",
       "    </tr>\n",
       "    <tr>\n",
       "      <th>2</th>\n",
       "      <td>1</td>\n",
       "      <td>Chocolate Sandwich Cookies</td>\n",
       "      <td>61</td>\n",
       "      <td>19</td>\n",
       "      <td>5.8</td>\n",
       "      <td>389851</td>\n",
       "      <td>709</td>\n",
       "      <td>2</td>\n",
       "      <td>0</td>\n",
       "      <td>21</td>\n",
       "      <td>...</td>\n",
       "      <td>2</td>\n",
       "      <td>married</td>\n",
       "      <td>158302</td>\n",
       "      <td>both</td>\n",
       "      <td>Northeast</td>\n",
       "      <td>High Activity</td>\n",
       "      <td>Senior Adult</td>\n",
       "      <td>High Income</td>\n",
       "      <td>Has Dependants</td>\n",
       "      <td>snacks</td>\n",
       "    </tr>\n",
       "    <tr>\n",
       "      <th>5</th>\n",
       "      <td>1</td>\n",
       "      <td>Chocolate Sandwich Cookies</td>\n",
       "      <td>61</td>\n",
       "      <td>19</td>\n",
       "      <td>5.8</td>\n",
       "      <td>1701441</td>\n",
       "      <td>777</td>\n",
       "      <td>16</td>\n",
       "      <td>1</td>\n",
       "      <td>7</td>\n",
       "      <td>...</td>\n",
       "      <td>2</td>\n",
       "      <td>married</td>\n",
       "      <td>57797</td>\n",
       "      <td>both</td>\n",
       "      <td>West</td>\n",
       "      <td>High Activity</td>\n",
       "      <td>Middle Adult</td>\n",
       "      <td>Middle Income</td>\n",
       "      <td>Has Dependants</td>\n",
       "      <td>snacks</td>\n",
       "    </tr>\n",
       "    <tr>\n",
       "      <th>6</th>\n",
       "      <td>1</td>\n",
       "      <td>Chocolate Sandwich Cookies</td>\n",
       "      <td>61</td>\n",
       "      <td>19</td>\n",
       "      <td>5.8</td>\n",
       "      <td>1871483</td>\n",
       "      <td>825</td>\n",
       "      <td>3</td>\n",
       "      <td>2</td>\n",
       "      <td>14</td>\n",
       "      <td>...</td>\n",
       "      <td>3</td>\n",
       "      <td>living with parents and siblings</td>\n",
       "      <td>34171</td>\n",
       "      <td>both</td>\n",
       "      <td>South</td>\n",
       "      <td>High Activity</td>\n",
       "      <td>Adult</td>\n",
       "      <td>Low Income</td>\n",
       "      <td>Has Dependants</td>\n",
       "      <td>snacks</td>\n",
       "    </tr>\n",
       "  </tbody>\n",
       "</table>\n",
       "<p>5 rows × 38 columns</p>\n",
       "</div>"
      ],
      "text/plain": [
       "   product_id                product_name  aisle_id  department_id  prices  \\\n",
       "0           1  Chocolate Sandwich Cookies        61             19     5.8   \n",
       "1           1  Chocolate Sandwich Cookies        61             19     5.8   \n",
       "2           1  Chocolate Sandwich Cookies        61             19     5.8   \n",
       "5           1  Chocolate Sandwich Cookies        61             19     5.8   \n",
       "6           1  Chocolate Sandwich Cookies        61             19     5.8   \n",
       "\n",
       "   order_id user_id  order_number  orders_day_of_week  order_hour_of_day  ...  \\\n",
       "0   3139998     138            28                   6                 11  ...   \n",
       "1   1977647     138            30                   6                 17  ...   \n",
       "2    389851     709             2                   0                 21  ...   \n",
       "5   1701441     777            16                   1                  7  ...   \n",
       "6   1871483     825             3                   2                 14  ...   \n",
       "\n",
       "   number_of_dependants                    marital_status  income  _merge  \\\n",
       "0                     1                           married   49620    both   \n",
       "1                     1                           married   49620    both   \n",
       "2                     2                           married  158302    both   \n",
       "5                     2                           married   57797    both   \n",
       "6                     3  living with parents and siblings   34171    both   \n",
       "\n",
       "      region  activity_flag     age_group   income_level  dependant_flag  \\\n",
       "0    Midwest  High Activity  Senior Adult     Low Income  Has Dependants   \n",
       "1    Midwest  High Activity  Senior Adult     Low Income  Has Dependants   \n",
       "2  Northeast  High Activity  Senior Adult    High Income  Has Dependants   \n",
       "5       West  High Activity  Middle Adult  Middle Income  Has Dependants   \n",
       "6      South  High Activity         Adult     Low Income  Has Dependants   \n",
       "\n",
       "  department  \n",
       "0     snacks  \n",
       "1     snacks  \n",
       "2     snacks  \n",
       "5     snacks  \n",
       "6     snacks  \n",
       "\n",
       "[5 rows x 38 columns]"
      ]
     },
     "execution_count": 115,
     "metadata": {},
     "output_type": "execute_result"
    }
   ],
   "source": [
    "#checking the output \n",
    "df_ords_prods_cust.head()"
   ]
  },
  {
   "cell_type": "code",
   "execution_count": 116,
   "id": "eea5153a-2e4e-438e-9461-cfe71f619b04",
   "metadata": {},
   "outputs": [],
   "source": [
    "#department column added successfully"
   ]
  },
  {
   "cell_type": "markdown",
   "id": "8a366822-6c52-4bbb-b1df-d82ec5e97338",
   "metadata": {},
   "source": [
    "# 06. Creating an appropriate visualization to show the distribution of profiles."
   ]
  },
  {
   "cell_type": "markdown",
   "id": "e6af66b8-9777-45c2-9c8c-b8dc9230fefb",
   "metadata": {},
   "source": [
    "## Age"
   ]
  },
  {
   "cell_type": "code",
   "execution_count": 119,
   "id": "6f3a015e-8f30-4b55-943c-48842c20eda3",
   "metadata": {},
   "outputs": [],
   "source": [
    "#creating a table for age_group counts\n",
    "age_group_distribution = df_ords_prods_cust['age_group'].value_counts()"
   ]
  },
  {
   "cell_type": "code",
   "execution_count": 120,
   "id": "cf4f657e-3e92-466f-9041-9c516495fc6e",
   "metadata": {},
   "outputs": [
    {
     "data": {
      "text/plain": [
       "age_group\n",
       "Middle Adult    12103910\n",
       "Adult           10665110\n",
       "Senior Adult     8195544\n",
       "Name: count, dtype: int64"
      ]
     },
     "execution_count": 120,
     "metadata": {},
     "output_type": "execute_result"
    }
   ],
   "source": [
    "age_group_distribution"
   ]
  },
  {
   "cell_type": "code",
   "execution_count": 121,
   "id": "423dba45-5f0b-489f-91b7-dd38ca6ae964",
   "metadata": {},
   "outputs": [
    {
     "data": {
      "image/png": "[encoded data removed]",
      "text/plain": [
       "<Figure size 640x480 with 1 Axes>"
      ]
     },
     "metadata": {},
     "output_type": "display_data"
    }
   ],
   "source": [
    "#creating a pie chart\n",
    "age_group_distribution_pie = plt.pie(age_group_distribution, \n",
    "                            labels = age_group_distribution.index,\n",
    "                            autopct='%.1f%%')\n",
    "plt.title('Age Group Distribution')\n",
    "plt.savefig(os.path.join(path, '04 Analysis', 'Visualizations', 'age_group_distribution_pie.png'), bbox_inches = 'tight') #saving pie chart "
   ]
  },
  {
   "cell_type": "markdown",
   "id": "03a5ae39-a699-419f-a5a6-6898156b9683",
   "metadata": {},
   "source": [
    "Middle adults make up the largest age group, followed by adults, then senior adults."
   ]
  },
  {
   "cell_type": "markdown",
   "id": "7faf15d1-a3a0-4c4f-8989-cc3248659093",
   "metadata": {},
   "source": [
    "## Income"
   ]
  },
  {
   "cell_type": "code",
   "execution_count": 124,
   "id": "3f6478ed-5f9d-48c3-8391-849d6d9a3a7c",
   "metadata": {},
   "outputs": [],
   "source": [
    "#creating a table for income_level counts\n",
    "income_level_distribution = df_ords_prods_cust['income_level'].value_counts()"
   ]
  },
  {
   "cell_type": "code",
   "execution_count": 125,
   "id": "7bff4a99-d977-4153-bea6-79689443a28f",
   "metadata": {
    "scrolled": true
   },
   "outputs": [
    {
     "data": {
      "image/png": "[encoded data removed]",
      "text/plain": [
       "<Figure size 640x480 with 1 Axes>"
      ]
     },
     "metadata": {},
     "output_type": "display_data"
    }
   ],
   "source": [
    "#creating pie chart for income level distribution\n",
    "income_level_distribution_pie = plt.pie(income_level_distribution, \n",
    "                            labels = income_level_distribution.index,\n",
    "                            autopct='%.1f%%')\n",
    "plt.title('Income Level Distribution')\n",
    "plt.savefig(os.path.join(path, '04 Analysis', 'Visualizations', 'income_level_distribution_pie.png'), bbox_inches = 'tight') #saving pie chart"
   ]
  },
  {
   "cell_type": "markdown",
   "id": "819e2497-6ddf-44fc-9eb3-80b3255e9fdd",
   "metadata": {},
   "source": [
    "Nearly half of Instacart Users fall within the middle income category."
   ]
  },
  {
   "cell_type": "markdown",
   "id": "33c3bcaf-9487-485a-bad2-d40d6c5f078c",
   "metadata": {},
   "source": [
    "## Dependant Status"
   ]
  },
  {
   "cell_type": "code",
   "execution_count": 128,
   "id": "6a79d492-574a-439d-8093-7ce8cb72617a",
   "metadata": {},
   "outputs": [],
   "source": [
    "#creating a table for dependant_flag counts\n",
    "dependant_status_distribution = df_ords_prods_cust['dependant_flag'].value_counts()"
   ]
  },
  {
   "cell_type": "code",
   "execution_count": 129,
   "id": "8cbb908b-8135-4e1e-91a3-79a8be9f5341",
   "metadata": {},
   "outputs": [
    {
     "data": {
      "text/plain": [
       "dependant_flag\n",
       "Has Dependants    23224883\n",
       "No Dependants      7739681\n",
       "Name: count, dtype: int64"
      ]
     },
     "execution_count": 129,
     "metadata": {},
     "output_type": "execute_result"
    }
   ],
   "source": [
    "dependant_status_distribution "
   ]
  },
  {
   "cell_type": "code",
   "execution_count": 130,
   "id": "880d00e7-b775-4e9e-9b14-e2f9f3449c9c",
   "metadata": {},
   "outputs": [
    {
     "data": {
      "image/png": "[encoded data removed]",
      "text/plain": [
       "<Figure size 640x480 with 1 Axes>"
      ]
     },
     "metadata": {},
     "output_type": "display_data"
    }
   ],
   "source": [
    "#creating pie chart for dependant status distribution\n",
    "dependant_status_distribution_pie = plt.pie(dependant_status_distribution, \n",
    "                            labels = dependant_status_distribution.index,\n",
    "                            autopct='%.1f%%')\n",
    "plt.title('Dependant Status Distribution')\n",
    "plt.savefig(os.path.join(path, '04 Analysis', 'Visualizations', 'dependant_status_distribution_pie.png'), bbox_inches = 'tight') #saving pie chart"
   ]
  },
  {
   "cell_type": "markdown",
   "id": "1196d181-3bd6-4e1f-8db5-039306b31348",
   "metadata": {},
   "source": [
    "There are three times more customers with dependants than without."
   ]
  },
  {
   "cell_type": "markdown",
   "id": "0bb65a77-8047-45fc-bbc1-478e64662df3",
   "metadata": {},
   "source": [
    "# 07. Aggregating the max, mean, and min variables on a customer-profile level for usage frequency and expenditure."
   ]
  },
  {
   "cell_type": "markdown",
   "id": "41048a72-08e6-40ce-b72c-47c55694847a",
   "metadata": {},
   "source": [
    "## Age"
   ]
  },
  {
   "cell_type": "code",
   "execution_count": 134,
   "id": "101216aa-badd-4ed2-bdc6-d443b96ba97b",
   "metadata": {},
   "outputs": [],
   "source": [
    "#aggregating expenditure by age \n",
    "age_price_agg = df_ords_prods_cust.groupby('age_group').agg({'prices': ['mean', 'min', 'max']})"
   ]
  },
  {
   "cell_type": "code",
   "execution_count": 135,
   "id": "8bd27bef-9db7-4fda-adea-6f893a7dafe4",
   "metadata": {},
   "outputs": [
    {
     "data": {
      "text/html": [
       "<div>\n",
       "<style scoped>\n",
       "    .dataframe tbody tr th:only-of-type {\n",
       "        vertical-align: middle;\n",
       "    }\n",
       "\n",
       "    .dataframe tbody tr th {\n",
       "        vertical-align: top;\n",
       "    }\n",
       "\n",
       "    .dataframe thead tr th {\n",
       "        text-align: left;\n",
       "    }\n",
       "\n",
       "    .dataframe thead tr:last-of-type th {\n",
       "        text-align: right;\n",
       "    }\n",
       "</style>\n",
       "<table border=\"1\" class=\"dataframe\">\n",
       "  <thead>\n",
       "    <tr>\n",
       "      <th></th>\n",
       "      <th colspan=\"3\" halign=\"left\">prices</th>\n",
       "    </tr>\n",
       "    <tr>\n",
       "      <th></th>\n",
       "      <th>mean</th>\n",
       "      <th>min</th>\n",
       "      <th>max</th>\n",
       "    </tr>\n",
       "    <tr>\n",
       "      <th>age_group</th>\n",
       "      <th></th>\n",
       "      <th></th>\n",
       "      <th></th>\n",
       "    </tr>\n",
       "  </thead>\n",
       "  <tbody>\n",
       "    <tr>\n",
       "      <th>Adult</th>\n",
       "      <td>7.784839</td>\n",
       "      <td>1.0</td>\n",
       "      <td>25.0</td>\n",
       "    </tr>\n",
       "    <tr>\n",
       "      <th>Middle Adult</th>\n",
       "      <td>7.791546</td>\n",
       "      <td>1.0</td>\n",
       "      <td>25.0</td>\n",
       "    </tr>\n",
       "    <tr>\n",
       "      <th>Senior Adult</th>\n",
       "      <td>7.796729</td>\n",
       "      <td>1.0</td>\n",
       "      <td>25.0</td>\n",
       "    </tr>\n",
       "  </tbody>\n",
       "</table>\n",
       "</div>"
      ],
      "text/plain": [
       "                prices           \n",
       "                  mean  min   max\n",
       "age_group                        \n",
       "Adult         7.784839  1.0  25.0\n",
       "Middle Adult  7.791546  1.0  25.0\n",
       "Senior Adult  7.796729  1.0  25.0"
      ]
     },
     "execution_count": 135,
     "metadata": {},
     "output_type": "execute_result"
    }
   ],
   "source": [
    "age_price_agg"
   ]
  },
  {
   "cell_type": "markdown",
   "id": "af2bb110-18da-43d2-9e2b-fc040579f164",
   "metadata": {},
   "source": [
    "Amount spent does not seem to differ much based on age group.  "
   ]
  },
  {
   "cell_type": "code",
   "execution_count": 137,
   "id": "cca888b6-39b8-4c9a-a84a-9bb6b8dedd1c",
   "metadata": {},
   "outputs": [],
   "source": [
    "#aggregating frequency by age\n",
    "age_frequency_agg = df_ords_prods_cust.groupby('age_group').agg({'days_since_last_order': ['mean', 'min', 'max']})"
   ]
  },
  {
   "cell_type": "code",
   "execution_count": 138,
   "id": "6818f082-ec51-4f5c-8918-ce2da9085d2b",
   "metadata": {},
   "outputs": [
    {
     "data": {
      "text/html": [
       "<div>\n",
       "<style scoped>\n",
       "    .dataframe tbody tr th:only-of-type {\n",
       "        vertical-align: middle;\n",
       "    }\n",
       "\n",
       "    .dataframe tbody tr th {\n",
       "        vertical-align: top;\n",
       "    }\n",
       "\n",
       "    .dataframe thead tr th {\n",
       "        text-align: left;\n",
       "    }\n",
       "\n",
       "    .dataframe thead tr:last-of-type th {\n",
       "        text-align: right;\n",
       "    }\n",
       "</style>\n",
       "<table border=\"1\" class=\"dataframe\">\n",
       "  <thead>\n",
       "    <tr>\n",
       "      <th></th>\n",
       "      <th colspan=\"3\" halign=\"left\">days_since_last_order</th>\n",
       "    </tr>\n",
       "    <tr>\n",
       "      <th></th>\n",
       "      <th>mean</th>\n",
       "      <th>min</th>\n",
       "      <th>max</th>\n",
       "    </tr>\n",
       "    <tr>\n",
       "      <th>age_group</th>\n",
       "      <th></th>\n",
       "      <th></th>\n",
       "      <th></th>\n",
       "    </tr>\n",
       "  </thead>\n",
       "  <tbody>\n",
       "    <tr>\n",
       "      <th>Adult</th>\n",
       "      <td>10.811278</td>\n",
       "      <td>0.0</td>\n",
       "      <td>30.0</td>\n",
       "    </tr>\n",
       "    <tr>\n",
       "      <th>Middle Adult</th>\n",
       "      <td>10.821972</td>\n",
       "      <td>0.0</td>\n",
       "      <td>30.0</td>\n",
       "    </tr>\n",
       "    <tr>\n",
       "      <th>Senior Adult</th>\n",
       "      <td>10.791788</td>\n",
       "      <td>0.0</td>\n",
       "      <td>30.0</td>\n",
       "    </tr>\n",
       "  </tbody>\n",
       "</table>\n",
       "</div>"
      ],
      "text/plain": [
       "             days_since_last_order           \n",
       "                              mean  min   max\n",
       "age_group                                    \n",
       "Adult                    10.811278  0.0  30.0\n",
       "Middle Adult             10.821972  0.0  30.0\n",
       "Senior Adult             10.791788  0.0  30.0"
      ]
     },
     "execution_count": 138,
     "metadata": {},
     "output_type": "execute_result"
    }
   ],
   "source": [
    "age_frequency_agg"
   ]
  },
  {
   "cell_type": "markdown",
   "id": "2a27b70b-140f-4c74-aaa4-f8471c68028a",
   "metadata": {},
   "source": [
    "Senior adults order only slightly less frequently than adults and middle adults."
   ]
  },
  {
   "cell_type": "markdown",
   "id": "6e5fe499-6e95-4e57-8e36-bc54e6323efa",
   "metadata": {},
   "source": [
    "## Income"
   ]
  },
  {
   "cell_type": "code",
   "execution_count": 141,
   "id": "0739cf98-2ab4-43fb-8841-5be7e5baa3ef",
   "metadata": {},
   "outputs": [],
   "source": [
    "#aggregating expenditure by income\n",
    "income_price_agg = df_ords_prods_cust.groupby('income_level').agg({'prices': ['mean', 'min', 'max']})"
   ]
  },
  {
   "cell_type": "code",
   "execution_count": 142,
   "id": "b19c2ab5-5996-4873-8b41-121a4959e27f",
   "metadata": {},
   "outputs": [
    {
     "data": {
      "text/html": [
       "<div>\n",
       "<style scoped>\n",
       "    .dataframe tbody tr th:only-of-type {\n",
       "        vertical-align: middle;\n",
       "    }\n",
       "\n",
       "    .dataframe tbody tr th {\n",
       "        vertical-align: top;\n",
       "    }\n",
       "\n",
       "    .dataframe thead tr th {\n",
       "        text-align: left;\n",
       "    }\n",
       "\n",
       "    .dataframe thead tr:last-of-type th {\n",
       "        text-align: right;\n",
       "    }\n",
       "</style>\n",
       "<table border=\"1\" class=\"dataframe\">\n",
       "  <thead>\n",
       "    <tr>\n",
       "      <th></th>\n",
       "      <th colspan=\"3\" halign=\"left\">prices</th>\n",
       "    </tr>\n",
       "    <tr>\n",
       "      <th></th>\n",
       "      <th>mean</th>\n",
       "      <th>min</th>\n",
       "      <th>max</th>\n",
       "    </tr>\n",
       "    <tr>\n",
       "      <th>income_level</th>\n",
       "      <th></th>\n",
       "      <th></th>\n",
       "      <th></th>\n",
       "    </tr>\n",
       "  </thead>\n",
       "  <tbody>\n",
       "    <tr>\n",
       "      <th>High Income</th>\n",
       "      <td>7.952649</td>\n",
       "      <td>1.0</td>\n",
       "      <td>25.0</td>\n",
       "    </tr>\n",
       "    <tr>\n",
       "      <th>Low Income</th>\n",
       "      <td>6.915685</td>\n",
       "      <td>1.0</td>\n",
       "      <td>25.0</td>\n",
       "    </tr>\n",
       "    <tr>\n",
       "      <th>Middle Income</th>\n",
       "      <td>7.925840</td>\n",
       "      <td>1.0</td>\n",
       "      <td>25.0</td>\n",
       "    </tr>\n",
       "  </tbody>\n",
       "</table>\n",
       "</div>"
      ],
      "text/plain": [
       "                 prices           \n",
       "                   mean  min   max\n",
       "income_level                      \n",
       "High Income    7.952649  1.0  25.0\n",
       "Low Income     6.915685  1.0  25.0\n",
       "Middle Income  7.925840  1.0  25.0"
      ]
     },
     "execution_count": 142,
     "metadata": {},
     "output_type": "execute_result"
    }
   ],
   "source": [
    "income_price_agg "
   ]
  },
  {
   "cell_type": "markdown",
   "id": "b6941030-3210-44eb-819a-906f0f390311",
   "metadata": {},
   "source": [
    "Low income customers spend less on average than middle income or high income customers."
   ]
  },
  {
   "cell_type": "code",
   "execution_count": 144,
   "id": "ae0c1832-38ca-4653-9fde-40576d70e7a3",
   "metadata": {},
   "outputs": [],
   "source": [
    "#aggregating frequency by income\n",
    "income_frequency_agg = df_ords_prods_cust.groupby('income_level').agg({'days_since_last_order': ['mean', 'min', 'max']})"
   ]
  },
  {
   "cell_type": "code",
   "execution_count": 145,
   "id": "c041eafc-4b1d-48d9-b3a2-c425484111f6",
   "metadata": {},
   "outputs": [
    {
     "data": {
      "text/html": [
       "<div>\n",
       "<style scoped>\n",
       "    .dataframe tbody tr th:only-of-type {\n",
       "        vertical-align: middle;\n",
       "    }\n",
       "\n",
       "    .dataframe tbody tr th {\n",
       "        vertical-align: top;\n",
       "    }\n",
       "\n",
       "    .dataframe thead tr th {\n",
       "        text-align: left;\n",
       "    }\n",
       "\n",
       "    .dataframe thead tr:last-of-type th {\n",
       "        text-align: right;\n",
       "    }\n",
       "</style>\n",
       "<table border=\"1\" class=\"dataframe\">\n",
       "  <thead>\n",
       "    <tr>\n",
       "      <th></th>\n",
       "      <th colspan=\"3\" halign=\"left\">days_since_last_order</th>\n",
       "    </tr>\n",
       "    <tr>\n",
       "      <th></th>\n",
       "      <th>mean</th>\n",
       "      <th>min</th>\n",
       "      <th>max</th>\n",
       "    </tr>\n",
       "    <tr>\n",
       "      <th>income_level</th>\n",
       "      <th></th>\n",
       "      <th></th>\n",
       "      <th></th>\n",
       "    </tr>\n",
       "  </thead>\n",
       "  <tbody>\n",
       "    <tr>\n",
       "      <th>High Income</th>\n",
       "      <td>10.768566</td>\n",
       "      <td>0.0</td>\n",
       "      <td>30.0</td>\n",
       "    </tr>\n",
       "    <tr>\n",
       "      <th>Low Income</th>\n",
       "      <td>11.132305</td>\n",
       "      <td>0.0</td>\n",
       "      <td>30.0</td>\n",
       "    </tr>\n",
       "    <tr>\n",
       "      <th>Middle Income</th>\n",
       "      <td>10.747051</td>\n",
       "      <td>0.0</td>\n",
       "      <td>30.0</td>\n",
       "    </tr>\n",
       "  </tbody>\n",
       "</table>\n",
       "</div>"
      ],
      "text/plain": [
       "              days_since_last_order           \n",
       "                               mean  min   max\n",
       "income_level                                  \n",
       "High Income               10.768566  0.0  30.0\n",
       "Low Income                11.132305  0.0  30.0\n",
       "Middle Income             10.747051  0.0  30.0"
      ]
     },
     "execution_count": 145,
     "metadata": {},
     "output_type": "execute_result"
    }
   ],
   "source": [
    "income_frequency_agg"
   ]
  },
  {
   "cell_type": "markdown",
   "id": "8da3e6be-a1f1-473a-b381-71b6ba5cb4fa",
   "metadata": {},
   "source": [
    "Low income customers order less frequently on average than middle income or high income customers."
   ]
  },
  {
   "cell_type": "markdown",
   "id": "f1e4b20d-06de-4aaa-972c-23061d4b2662",
   "metadata": {},
   "source": [
    "## Dependant status"
   ]
  },
  {
   "cell_type": "code",
   "execution_count": 148,
   "id": "b812b0fc-5662-4043-96b4-5c332cb327b3",
   "metadata": {},
   "outputs": [],
   "source": [
    "#aggregating expenditure by dependant status \n",
    "dependant_price_agg = df_ords_prods_cust.groupby('dependant_flag').agg({'prices': ['mean', 'min', 'max']})"
   ]
  },
  {
   "cell_type": "code",
   "execution_count": 149,
   "id": "9434c8b9-c4b9-460f-958c-c6c32d934b41",
   "metadata": {},
   "outputs": [
    {
     "data": {
      "text/html": [
       "<div>\n",
       "<style scoped>\n",
       "    .dataframe tbody tr th:only-of-type {\n",
       "        vertical-align: middle;\n",
       "    }\n",
       "\n",
       "    .dataframe tbody tr th {\n",
       "        vertical-align: top;\n",
       "    }\n",
       "\n",
       "    .dataframe thead tr th {\n",
       "        text-align: left;\n",
       "    }\n",
       "\n",
       "    .dataframe thead tr:last-of-type th {\n",
       "        text-align: right;\n",
       "    }\n",
       "</style>\n",
       "<table border=\"1\" class=\"dataframe\">\n",
       "  <thead>\n",
       "    <tr>\n",
       "      <th></th>\n",
       "      <th colspan=\"3\" halign=\"left\">prices</th>\n",
       "    </tr>\n",
       "    <tr>\n",
       "      <th></th>\n",
       "      <th>mean</th>\n",
       "      <th>min</th>\n",
       "      <th>max</th>\n",
       "    </tr>\n",
       "    <tr>\n",
       "      <th>dependant_flag</th>\n",
       "      <th></th>\n",
       "      <th></th>\n",
       "      <th></th>\n",
       "    </tr>\n",
       "  </thead>\n",
       "  <tbody>\n",
       "    <tr>\n",
       "      <th>Has Dependants</th>\n",
       "      <td>7.790953</td>\n",
       "      <td>1.0</td>\n",
       "      <td>25.0</td>\n",
       "    </tr>\n",
       "    <tr>\n",
       "      <th>No Dependants</th>\n",
       "      <td>7.789572</td>\n",
       "      <td>1.0</td>\n",
       "      <td>25.0</td>\n",
       "    </tr>\n",
       "  </tbody>\n",
       "</table>\n",
       "</div>"
      ],
      "text/plain": [
       "                  prices           \n",
       "                    mean  min   max\n",
       "dependant_flag                     \n",
       "Has Dependants  7.790953  1.0  25.0\n",
       "No Dependants   7.789572  1.0  25.0"
      ]
     },
     "execution_count": 149,
     "metadata": {},
     "output_type": "execute_result"
    }
   ],
   "source": [
    "dependant_price_agg"
   ]
  },
  {
   "cell_type": "markdown",
   "id": "20f507cd-bc22-4aa4-b0f3-468739a9c074",
   "metadata": {},
   "source": [
    "There is little difference in amount spend based on dependant status."
   ]
  },
  {
   "cell_type": "code",
   "execution_count": 151,
   "id": "dacbe704-fb58-487f-b399-39fd71065c7d",
   "metadata": {},
   "outputs": [],
   "source": [
    "#aggregating frequency by dependant status \n",
    "dependant_frequency_agg = df_ords_prods_cust.groupby('dependant_flag').agg({'days_since_last_order': ['mean', 'min', 'max']})"
   ]
  },
  {
   "cell_type": "code",
   "execution_count": 152,
   "id": "61466b49-7762-4691-8d29-43d4129d8cfe",
   "metadata": {},
   "outputs": [
    {
     "data": {
      "text/html": [
       "<div>\n",
       "<style scoped>\n",
       "    .dataframe tbody tr th:only-of-type {\n",
       "        vertical-align: middle;\n",
       "    }\n",
       "\n",
       "    .dataframe tbody tr th {\n",
       "        vertical-align: top;\n",
       "    }\n",
       "\n",
       "    .dataframe thead tr th {\n",
       "        text-align: left;\n",
       "    }\n",
       "\n",
       "    .dataframe thead tr:last-of-type th {\n",
       "        text-align: right;\n",
       "    }\n",
       "</style>\n",
       "<table border=\"1\" class=\"dataframe\">\n",
       "  <thead>\n",
       "    <tr>\n",
       "      <th></th>\n",
       "      <th colspan=\"3\" halign=\"left\">days_since_last_order</th>\n",
       "    </tr>\n",
       "    <tr>\n",
       "      <th></th>\n",
       "      <th>mean</th>\n",
       "      <th>min</th>\n",
       "      <th>max</th>\n",
       "    </tr>\n",
       "    <tr>\n",
       "      <th>dependant_flag</th>\n",
       "      <th></th>\n",
       "      <th></th>\n",
       "      <th></th>\n",
       "    </tr>\n",
       "  </thead>\n",
       "  <tbody>\n",
       "    <tr>\n",
       "      <th>Has Dependants</th>\n",
       "      <td>10.816416</td>\n",
       "      <td>0.0</td>\n",
       "      <td>30.0</td>\n",
       "    </tr>\n",
       "    <tr>\n",
       "      <th>No Dependants</th>\n",
       "      <td>10.791951</td>\n",
       "      <td>0.0</td>\n",
       "      <td>30.0</td>\n",
       "    </tr>\n",
       "  </tbody>\n",
       "</table>\n",
       "</div>"
      ],
      "text/plain": [
       "               days_since_last_order           \n",
       "                                mean  min   max\n",
       "dependant_flag                                 \n",
       "Has Dependants             10.816416  0.0  30.0\n",
       "No Dependants              10.791951  0.0  30.0"
      ]
     },
     "execution_count": 152,
     "metadata": {},
     "output_type": "execute_result"
    }
   ],
   "source": [
    "dependant_frequency_agg"
   ]
  },
  {
   "cell_type": "markdown",
   "id": "10f4eb12-75b9-43e3-a536-22df747152fd",
   "metadata": {},
   "source": [
    "There is little difference in order frequency based on dependant status."
   ]
  },
  {
   "cell_type": "markdown",
   "id": "ad410677-fd36-4904-b5b7-c2e0a434c3c0",
   "metadata": {},
   "source": [
    "## 8. Comparing customer profiles with regions and departments."
   ]
  },
  {
   "cell_type": "markdown",
   "id": "0ebf93c9-6d78-47fb-bfbb-330131d0acf7",
   "metadata": {},
   "source": [
    "### Comparing age with region"
   ]
  },
  {
   "cell_type": "code",
   "execution_count": 156,
   "id": "997ae853-31cb-4bae-a42e-995b81462c36",
   "metadata": {},
   "outputs": [],
   "source": [
    "#creating age and region crosstab\n",
    "age_by_region_crosstab = pd.crosstab(df_ords_prods_cust['region'], df_ords_prods_cust['age_group'], dropna = False)"
   ]
  },
  {
   "cell_type": "code",
   "execution_count": 157,
   "id": "89827ddb-a1b4-410b-b4c7-004ee2593a17",
   "metadata": {},
   "outputs": [
    {
     "data": {
      "text/html": [
       "<div>\n",
       "<style scoped>\n",
       "    .dataframe tbody tr th:only-of-type {\n",
       "        vertical-align: middle;\n",
       "    }\n",
       "\n",
       "    .dataframe tbody tr th {\n",
       "        vertical-align: top;\n",
       "    }\n",
       "\n",
       "    .dataframe thead th {\n",
       "        text-align: right;\n",
       "    }\n",
       "</style>\n",
       "<table border=\"1\" class=\"dataframe\">\n",
       "  <thead>\n",
       "    <tr style=\"text-align: right;\">\n",
       "      <th>age_group</th>\n",
       "      <th>Adult</th>\n",
       "      <th>Middle Adult</th>\n",
       "      <th>Senior Adult</th>\n",
       "    </tr>\n",
       "    <tr>\n",
       "      <th>region</th>\n",
       "      <th></th>\n",
       "      <th></th>\n",
       "      <th></th>\n",
       "    </tr>\n",
       "  </thead>\n",
       "  <tbody>\n",
       "    <tr>\n",
       "      <th>Midwest</th>\n",
       "      <td>2483001</td>\n",
       "      <td>2874466</td>\n",
       "      <td>1904046</td>\n",
       "    </tr>\n",
       "    <tr>\n",
       "      <th>Northeast</th>\n",
       "      <td>1871737</td>\n",
       "      <td>2108141</td>\n",
       "      <td>1484807</td>\n",
       "    </tr>\n",
       "    <tr>\n",
       "      <th>South</th>\n",
       "      <td>3608247</td>\n",
       "      <td>3994431</td>\n",
       "      <td>2708461</td>\n",
       "    </tr>\n",
       "    <tr>\n",
       "      <th>West</th>\n",
       "      <td>2702125</td>\n",
       "      <td>3126872</td>\n",
       "      <td>2098230</td>\n",
       "    </tr>\n",
       "  </tbody>\n",
       "</table>\n",
       "</div>"
      ],
      "text/plain": [
       "age_group    Adult  Middle Adult  Senior Adult\n",
       "region                                        \n",
       "Midwest    2483001       2874466       1904046\n",
       "Northeast  1871737       2108141       1484807\n",
       "South      3608247       3994431       2708461\n",
       "West       2702125       3126872       2098230"
      ]
     },
     "execution_count": 157,
     "metadata": {},
     "output_type": "execute_result"
    }
   ],
   "source": [
    "#checking the crosstab\n",
    "age_by_region_crosstab"
   ]
  },
  {
   "cell_type": "code",
   "execution_count": 158,
   "id": "db578f42-ac7a-49ef-97e7-9520d524f90a",
   "metadata": {
    "scrolled": true
   },
   "outputs": [
    {
     "data": {
      "text/plain": [
       "<matplotlib.legend.Legend at 0x204b444f290>"
      ]
     },
     "execution_count": 158,
     "metadata": {},
     "output_type": "execute_result"
    },
    {
     "data": {
      "image/png": "[encoded data removed]",
      "text/plain": [
       "<Figure size 640x480 with 1 Axes>"
      ]
     },
     "metadata": {},
     "output_type": "display_data"
    }
   ],
   "source": [
    "#creating a bar chart of age groups by region \n",
    "age_by_region = age_by_region_crosstab.plot.bar()\n",
    "plt.title('Age Groups by Region')\n",
    "plt.xlabel('Region')\n",
    "plt.ylabel('Count')\n",
    "plt.legend(title='Age Group')\n"
   ]
  },
  {
   "cell_type": "markdown",
   "id": "ef742e67-d510-491d-b7b2-36707981059b",
   "metadata": {},
   "source": [
    "There are more people of all age groups in the South than any region.  In each region, there are more middle adults than there are adults and seniors."
   ]
  },
  {
   "cell_type": "code",
   "execution_count": 160,
   "id": "2accc94c-c5d0-4969-857a-14d59159e54a",
   "metadata": {},
   "outputs": [],
   "source": [
    "#saving age_by_region bar chart \n",
    "age_by_region.figure.savefig((os.path.join(path, '04 Analysis','Visualizations', 'age_group_by_region.png',)), bbox_inches='tight')"
   ]
  },
  {
   "cell_type": "markdown",
   "id": "1dfbb8be-d652-4a08-8ad5-86accb549f36",
   "metadata": {},
   "source": [
    "### Comparing Income Level With Region"
   ]
  },
  {
   "cell_type": "code",
   "execution_count": 162,
   "id": "48046769-3051-43b3-baf5-a5fe75459a74",
   "metadata": {},
   "outputs": [],
   "source": [
    "#creating region and income_level crosstab\n",
    "income_level_by_region_crosstab = pd.crosstab(df_ords_prods_cust['region'], df_ords_prods_cust['income_level'], dropna = False)"
   ]
  },
  {
   "cell_type": "code",
   "execution_count": 163,
   "id": "339620a9-a444-4a9e-a40b-64449be363c5",
   "metadata": {},
   "outputs": [
    {
     "data": {
      "text/html": [
       "<div>\n",
       "<style scoped>\n",
       "    .dataframe tbody tr th:only-of-type {\n",
       "        vertical-align: middle;\n",
       "    }\n",
       "\n",
       "    .dataframe tbody tr th {\n",
       "        vertical-align: top;\n",
       "    }\n",
       "\n",
       "    .dataframe thead th {\n",
       "        text-align: right;\n",
       "    }\n",
       "</style>\n",
       "<table border=\"1\" class=\"dataframe\">\n",
       "  <thead>\n",
       "    <tr style=\"text-align: right;\">\n",
       "      <th>income_level</th>\n",
       "      <th>High Income</th>\n",
       "      <th>Low Income</th>\n",
       "      <th>Middle Income</th>\n",
       "    </tr>\n",
       "    <tr>\n",
       "      <th>region</th>\n",
       "      <th></th>\n",
       "      <th></th>\n",
       "      <th></th>\n",
       "    </tr>\n",
       "  </thead>\n",
       "  <tbody>\n",
       "    <tr>\n",
       "      <th>Midwest</th>\n",
       "      <td>2753494</td>\n",
       "      <td>1025408</td>\n",
       "      <td>3482611</td>\n",
       "    </tr>\n",
       "    <tr>\n",
       "      <th>Northeast</th>\n",
       "      <td>2058653</td>\n",
       "      <td>789479</td>\n",
       "      <td>2616553</td>\n",
       "    </tr>\n",
       "    <tr>\n",
       "      <th>South</th>\n",
       "      <td>3810024</td>\n",
       "      <td>1509183</td>\n",
       "      <td>4991932</td>\n",
       "    </tr>\n",
       "    <tr>\n",
       "      <th>West</th>\n",
       "      <td>2948289</td>\n",
       "      <td>1128318</td>\n",
       "      <td>3850620</td>\n",
       "    </tr>\n",
       "  </tbody>\n",
       "</table>\n",
       "</div>"
      ],
      "text/plain": [
       "income_level  High Income  Low Income  Middle Income\n",
       "region                                              \n",
       "Midwest           2753494     1025408        3482611\n",
       "Northeast         2058653      789479        2616553\n",
       "South             3810024     1509183        4991932\n",
       "West              2948289     1128318        3850620"
      ]
     },
     "execution_count": 163,
     "metadata": {},
     "output_type": "execute_result"
    }
   ],
   "source": [
    "#checking the crosstab \n",
    "income_level_by_region_crosstab"
   ]
  },
  {
   "cell_type": "code",
   "execution_count": 164,
   "id": "89c0dbc3-1590-40f6-8c3d-514581236337",
   "metadata": {},
   "outputs": [
    {
     "data": {
      "text/plain": [
       "<matplotlib.legend.Legend at 0x204b5cba270>"
      ]
     },
     "execution_count": 164,
     "metadata": {},
     "output_type": "execute_result"
    },
    {
     "data": {
      "image/png": "[encoded data removed]",
      "text/plain": [
       "<Figure size 640x480 with 1 Axes>"
      ]
     },
     "metadata": {},
     "output_type": "display_data"
    }
   ],
   "source": [
    "#creating income_level_by_region bar chart \n",
    "income_level_by_region = income_level_by_region_crosstab.plot.bar()\n",
    "plt.title('Income Level by Region')\n",
    "plt.xlabel('Region')\n",
    "plt.ylabel('Count')\n",
    "plt.legend(title='Income Level')\n"
   ]
  },
  {
   "cell_type": "markdown",
   "id": "55b5e1cf-f36a-4b03-b4e9-7e7225290542",
   "metadata": {},
   "source": [
    "In each region, middle income customers make up the largest group.  "
   ]
  },
  {
   "cell_type": "code",
   "execution_count": 166,
   "id": "55355c72-5641-4607-af4c-2cccaed64d0e",
   "metadata": {},
   "outputs": [],
   "source": [
    "#saving income_level_by_region bar chart \n",
    "income_level_by_region.figure.savefig((os.path.join(path, '04 Analysis','Visualizations', 'income_level_by_region.png',)), bbox_inches='tight')"
   ]
  },
  {
   "cell_type": "markdown",
   "id": "546698e0-2736-48ba-a8e3-6aacc8cf56db",
   "metadata": {},
   "source": [
    "### Comparing Dependant Status with Region"
   ]
  },
  {
   "cell_type": "code",
   "execution_count": 168,
   "id": "324cd591-5b91-4f96-ad20-862dac1cd536",
   "metadata": {},
   "outputs": [],
   "source": [
    "#creating region and dependant_flag crosstab\n",
    "dependant_status_by_region_crosstab = pd.crosstab(df_ords_prods_cust['region'], df_ords_prods_cust['dependant_flag'], dropna = False)"
   ]
  },
  {
   "cell_type": "code",
   "execution_count": 169,
   "id": "79a69d30-c166-4118-b176-c71a2327a59c",
   "metadata": {},
   "outputs": [
    {
     "data": {
      "text/html": [
       "<div>\n",
       "<style scoped>\n",
       "    .dataframe tbody tr th:only-of-type {\n",
       "        vertical-align: middle;\n",
       "    }\n",
       "\n",
       "    .dataframe tbody tr th {\n",
       "        vertical-align: top;\n",
       "    }\n",
       "\n",
       "    .dataframe thead th {\n",
       "        text-align: right;\n",
       "    }\n",
       "</style>\n",
       "<table border=\"1\" class=\"dataframe\">\n",
       "  <thead>\n",
       "    <tr style=\"text-align: right;\">\n",
       "      <th>dependant_flag</th>\n",
       "      <th>Has Dependants</th>\n",
       "      <th>No Dependants</th>\n",
       "    </tr>\n",
       "    <tr>\n",
       "      <th>region</th>\n",
       "      <th></th>\n",
       "      <th></th>\n",
       "    </tr>\n",
       "  </thead>\n",
       "  <tbody>\n",
       "    <tr>\n",
       "      <th>Midwest</th>\n",
       "      <td>5438697</td>\n",
       "      <td>1822816</td>\n",
       "    </tr>\n",
       "    <tr>\n",
       "      <th>Northeast</th>\n",
       "      <td>4110203</td>\n",
       "      <td>1354482</td>\n",
       "    </tr>\n",
       "    <tr>\n",
       "      <th>South</th>\n",
       "      <td>7729206</td>\n",
       "      <td>2581933</td>\n",
       "    </tr>\n",
       "    <tr>\n",
       "      <th>West</th>\n",
       "      <td>5946777</td>\n",
       "      <td>1980450</td>\n",
       "    </tr>\n",
       "  </tbody>\n",
       "</table>\n",
       "</div>"
      ],
      "text/plain": [
       "dependant_flag  Has Dependants  No Dependants\n",
       "region                                       \n",
       "Midwest                5438697        1822816\n",
       "Northeast              4110203        1354482\n",
       "South                  7729206        2581933\n",
       "West                   5946777        1980450"
      ]
     },
     "execution_count": 169,
     "metadata": {},
     "output_type": "execute_result"
    }
   ],
   "source": [
    "#checking the cross tab\n",
    "dependant_status_by_region_crosstab"
   ]
  },
  {
   "cell_type": "code",
   "execution_count": 170,
   "id": "75e967a4-0df2-4d2a-89b9-6ebbb6440ccc",
   "metadata": {},
   "outputs": [
    {
     "data": {
      "text/plain": [
       "<matplotlib.legend.Legend at 0x204b5c970b0>"
      ]
     },
     "execution_count": 170,
     "metadata": {},
     "output_type": "execute_result"
    },
    {
     "data": {
      "image/png": "[encoded data removed]",
      "text/plain": [
       "<Figure size 640x480 with 1 Axes>"
      ]
     },
     "metadata": {},
     "output_type": "display_data"
    }
   ],
   "source": [
    "#creating dependant_status_by_region bar chart \n",
    "dependant_status_by_region = dependant_status_by_region_crosstab.plot.bar()\n",
    "plt.title('Dependant Status by Region')\n",
    "plt.xlabel('Region')\n",
    "plt.ylabel('Count')\n",
    "plt.legend(title='Dependant Status')\n"
   ]
  },
  {
   "cell_type": "markdown",
   "id": "45926628-cec2-4386-8220-b202e33adde7",
   "metadata": {},
   "source": [
    "For each region, there are more than twice as many people with dependants than there are people with no dependants. "
   ]
  },
  {
   "cell_type": "code",
   "execution_count": 172,
   "id": "a5dc1c7a-419f-4226-b642-aa449b5d7d51",
   "metadata": {},
   "outputs": [],
   "source": [
    "dependant_status_by_region.figure.savefig((os.path.join(path, '04 Analysis','Visualizations', 'dependant_status_by_region.png',)), bbox_inches='tight')"
   ]
  },
  {
   "cell_type": "markdown",
   "id": "894664a3-fae9-4e43-ad51-a8f135240dc3",
   "metadata": {},
   "source": [
    "### Comparing age with departments"
   ]
  },
  {
   "cell_type": "code",
   "execution_count": 174,
   "id": "2669cf96-283e-48bf-b49c-4c91821f3e21",
   "metadata": {},
   "outputs": [],
   "source": [
    "#creating a departments and age_group crosstab \n",
    "departments_by_age_group_crosstab = pd.crosstab(df_ords_prods_cust['department'], df_ords_prods_cust['age_group'], dropna = False)"
   ]
  },
  {
   "cell_type": "code",
   "execution_count": 175,
   "id": "4dae5cf1-4df7-476d-b05f-6fa5deb802bd",
   "metadata": {},
   "outputs": [
    {
     "data": {
      "text/html": [
       "<div>\n",
       "<style scoped>\n",
       "    .dataframe tbody tr th:only-of-type {\n",
       "        vertical-align: middle;\n",
       "    }\n",
       "\n",
       "    .dataframe tbody tr th {\n",
       "        vertical-align: top;\n",
       "    }\n",
       "\n",
       "    .dataframe thead th {\n",
       "        text-align: right;\n",
       "    }\n",
       "</style>\n",
       "<table border=\"1\" class=\"dataframe\">\n",
       "  <thead>\n",
       "    <tr style=\"text-align: right;\">\n",
       "      <th>age_group</th>\n",
       "      <th>Adult</th>\n",
       "      <th>Middle Adult</th>\n",
       "      <th>Senior Adult</th>\n",
       "    </tr>\n",
       "    <tr>\n",
       "      <th>department</th>\n",
       "      <th></th>\n",
       "      <th></th>\n",
       "      <th></th>\n",
       "    </tr>\n",
       "  </thead>\n",
       "  <tbody>\n",
       "    <tr>\n",
       "      <th>alcohol</th>\n",
       "      <td>51656</td>\n",
       "      <td>56278</td>\n",
       "      <td>36693</td>\n",
       "    </tr>\n",
       "    <tr>\n",
       "      <th>babies</th>\n",
       "      <td>141456</td>\n",
       "      <td>162732</td>\n",
       "      <td>106204</td>\n",
       "    </tr>\n",
       "    <tr>\n",
       "      <th>bakery</th>\n",
       "      <td>386002</td>\n",
       "      <td>438829</td>\n",
       "      <td>295997</td>\n",
       "    </tr>\n",
       "    <tr>\n",
       "      <th>beverages</th>\n",
       "      <td>874173</td>\n",
       "      <td>1013708</td>\n",
       "      <td>684020</td>\n",
       "    </tr>\n",
       "    <tr>\n",
       "      <th>breakfast</th>\n",
       "      <td>231939</td>\n",
       "      <td>263615</td>\n",
       "      <td>175296</td>\n",
       "    </tr>\n",
       "    <tr>\n",
       "      <th>bulk</th>\n",
       "      <td>11624</td>\n",
       "      <td>12882</td>\n",
       "      <td>8945</td>\n",
       "    </tr>\n",
       "    <tr>\n",
       "      <th>canned goods</th>\n",
       "      <td>349716</td>\n",
       "      <td>394849</td>\n",
       "      <td>267509</td>\n",
       "    </tr>\n",
       "    <tr>\n",
       "      <th>dairy eggs</th>\n",
       "      <td>1793303</td>\n",
       "      <td>2015807</td>\n",
       "      <td>1368072</td>\n",
       "    </tr>\n",
       "    <tr>\n",
       "      <th>deli</th>\n",
       "      <td>345845</td>\n",
       "      <td>392790</td>\n",
       "      <td>265199</td>\n",
       "    </tr>\n",
       "    <tr>\n",
       "      <th>dry goods pasta</th>\n",
       "      <td>283499</td>\n",
       "      <td>321321</td>\n",
       "      <td>217316</td>\n",
       "    </tr>\n",
       "    <tr>\n",
       "      <th>frozen</th>\n",
       "      <td>726803</td>\n",
       "      <td>830678</td>\n",
       "      <td>564250</td>\n",
       "    </tr>\n",
       "    <tr>\n",
       "      <th>household</th>\n",
       "      <td>239105</td>\n",
       "      <td>274122</td>\n",
       "      <td>186630</td>\n",
       "    </tr>\n",
       "    <tr>\n",
       "      <th>international</th>\n",
       "      <td>88846</td>\n",
       "      <td>99946</td>\n",
       "      <td>67199</td>\n",
       "    </tr>\n",
       "    <tr>\n",
       "      <th>meat seafood</th>\n",
       "      <td>230499</td>\n",
       "      <td>263132</td>\n",
       "      <td>181150</td>\n",
       "    </tr>\n",
       "    <tr>\n",
       "      <th>missing</th>\n",
       "      <td>22499</td>\n",
       "      <td>25354</td>\n",
       "      <td>16915</td>\n",
       "    </tr>\n",
       "    <tr>\n",
       "      <th>other</th>\n",
       "      <td>12118</td>\n",
       "      <td>13347</td>\n",
       "      <td>8946</td>\n",
       "    </tr>\n",
       "    <tr>\n",
       "      <th>pantry</th>\n",
       "      <td>612162</td>\n",
       "      <td>698160</td>\n",
       "      <td>472383</td>\n",
       "    </tr>\n",
       "    <tr>\n",
       "      <th>personal care</th>\n",
       "      <td>144807</td>\n",
       "      <td>168447</td>\n",
       "      <td>111052</td>\n",
       "    </tr>\n",
       "    <tr>\n",
       "      <th>pets</th>\n",
       "      <td>31918</td>\n",
       "      <td>36027</td>\n",
       "      <td>25115</td>\n",
       "    </tr>\n",
       "    <tr>\n",
       "      <th>produce</th>\n",
       "      <td>3128853</td>\n",
       "      <td>3542316</td>\n",
       "      <td>2408104</td>\n",
       "    </tr>\n",
       "    <tr>\n",
       "      <th>snacks</th>\n",
       "      <td>958287</td>\n",
       "      <td>1079570</td>\n",
       "      <td>728549</td>\n",
       "    </tr>\n",
       "  </tbody>\n",
       "</table>\n",
       "</div>"
      ],
      "text/plain": [
       "age_group          Adult  Middle Adult  Senior Adult\n",
       "department                                          \n",
       "alcohol            51656         56278         36693\n",
       "babies            141456        162732        106204\n",
       "bakery            386002        438829        295997\n",
       "beverages         874173       1013708        684020\n",
       "breakfast         231939        263615        175296\n",
       "bulk               11624         12882          8945\n",
       "canned goods      349716        394849        267509\n",
       "dairy eggs       1793303       2015807       1368072\n",
       "deli              345845        392790        265199\n",
       "dry goods pasta   283499        321321        217316\n",
       "frozen            726803        830678        564250\n",
       "household         239105        274122        186630\n",
       "international      88846         99946         67199\n",
       "meat seafood      230499        263132        181150\n",
       "missing            22499         25354         16915\n",
       "other              12118         13347          8946\n",
       "pantry            612162        698160        472383\n",
       "personal care     144807        168447        111052\n",
       "pets               31918         36027         25115\n",
       "produce          3128853       3542316       2408104\n",
       "snacks            958287       1079570        728549"
      ]
     },
     "execution_count": 175,
     "metadata": {},
     "output_type": "execute_result"
    }
   ],
   "source": [
    "#checking the crosstab\n",
    "departments_by_age_group_crosstab"
   ]
  },
  {
   "cell_type": "code",
   "execution_count": 176,
   "id": "82857c75-77a8-4105-b4ee-29f57f4d67a9",
   "metadata": {},
   "outputs": [
    {
     "data": {
      "text/plain": [
       "<matplotlib.legend.Legend at 0x204b43ca720>"
      ]
     },
     "execution_count": 176,
     "metadata": {},
     "output_type": "execute_result"
    },
    {
     "data": {
      "image/png": "[encoded data removed]",
      "text/plain": [
       "<Figure size 640x480 with 1 Axes>"
      ]
     },
     "metadata": {},
     "output_type": "display_data"
    }
   ],
   "source": [
    "#creating departments by age group chart \n",
    "departments_by_age_group = departments_by_age_group_crosstab.plot.bar()\n",
    "plt.title('Department Sales by Age Group')\n",
    "plt.xlabel('Departments')\n",
    "plt.ylabel('Count')\n",
    "plt.legend(title='Age Group')"
   ]
  },
  {
   "cell_type": "markdown",
   "id": "7a49ab6a-b44c-459e-ae36-7227643c9132",
   "metadata": {},
   "source": [
    "For all three age groups, the department that accounts for the most sales is produce, followed by dairy eggs, snacks, beverages and frozen. Within each of these groups, middle adults make up the most sales.    "
   ]
  },
  {
   "cell_type": "code",
   "execution_count": 178,
   "id": "4b06fb63-d442-4592-b79a-b922c3d2185a",
   "metadata": {},
   "outputs": [],
   "source": [
    "#exporting the bar graph\n",
    "departments_by_age_group.figure.savefig((os.path.join(path, '04 Analysis','Visualizations', 'departments_by_age_group.png',)), bbox_inches='tight')"
   ]
  },
  {
   "cell_type": "markdown",
   "id": "b54ac47c-37bd-48e3-a32f-83ed1058f447",
   "metadata": {},
   "source": [
    "### Comparing income level with departments"
   ]
  },
  {
   "cell_type": "code",
   "execution_count": 180,
   "id": "3bb00d53-c176-4350-93f7-ffaeadf099a9",
   "metadata": {},
   "outputs": [],
   "source": [
    "#creating a departments and income level crosstab\n",
    "departments_by_income_level_crosstab = pd.crosstab(df_ords_prods_cust['department'], df_ords_prods_cust['income_level'], dropna = False)"
   ]
  },
  {
   "cell_type": "code",
   "execution_count": 181,
   "id": "521c3754-bd1c-4509-aa3c-8bdaa64683d3",
   "metadata": {},
   "outputs": [
    {
     "data": {
      "text/html": [
       "<div>\n",
       "<style scoped>\n",
       "    .dataframe tbody tr th:only-of-type {\n",
       "        vertical-align: middle;\n",
       "    }\n",
       "\n",
       "    .dataframe tbody tr th {\n",
       "        vertical-align: top;\n",
       "    }\n",
       "\n",
       "    .dataframe thead th {\n",
       "        text-align: right;\n",
       "    }\n",
       "</style>\n",
       "<table border=\"1\" class=\"dataframe\">\n",
       "  <thead>\n",
       "    <tr style=\"text-align: right;\">\n",
       "      <th>income_level</th>\n",
       "      <th>High Income</th>\n",
       "      <th>Low Income</th>\n",
       "      <th>Middle Income</th>\n",
       "    </tr>\n",
       "    <tr>\n",
       "      <th>department</th>\n",
       "      <th></th>\n",
       "      <th></th>\n",
       "      <th></th>\n",
       "    </tr>\n",
       "  </thead>\n",
       "  <tbody>\n",
       "    <tr>\n",
       "      <th>alcohol</th>\n",
       "      <td>57718</td>\n",
       "      <td>22199</td>\n",
       "      <td>64710</td>\n",
       "    </tr>\n",
       "    <tr>\n",
       "      <th>babies</th>\n",
       "      <td>158179</td>\n",
       "      <td>43438</td>\n",
       "      <td>208775</td>\n",
       "    </tr>\n",
       "    <tr>\n",
       "      <th>bakery</th>\n",
       "      <td>429000</td>\n",
       "      <td>144086</td>\n",
       "      <td>547742</td>\n",
       "    </tr>\n",
       "    <tr>\n",
       "      <th>beverages</th>\n",
       "      <td>915388</td>\n",
       "      <td>479742</td>\n",
       "      <td>1176771</td>\n",
       "    </tr>\n",
       "    <tr>\n",
       "      <th>breakfast</th>\n",
       "      <td>242427</td>\n",
       "      <td>116540</td>\n",
       "      <td>311883</td>\n",
       "    </tr>\n",
       "    <tr>\n",
       "      <th>bulk</th>\n",
       "      <td>11362</td>\n",
       "      <td>5974</td>\n",
       "      <td>16115</td>\n",
       "    </tr>\n",
       "    <tr>\n",
       "      <th>canned goods</th>\n",
       "      <td>397167</td>\n",
       "      <td>112945</td>\n",
       "      <td>501962</td>\n",
       "    </tr>\n",
       "    <tr>\n",
       "      <th>dairy eggs</th>\n",
       "      <td>1962285</td>\n",
       "      <td>680816</td>\n",
       "      <td>2534081</td>\n",
       "    </tr>\n",
       "    <tr>\n",
       "      <th>deli</th>\n",
       "      <td>376328</td>\n",
       "      <td>141758</td>\n",
       "      <td>485748</td>\n",
       "    </tr>\n",
       "    <tr>\n",
       "      <th>dry goods pasta</th>\n",
       "      <td>319995</td>\n",
       "      <td>92401</td>\n",
       "      <td>409740</td>\n",
       "    </tr>\n",
       "    <tr>\n",
       "      <th>frozen</th>\n",
       "      <td>806044</td>\n",
       "      <td>287968</td>\n",
       "      <td>1027719</td>\n",
       "    </tr>\n",
       "    <tr>\n",
       "      <th>household</th>\n",
       "      <td>263054</td>\n",
       "      <td>111508</td>\n",
       "      <td>325295</td>\n",
       "    </tr>\n",
       "    <tr>\n",
       "      <th>international</th>\n",
       "      <td>97265</td>\n",
       "      <td>30240</td>\n",
       "      <td>128486</td>\n",
       "    </tr>\n",
       "    <tr>\n",
       "      <th>meat seafood</th>\n",
       "      <td>273648</td>\n",
       "      <td>54717</td>\n",
       "      <td>346416</td>\n",
       "    </tr>\n",
       "    <tr>\n",
       "      <th>missing</th>\n",
       "      <td>24142</td>\n",
       "      <td>8902</td>\n",
       "      <td>31724</td>\n",
       "    </tr>\n",
       "    <tr>\n",
       "      <th>other</th>\n",
       "      <td>12857</td>\n",
       "      <td>4958</td>\n",
       "      <td>16596</td>\n",
       "    </tr>\n",
       "    <tr>\n",
       "      <th>pantry</th>\n",
       "      <td>685276</td>\n",
       "      <td>226221</td>\n",
       "      <td>871208</td>\n",
       "    </tr>\n",
       "    <tr>\n",
       "      <th>personal care</th>\n",
       "      <td>157783</td>\n",
       "      <td>62888</td>\n",
       "      <td>203635</td>\n",
       "    </tr>\n",
       "    <tr>\n",
       "      <th>pets</th>\n",
       "      <td>36842</td>\n",
       "      <td>11782</td>\n",
       "      <td>44436</td>\n",
       "    </tr>\n",
       "    <tr>\n",
       "      <th>produce</th>\n",
       "      <td>3445178</td>\n",
       "      <td>1139552</td>\n",
       "      <td>4494543</td>\n",
       "    </tr>\n",
       "    <tr>\n",
       "      <th>snacks</th>\n",
       "      <td>898522</td>\n",
       "      <td>673753</td>\n",
       "      <td>1194131</td>\n",
       "    </tr>\n",
       "  </tbody>\n",
       "</table>\n",
       "</div>"
      ],
      "text/plain": [
       "income_level     High Income  Low Income  Middle Income\n",
       "department                                             \n",
       "alcohol                57718       22199          64710\n",
       "babies                158179       43438         208775\n",
       "bakery                429000      144086         547742\n",
       "beverages             915388      479742        1176771\n",
       "breakfast             242427      116540         311883\n",
       "bulk                   11362        5974          16115\n",
       "canned goods          397167      112945         501962\n",
       "dairy eggs           1962285      680816        2534081\n",
       "deli                  376328      141758         485748\n",
       "dry goods pasta       319995       92401         409740\n",
       "frozen                806044      287968        1027719\n",
       "household             263054      111508         325295\n",
       "international          97265       30240         128486\n",
       "meat seafood          273648       54717         346416\n",
       "missing                24142        8902          31724\n",
       "other                  12857        4958          16596\n",
       "pantry                685276      226221         871208\n",
       "personal care         157783       62888         203635\n",
       "pets                   36842       11782          44436\n",
       "produce              3445178     1139552        4494543\n",
       "snacks                898522      673753        1194131"
      ]
     },
     "execution_count": 181,
     "metadata": {},
     "output_type": "execute_result"
    }
   ],
   "source": [
    "#checking the crosstab\n",
    "departments_by_income_level_crosstab"
   ]
  },
  {
   "cell_type": "code",
   "execution_count": 182,
   "id": "9175fb74-a2a7-4082-add4-f26bc6e6c252",
   "metadata": {
    "scrolled": true
   },
   "outputs": [
    {
     "data": {
      "text/plain": [
       "<matplotlib.legend.Legend at 0x204b5ca5f70>"
      ]
     },
     "execution_count": 182,
     "metadata": {},
     "output_type": "execute_result"
    },
    {
     "data": {
      "image/png": "[encoded data removed]",
      "text/plain": [
       "<Figure size 640x480 with 1 Axes>"
      ]
     },
     "metadata": {},
     "output_type": "display_data"
    }
   ],
   "source": [
    "#creating a departments by income level chart \n",
    "departments_by_income_level = departments_by_income_level_crosstab.plot.bar()\n",
    "plt.title('Department Sales by Income Level')\n",
    "plt.xlabel('Department')\n",
    "plt.ylabel('Count')\n",
    "plt.legend(title='Income Level')"
   ]
  },
  {
   "cell_type": "markdown",
   "id": "0f17dcec-87b2-4f9d-816e-b37fb51463be",
   "metadata": {},
   "source": [
    "Produce, dairy/eggs, beverages, snacks, and frozen make up the most sales for all income levels.  Within each of these categories, the middle income level accounts for the most sales.  "
   ]
  },
  {
   "cell_type": "code",
   "execution_count": 184,
   "id": "cf1de718-9dc2-4b02-b521-dde4bb24bb15",
   "metadata": {},
   "outputs": [],
   "source": [
    "#saving departments by income level chart\n",
    "departments_by_income_level.figure.savefig((os.path.join(path, '04 Analysis','Visualizations', 'departments_by_income_level.png',)), bbox_inches='tight')"
   ]
  },
  {
   "cell_type": "markdown",
   "id": "b77ad2d7-dd13-4b44-988b-16c570ef53c6",
   "metadata": {},
   "source": [
    "### Comparing dependant status with departments"
   ]
  },
  {
   "cell_type": "code",
   "execution_count": 186,
   "id": "8b1d9654-3947-4b1c-aee2-89cd2a960ac7",
   "metadata": {},
   "outputs": [],
   "source": [
    "#creating a departments and dependant status crosstab\n",
    "departments_by_dependant_status_crosstab = pd.crosstab(df_ords_prods_cust['department'], df_ords_prods_cust['dependant_flag'], dropna = False)"
   ]
  },
  {
   "cell_type": "code",
   "execution_count": 187,
   "id": "2d578e3b-0769-40c7-a248-3b6776fb1777",
   "metadata": {},
   "outputs": [
    {
     "data": {
      "text/html": [
       "<div>\n",
       "<style scoped>\n",
       "    .dataframe tbody tr th:only-of-type {\n",
       "        vertical-align: middle;\n",
       "    }\n",
       "\n",
       "    .dataframe tbody tr th {\n",
       "        vertical-align: top;\n",
       "    }\n",
       "\n",
       "    .dataframe thead th {\n",
       "        text-align: right;\n",
       "    }\n",
       "</style>\n",
       "<table border=\"1\" class=\"dataframe\">\n",
       "  <thead>\n",
       "    <tr style=\"text-align: right;\">\n",
       "      <th>dependant_flag</th>\n",
       "      <th>Has Dependants</th>\n",
       "      <th>No Dependants</th>\n",
       "    </tr>\n",
       "    <tr>\n",
       "      <th>department</th>\n",
       "      <th></th>\n",
       "      <th></th>\n",
       "    </tr>\n",
       "  </thead>\n",
       "  <tbody>\n",
       "    <tr>\n",
       "      <th>alcohol</th>\n",
       "      <td>107800</td>\n",
       "      <td>36827</td>\n",
       "    </tr>\n",
       "    <tr>\n",
       "      <th>babies</th>\n",
       "      <td>307064</td>\n",
       "      <td>103328</td>\n",
       "    </tr>\n",
       "    <tr>\n",
       "      <th>bakery</th>\n",
       "      <td>839433</td>\n",
       "      <td>281395</td>\n",
       "    </tr>\n",
       "    <tr>\n",
       "      <th>beverages</th>\n",
       "      <td>1926560</td>\n",
       "      <td>645341</td>\n",
       "    </tr>\n",
       "    <tr>\n",
       "      <th>breakfast</th>\n",
       "      <td>504418</td>\n",
       "      <td>166432</td>\n",
       "    </tr>\n",
       "    <tr>\n",
       "      <th>bulk</th>\n",
       "      <td>25451</td>\n",
       "      <td>8000</td>\n",
       "    </tr>\n",
       "    <tr>\n",
       "      <th>canned goods</th>\n",
       "      <td>761054</td>\n",
       "      <td>251020</td>\n",
       "    </tr>\n",
       "    <tr>\n",
       "      <th>dairy eggs</th>\n",
       "      <td>3882806</td>\n",
       "      <td>1294376</td>\n",
       "    </tr>\n",
       "    <tr>\n",
       "      <th>deli</th>\n",
       "      <td>750452</td>\n",
       "      <td>253382</td>\n",
       "    </tr>\n",
       "    <tr>\n",
       "      <th>dry goods pasta</th>\n",
       "      <td>617840</td>\n",
       "      <td>204296</td>\n",
       "    </tr>\n",
       "    <tr>\n",
       "      <th>frozen</th>\n",
       "      <td>1592383</td>\n",
       "      <td>529348</td>\n",
       "    </tr>\n",
       "    <tr>\n",
       "      <th>household</th>\n",
       "      <td>528499</td>\n",
       "      <td>171358</td>\n",
       "    </tr>\n",
       "    <tr>\n",
       "      <th>international</th>\n",
       "      <td>191530</td>\n",
       "      <td>64461</td>\n",
       "    </tr>\n",
       "    <tr>\n",
       "      <th>meat seafood</th>\n",
       "      <td>508903</td>\n",
       "      <td>165878</td>\n",
       "    </tr>\n",
       "    <tr>\n",
       "      <th>missing</th>\n",
       "      <td>48833</td>\n",
       "      <td>15935</td>\n",
       "    </tr>\n",
       "    <tr>\n",
       "      <th>other</th>\n",
       "      <td>25697</td>\n",
       "      <td>8714</td>\n",
       "    </tr>\n",
       "    <tr>\n",
       "      <th>pantry</th>\n",
       "      <td>1338801</td>\n",
       "      <td>443904</td>\n",
       "    </tr>\n",
       "    <tr>\n",
       "      <th>personal care</th>\n",
       "      <td>318101</td>\n",
       "      <td>106205</td>\n",
       "    </tr>\n",
       "    <tr>\n",
       "      <th>pets</th>\n",
       "      <td>69458</td>\n",
       "      <td>23602</td>\n",
       "    </tr>\n",
       "    <tr>\n",
       "      <th>produce</th>\n",
       "      <td>6803832</td>\n",
       "      <td>2275441</td>\n",
       "    </tr>\n",
       "    <tr>\n",
       "      <th>snacks</th>\n",
       "      <td>2075968</td>\n",
       "      <td>690438</td>\n",
       "    </tr>\n",
       "  </tbody>\n",
       "</table>\n",
       "</div>"
      ],
      "text/plain": [
       "dependant_flag   Has Dependants  No Dependants\n",
       "department                                    \n",
       "alcohol                  107800          36827\n",
       "babies                   307064         103328\n",
       "bakery                   839433         281395\n",
       "beverages               1926560         645341\n",
       "breakfast                504418         166432\n",
       "bulk                      25451           8000\n",
       "canned goods             761054         251020\n",
       "dairy eggs              3882806        1294376\n",
       "deli                     750452         253382\n",
       "dry goods pasta          617840         204296\n",
       "frozen                  1592383         529348\n",
       "household                528499         171358\n",
       "international            191530          64461\n",
       "meat seafood             508903         165878\n",
       "missing                   48833          15935\n",
       "other                     25697           8714\n",
       "pantry                  1338801         443904\n",
       "personal care            318101         106205\n",
       "pets                      69458          23602\n",
       "produce                 6803832        2275441\n",
       "snacks                  2075968         690438"
      ]
     },
     "execution_count": 187,
     "metadata": {},
     "output_type": "execute_result"
    }
   ],
   "source": [
    "#checking the crosstab\n",
    "departments_by_dependant_status_crosstab"
   ]
  },
  {
   "cell_type": "code",
   "execution_count": 188,
   "id": "75c89e78-422b-4a6c-b1ab-90e3eb08ad32",
   "metadata": {},
   "outputs": [
    {
     "data": {
      "text/plain": [
       "<matplotlib.legend.Legend at 0x204b481fa40>"
      ]
     },
     "execution_count": 188,
     "metadata": {},
     "output_type": "execute_result"
    },
    {
     "data": {
      "image/png": "[encoded data removed]",
      "text/plain": [
       "<Figure size 640x480 with 1 Axes>"
      ]
     },
     "metadata": {},
     "output_type": "display_data"
    }
   ],
   "source": [
    "#creating a departments by dependant status chart \n",
    "departments_by_dependant_status = departments_by_dependant_status_crosstab.plot.bar()\n",
    "plt.title('Department Sales by Dependant Status')\n",
    "plt.xlabel('Department')\n",
    "plt.ylabel('Count')\n",
    "plt.legend(title='Dependant Status')\n"
   ]
  },
  {
   "cell_type": "markdown",
   "id": "3bbcacae-535d-48e2-b1f0-153ea5170d05",
   "metadata": {},
   "source": [
    "Produce, dairy eggs, beverages,snacks, and frozen make up the most sales regardless dependant status.  Within these departments, those who have dependants make up the most sales.  "
   ]
  },
  {
   "cell_type": "code",
   "execution_count": 190,
   "id": "0ce55f3f-3933-441c-a084-9d6590f544a2",
   "metadata": {},
   "outputs": [],
   "source": [
    "#saving departments by dependant status chart\n",
    "departments_by_dependant_status.figure.savefig((os.path.join(path, '04 Analysis','Visualizations', 'departments_by_dependant_status.png',)), bbox_inches='tight')"
   ]
  },
  {
   "cell_type": "code",
   "execution_count": 191,
   "id": "6bf58508-43ed-41ff-be84-d85b195e41f0",
   "metadata": {},
   "outputs": [],
   "source": [
    "df_ords_prods_cust.to_pickle(os.path.join(path, '02 Data','Prepared Data', 'ords_prods_cust_final.pkl'))"
   ]
  },
  {
   "cell_type": "markdown",
   "id": "33b55760-50aa-4e45-9171-69fdedf92b9d",
   "metadata": {},
   "source": [
    "## Additional charts"
   ]
  },
  {
   "cell_type": "markdown",
   "id": "b8869653-9b05-4cb1-aefe-c9325f32aef9",
   "metadata": {},
   "source": [
    "### Deparments by region"
   ]
  },
  {
   "cell_type": "code",
   "execution_count": 194,
   "id": "a8ea58a2-7559-4240-b0b0-82625775c60f",
   "metadata": {},
   "outputs": [],
   "source": [
    "#creating department and region crosstab\n",
    "department_by_region_crosstab = pd.crosstab(df_ords_prods_cust['department'], df_ords_prods_cust['region'], dropna = False)"
   ]
  },
  {
   "cell_type": "code",
   "execution_count": 195,
   "id": "32e1018e-9c03-4f20-bc54-932da52a5031",
   "metadata": {},
   "outputs": [
    {
     "data": {
      "text/html": [
       "<div>\n",
       "<style scoped>\n",
       "    .dataframe tbody tr th:only-of-type {\n",
       "        vertical-align: middle;\n",
       "    }\n",
       "\n",
       "    .dataframe tbody tr th {\n",
       "        vertical-align: top;\n",
       "    }\n",
       "\n",
       "    .dataframe thead th {\n",
       "        text-align: right;\n",
       "    }\n",
       "</style>\n",
       "<table border=\"1\" class=\"dataframe\">\n",
       "  <thead>\n",
       "    <tr style=\"text-align: right;\">\n",
       "      <th>region</th>\n",
       "      <th>Midwest</th>\n",
       "      <th>Northeast</th>\n",
       "      <th>South</th>\n",
       "      <th>West</th>\n",
       "    </tr>\n",
       "    <tr>\n",
       "      <th>department</th>\n",
       "      <th></th>\n",
       "      <th></th>\n",
       "      <th></th>\n",
       "      <th></th>\n",
       "    </tr>\n",
       "  </thead>\n",
       "  <tbody>\n",
       "    <tr>\n",
       "      <th>alcohol</th>\n",
       "      <td>34043</td>\n",
       "      <td>25017</td>\n",
       "      <td>48813</td>\n",
       "      <td>36754</td>\n",
       "    </tr>\n",
       "    <tr>\n",
       "      <th>babies</th>\n",
       "      <td>95741</td>\n",
       "      <td>72712</td>\n",
       "      <td>139511</td>\n",
       "      <td>102428</td>\n",
       "    </tr>\n",
       "    <tr>\n",
       "      <th>bakery</th>\n",
       "      <td>261753</td>\n",
       "      <td>199300</td>\n",
       "      <td>371620</td>\n",
       "      <td>288155</td>\n",
       "    </tr>\n",
       "    <tr>\n",
       "      <th>beverages</th>\n",
       "      <td>598979</td>\n",
       "      <td>462929</td>\n",
       "      <td>859419</td>\n",
       "      <td>650574</td>\n",
       "    </tr>\n",
       "    <tr>\n",
       "      <th>breakfast</th>\n",
       "      <td>156155</td>\n",
       "      <td>117904</td>\n",
       "      <td>223172</td>\n",
       "      <td>173619</td>\n",
       "    </tr>\n",
       "    <tr>\n",
       "      <th>bulk</th>\n",
       "      <td>7929</td>\n",
       "      <td>5599</td>\n",
       "      <td>11180</td>\n",
       "      <td>8743</td>\n",
       "    </tr>\n",
       "    <tr>\n",
       "      <th>canned goods</th>\n",
       "      <td>237459</td>\n",
       "      <td>176936</td>\n",
       "      <td>337458</td>\n",
       "      <td>260221</td>\n",
       "    </tr>\n",
       "    <tr>\n",
       "      <th>dairy eggs</th>\n",
       "      <td>1212490</td>\n",
       "      <td>914616</td>\n",
       "      <td>1723016</td>\n",
       "      <td>1327060</td>\n",
       "    </tr>\n",
       "    <tr>\n",
       "      <th>deli</th>\n",
       "      <td>234464</td>\n",
       "      <td>178398</td>\n",
       "      <td>333620</td>\n",
       "      <td>257352</td>\n",
       "    </tr>\n",
       "    <tr>\n",
       "      <th>dry goods pasta</th>\n",
       "      <td>193463</td>\n",
       "      <td>143817</td>\n",
       "      <td>272813</td>\n",
       "      <td>212043</td>\n",
       "    </tr>\n",
       "    <tr>\n",
       "      <th>frozen</th>\n",
       "      <td>498225</td>\n",
       "      <td>370436</td>\n",
       "      <td>709906</td>\n",
       "      <td>543164</td>\n",
       "    </tr>\n",
       "    <tr>\n",
       "      <th>household</th>\n",
       "      <td>166992</td>\n",
       "      <td>124604</td>\n",
       "      <td>230061</td>\n",
       "      <td>178200</td>\n",
       "    </tr>\n",
       "    <tr>\n",
       "      <th>international</th>\n",
       "      <td>60666</td>\n",
       "      <td>44678</td>\n",
       "      <td>84649</td>\n",
       "      <td>65998</td>\n",
       "    </tr>\n",
       "    <tr>\n",
       "      <th>meat seafood</th>\n",
       "      <td>158260</td>\n",
       "      <td>118571</td>\n",
       "      <td>224120</td>\n",
       "      <td>173830</td>\n",
       "    </tr>\n",
       "    <tr>\n",
       "      <th>missing</th>\n",
       "      <td>15563</td>\n",
       "      <td>11512</td>\n",
       "      <td>21787</td>\n",
       "      <td>15906</td>\n",
       "    </tr>\n",
       "    <tr>\n",
       "      <th>other</th>\n",
       "      <td>7983</td>\n",
       "      <td>6268</td>\n",
       "      <td>11579</td>\n",
       "      <td>8581</td>\n",
       "    </tr>\n",
       "    <tr>\n",
       "      <th>pantry</th>\n",
       "      <td>420334</td>\n",
       "      <td>312731</td>\n",
       "      <td>591754</td>\n",
       "      <td>457886</td>\n",
       "    </tr>\n",
       "    <tr>\n",
       "      <th>personal care</th>\n",
       "      <td>100398</td>\n",
       "      <td>74765</td>\n",
       "      <td>142496</td>\n",
       "      <td>106647</td>\n",
       "    </tr>\n",
       "    <tr>\n",
       "      <th>pets</th>\n",
       "      <td>21358</td>\n",
       "      <td>17734</td>\n",
       "      <td>29909</td>\n",
       "      <td>24059</td>\n",
       "    </tr>\n",
       "    <tr>\n",
       "      <th>produce</th>\n",
       "      <td>2134115</td>\n",
       "      <td>1593004</td>\n",
       "      <td>3027476</td>\n",
       "      <td>2324678</td>\n",
       "    </tr>\n",
       "    <tr>\n",
       "      <th>snacks</th>\n",
       "      <td>645143</td>\n",
       "      <td>493154</td>\n",
       "      <td>916780</td>\n",
       "      <td>711329</td>\n",
       "    </tr>\n",
       "  </tbody>\n",
       "</table>\n",
       "</div>"
      ],
      "text/plain": [
       "region           Midwest  Northeast    South     West\n",
       "department                                           \n",
       "alcohol            34043      25017    48813    36754\n",
       "babies             95741      72712   139511   102428\n",
       "bakery            261753     199300   371620   288155\n",
       "beverages         598979     462929   859419   650574\n",
       "breakfast         156155     117904   223172   173619\n",
       "bulk                7929       5599    11180     8743\n",
       "canned goods      237459     176936   337458   260221\n",
       "dairy eggs       1212490     914616  1723016  1327060\n",
       "deli              234464     178398   333620   257352\n",
       "dry goods pasta   193463     143817   272813   212043\n",
       "frozen            498225     370436   709906   543164\n",
       "household         166992     124604   230061   178200\n",
       "international      60666      44678    84649    65998\n",
       "meat seafood      158260     118571   224120   173830\n",
       "missing            15563      11512    21787    15906\n",
       "other               7983       6268    11579     8581\n",
       "pantry            420334     312731   591754   457886\n",
       "personal care     100398      74765   142496   106647\n",
       "pets               21358      17734    29909    24059\n",
       "produce          2134115    1593004  3027476  2324678\n",
       "snacks            645143     493154   916780   711329"
      ]
     },
     "execution_count": 195,
     "metadata": {},
     "output_type": "execute_result"
    }
   ],
   "source": [
    "#checking crosstab\n",
    "department_by_region_crosstab"
   ]
  },
  {
   "cell_type": "code",
   "execution_count": 196,
   "id": "2fe46567-40e2-4a19-9069-6fce2cb140c1",
   "metadata": {},
   "outputs": [
    {
     "data": {
      "text/plain": [
       "<matplotlib.legend.Legend at 0x204b5cc55b0>"
      ]
     },
     "execution_count": 196,
     "metadata": {},
     "output_type": "execute_result"
    },
    {
     "data": {
      "image/png": "[encoded data removed]",
      "text/plain": [
       "<Figure size 640x480 with 1 Axes>"
      ]
     },
     "metadata": {},
     "output_type": "display_data"
    }
   ],
   "source": [
    "#creating a bar chart of department by region \n",
    "department_by_region = department_by_region_crosstab.plot.bar()\n",
    "plt.title('Department by Region')\n",
    "plt.xlabel('Department')\n",
    "plt.ylabel('Count')\n",
    "plt.legend(title='Region')\n"
   ]
  },
  {
   "cell_type": "markdown",
   "id": "63a516a1-e8fb-404c-ad2f-fa46172dcaf7",
   "metadata": {},
   "source": [
    "Produce, dairy/eggs, snacks, beverages, and frozen make up the most sales regardless of region."
   ]
  },
  {
   "cell_type": "code",
   "execution_count": 198,
   "id": "68db9368-5078-467e-bfbc-01318df80f04",
   "metadata": {},
   "outputs": [],
   "source": [
    "#saving department by region bar chart\n",
    "department_by_region.figure.savefig((os.path.join(path, '04 Analysis','Visualizations', 'department_by_region.png',)), bbox_inches='tight')"
   ]
  },
  {
   "cell_type": "markdown",
   "id": "10859b31-c548-4f68-ba14-687d9a0abdb2",
   "metadata": {},
   "source": [
    "### Orders by Day of Week"
   ]
  },
  {
   "cell_type": "code",
   "execution_count": 200,
   "id": "45f9d5b0-1fae-49e8-aa2b-51b15ab46b16",
   "metadata": {},
   "outputs": [
    {
     "data": {
      "text/plain": [
       "orders_day_of_week\n",
       "0    5908610\n",
       "1    5411686\n",
       "6    4291304\n",
       "5    4033729\n",
       "2    4024706\n",
       "3    3669535\n",
       "4    3624994\n",
       "Name: count, dtype: int64"
      ]
     },
     "execution_count": 200,
     "metadata": {},
     "output_type": "execute_result"
    }
   ],
   "source": [
    "#checking to see which days are busiest  \n",
    "df_ords_prods_cust['orders_day_of_week'].value_counts(dropna = False)"
   ]
  },
  {
   "cell_type": "code",
   "execution_count": 201,
   "id": "c4a930f2-a021-474b-8670-2f798586f1d4",
   "metadata": {},
   "outputs": [
    {
     "data": {
      "text/plain": [
       "Text(0, 0.5, 'Count')"
      ]
     },
     "execution_count": 201,
     "metadata": {},
     "output_type": "execute_result"
    },
    {
     "data": {
      "image/png": "[encoded data removed]",
      "text/plain": [
       "<Figure size 640x480 with 1 Axes>"
      ]
     },
     "metadata": {},
     "output_type": "display_data"
    }
   ],
   "source": [
    "#creating an orders by day of the week chart\n",
    "orders_by_day_of_week = df_ords_prods_cust['orders_day_of_week'].value_counts().sort_index().plot.bar(color=['blue', 'purple', 'red', 'pink', 'orange', 'yellow', 'green'])\n",
    "plt.title('Orders By Day of Week')\n",
    "plt.xlabel('Day of Week')\n",
    "plt.ylabel('Count')"
   ]
  },
  {
   "cell_type": "markdown",
   "id": "8033aa92-6374-492b-af17-b4674a9f9ed2",
   "metadata": {},
   "source": [
    "We know that 0=Saturday, 1=Sunday, 2=Monday, 3=Tuesday, 4=Wednesday, 5=Thursday 6=Friday.  Saturday and Sunday are the busiest order days while Tuesday and Wednesday are the slowest."
   ]
  },
  {
   "cell_type": "code",
   "execution_count": 203,
   "id": "05bde579-81dc-4903-89b7-650f52046e5a",
   "metadata": {},
   "outputs": [],
   "source": [
    "#saving orders by day of week chart\n",
    "orders_by_day_of_week.figure.savefig((os.path.join(path, '04 Analysis','Visualizations', 'orders_by_day_of_week.png',)), bbox_inches='tight')"
   ]
  },
  {
   "cell_type": "markdown",
   "id": "588eff52-3f87-4ac2-a908-8f731b4d7af3",
   "metadata": {},
   "source": [
    "### Orders by Hour of Day"
   ]
  },
  {
   "cell_type": "code",
   "execution_count": 205,
   "id": "c14fed68-4613-404b-970d-0c3148bce2b2",
   "metadata": {},
   "outputs": [
    {
     "data": {
      "text/plain": [
       "order_hour_of_day\n",
       "10    2649744\n",
       "11    2614880\n",
       "14    2567903\n",
       "13    2539276\n",
       "15    2535966\n",
       "12    2495795\n",
       "16    2413681\n",
       "9     2363611\n",
       "17    1982345\n",
       "8     1659110\n",
       "18    1551184\n",
       "19    1193878\n",
       "20     930909\n",
       "7      863213\n",
       "21     763111\n",
       "22     607060\n",
       "23     384554\n",
       "6      281013\n",
       "0      208042\n",
       "1      109621\n",
       "5       84418\n",
       "2       65691\n",
       "4       50763\n",
       "3       48796\n",
       "Name: count, dtype: int64"
      ]
     },
     "execution_count": 205,
     "metadata": {},
     "output_type": "execute_result"
    }
   ],
   "source": [
    "#checking to see which hours are the busiest for ordering  \n",
    "df_ords_prods_cust['order_hour_of_day'].value_counts(dropna = False)"
   ]
  },
  {
   "cell_type": "code",
   "execution_count": 206,
   "id": "413e1f8c-e5d8-4791-bf27-55153f985629",
   "metadata": {},
   "outputs": [
    {
     "data": {
      "text/plain": [
       "Text(0, 0.5, 'Count')"
      ]
     },
     "execution_count": 206,
     "metadata": {},
     "output_type": "execute_result"
    },
    {
     "data": {
      "image/png": "[encoded data removed]",
      "text/plain": [
       "<Figure size 640x480 with 1 Axes>"
      ]
     },
     "metadata": {},
     "output_type": "display_data"
    }
   ],
   "source": [
    "#creating an orders by hour of the day chart\n",
    "orders_by_hour_of_day = df_ords_prods_cust['order_hour_of_day'].value_counts().sort_index().plot.bar()\n",
    "plt.title('Orders By Hour of Day')\n",
    "plt.xlabel('Hour of Day')\n",
    "plt.ylabel('Count')"
   ]
  },
  {
   "cell_type": "markdown",
   "id": "02d556b5-e34f-42ba-8505-6c8171e70f11",
   "metadata": {},
   "source": [
    "The busiest hours of the day are 9am - 4 pm.  The least busiest hours of the day are 11pm to 6 am."
   ]
  },
  {
   "cell_type": "code",
   "execution_count": 208,
   "id": "b9199365-77ca-4dfb-b8ea-ca2fe3aeaafc",
   "metadata": {},
   "outputs": [],
   "source": [
    "#saving orders by hour of day chart\n",
    "orders_by_hour_of_day.figure.savefig((os.path.join(path, '04 Analysis','Visualizations', 'orders_by_hour_of_day.png',)), bbox_inches='tight')"
   ]
  },
  {
   "cell_type": "code",
   "execution_count": 209,
   "id": "104eaff2-db03-4f9b-81d9-a1d9f20aea63",
   "metadata": {},
   "outputs": [],
   "source": [
    "#determining when people spend the most money\n",
    "#first, we must create a random sample for our line chart  \n",
    "np.random.seed(4)"
   ]
  },
  {
   "cell_type": "code",
   "execution_count": 210,
   "id": "d3424ed9-1ad9-43e6-9304-0ce3eecdd61a",
   "metadata": {},
   "outputs": [],
   "source": [
    "#Splitting the dataframe into two samples with a 70/30 split.\n",
    "dev = np.random.rand(len(df_ords_prods_cust)) <= 0.7"
   ]
  },
  {
   "cell_type": "code",
   "execution_count": 211,
   "id": "b0fc573e-9c79-4953-bf64-534a448fa52e",
   "metadata": {},
   "outputs": [],
   "source": [
    "#storing 70% of the sample in the big dataframe\n",
    "big = df_ords_prods_cust[dev]"
   ]
  },
  {
   "cell_type": "code",
   "execution_count": 212,
   "id": "20353227-2ee7-4761-8865-22dc3a0e65d9",
   "metadata": {},
   "outputs": [],
   "source": [
    "#storing 30% of the sample in the small dataframe\n",
    "small = df_ords_prods_cust[~dev]"
   ]
  },
  {
   "cell_type": "code",
   "execution_count": 213,
   "id": "b0851722-86f6-4680-96bb-cd9e9e9b4b7b",
   "metadata": {},
   "outputs": [
    {
     "data": {
      "text/plain": [
       "30964564"
      ]
     },
     "execution_count": 213,
     "metadata": {},
     "output_type": "execute_result"
    }
   ],
   "source": [
    "#checking to see if the rows in both samples add up to the same number of rows in the original dataframe\n",
    "len(df_ords_prods_cust)"
   ]
  },
  {
   "cell_type": "code",
   "execution_count": 214,
   "id": "564629fb-c059-41f3-8e57-d7cdb6fe25ce",
   "metadata": {},
   "outputs": [
    {
     "data": {
      "text/plain": [
       "30964564"
      ]
     },
     "execution_count": 214,
     "metadata": {},
     "output_type": "execute_result"
    }
   ],
   "source": [
    "len(big) + len(small)"
   ]
  },
  {
   "cell_type": "code",
   "execution_count": 215,
   "id": "b9d6c6c9-f8db-46b2-a15c-56a5c6a88833",
   "metadata": {},
   "outputs": [],
   "source": [
    "#creating a new data frame from small sample that only includes order_hour_of_day and prices\n",
    "df_2 = small[['order_hour_of_day','prices']]"
   ]
  },
  {
   "cell_type": "code",
   "execution_count": 322,
   "id": "e57a5bd8-51d3-4944-b5cd-25b3e57abef5",
   "metadata": {},
   "outputs": [
    {
     "data": {
      "text/plain": [
       "Text(0, 0.5, 'Average Amount Spent ($)')"
      ]
     },
     "execution_count": 322,
     "metadata": {},
     "output_type": "execute_result"
    },
    {
     "data": {
      "image/png": "[encoded data removed]",
      "text/plain": [
       "<Figure size 640x480 with 1 Axes>"
      ]
     },
     "metadata": {},
     "output_type": "display_data"
    }
   ],
   "source": [
    "#creating a prices by hour of day chart \n",
    "prices_by_hour_of_day = sns.lineplot(data = df_2, x = 'order_hour_of_day',y = 'prices')\n",
    "plt.title('Average Amount Spent by Hour of Day')\n",
    "plt.xlabel('Hour of Day')\n",
    "plt.ylabel('Average Amount Spent ($)')\n"
   ]
  },
  {
   "cell_type": "markdown",
   "id": "29b2a6e8-04f2-488a-9847-a5164ee8e4e2",
   "metadata": {},
   "source": [
    "People spend the most amount of money from 2-5 am.  Amount spent drops significantly after 7 am, reaching its lowest aroud 9-10am.  After this, amount spent starts to increase again."
   ]
  },
  {
   "cell_type": "code",
   "execution_count": 324,
   "id": "a65e7fbd-39a3-4831-af2a-4f42b03b8697",
   "metadata": {},
   "outputs": [],
   "source": [
    "prices_by_hour_of_day.figure.savefig((os.path.join(path, '04 Analysis','Visualizations', 'Average Amount Spent by Hour of Day.png',)), bbox_inches='tight')"
   ]
  },
  {
   "cell_type": "markdown",
   "id": "dbf6e5d1-1816-455a-97e7-d80d0964c36b",
   "metadata": {},
   "source": [
    "### Orders by Department"
   ]
  },
  {
   "cell_type": "code",
   "execution_count": 220,
   "id": "1f86399d-9056-4ac8-bde5-e821d1a25af8",
   "metadata": {},
   "outputs": [],
   "source": [
    "#checking to see what the most popular products are\n",
    "orders_by_department = df_ords_prods_cust['department'].value_counts(dropna = False)"
   ]
  },
  {
   "cell_type": "code",
   "execution_count": 221,
   "id": "188430e1-3317-482b-9e74-15c39f42a2a3",
   "metadata": {},
   "outputs": [
    {
     "data": {
      "text/plain": [
       "department\n",
       "produce            9079273\n",
       "dairy eggs         5177182\n",
       "snacks             2766406\n",
       "beverages          2571901\n",
       "frozen             2121731\n",
       "pantry             1782705\n",
       "bakery             1120828\n",
       "canned goods       1012074\n",
       "deli               1003834\n",
       "dry goods pasta     822136\n",
       "household           699857\n",
       "meat seafood        674781\n",
       "breakfast           670850\n",
       "personal care       424306\n",
       "babies              410392\n",
       "international       255991\n",
       "alcohol             144627\n",
       "pets                 93060\n",
       "missing              64768\n",
       "other                34411\n",
       "bulk                 33451\n",
       "Name: count, dtype: int64"
      ]
     },
     "execution_count": 221,
     "metadata": {},
     "output_type": "execute_result"
    }
   ],
   "source": [
    "orders_by_department"
   ]
  },
  {
   "cell_type": "code",
   "execution_count": 222,
   "id": "aa3457e9-c729-4702-bf58-9355c6b56a65",
   "metadata": {},
   "outputs": [
    {
     "data": {
      "text/plain": [
       "Text(0, 0.5, 'Count')"
      ]
     },
     "execution_count": 222,
     "metadata": {},
     "output_type": "execute_result"
    },
    {
     "data": {
      "image/png": "[encoded data removed]",
      "text/plain": [
       "<Figure size 640x480 with 1 Axes>"
      ]
     },
     "metadata": {},
     "output_type": "display_data"
    }
   ],
   "source": [
    "#creating an orders by department chart \n",
    "orders_by_department = df_ords_prods_cust['department'].value_counts().plot.bar()\n",
    "plt.title('Orders By Department')\n",
    "plt.xlabel('Department')\n",
    "plt.ylabel('Count')"
   ]
  },
  {
   "cell_type": "markdown",
   "id": "94ec518d-f944-4c13-90d3-e1660ef8f272",
   "metadata": {},
   "source": [
    "Produce, dairy/eggs, snacks, beverages, and frozen are the most popular departments.  "
   ]
  },
  {
   "cell_type": "code",
   "execution_count": 224,
   "id": "52335ae2-f6c9-4280-9808-b904a9ed03a2",
   "metadata": {},
   "outputs": [],
   "source": [
    "#saving orders by department graph\n",
    "orders_by_department.figure.savefig((os.path.join(path, '04 Analysis','Visualizations', 'orders_by_department.png',)), bbox_inches='tight')"
   ]
  },
  {
   "cell_type": "code",
   "execution_count": 225,
   "id": "c2e85504-f1d8-4708-b9a4-ddc0cd7b61fe",
   "metadata": {},
   "outputs": [
    {
     "data": {
      "text/plain": [
       "Index(['product_id', 'product_name', 'aisle_id', 'department_id', 'prices',\n",
       "       'order_id', 'user_id', 'order_number', 'orders_day_of_week',\n",
       "       'order_hour_of_day', 'days_since_last_order', 'first_order',\n",
       "       'add_to_cart_order', 'reordered', 'price_range_loc', 'busiest_day',\n",
       "       'busiest_days', 'busiest_period_of_day', 'max_order', 'loyalty_flag',\n",
       "       'average_spent', 'spending_flag', 'median_days_since_last_order',\n",
       "       'frequency_flag', 'gender', 'state', 'age', 'date_joined',\n",
       "       'number_of_dependants', 'marital_status', 'income', '_merge', 'region',\n",
       "       'activity_flag', 'age_group', 'income_level', 'dependant_flag',\n",
       "       'department'],\n",
       "      dtype='object')"
      ]
     },
     "execution_count": 225,
     "metadata": {},
     "output_type": "execute_result"
    }
   ],
   "source": [
    "#checking dataframe columns\n",
    "df_ords_prods_cust.columns"
   ]
  },
  {
   "cell_type": "markdown",
   "id": "c9214541-1ed2-442e-910d-376f587c54bd",
   "metadata": {},
   "source": [
    "### Loyalty Distribution"
   ]
  },
  {
   "cell_type": "code",
   "execution_count": 227,
   "id": "859640e9-94e1-4700-af07-a88e7dbddf68",
   "metadata": {},
   "outputs": [],
   "source": [
    "#creating a value count table for loyalty\n",
    "loyalty_distribution = df_ords_prods_cust['loyalty_flag'].value_counts()"
   ]
  },
  {
   "cell_type": "code",
   "execution_count": 228,
   "id": "6fb27e2b-cd74-4216-a852-0437315318b0",
   "metadata": {},
   "outputs": [
    {
     "data": {
      "text/plain": [
       "loyalty_flag\n",
       "Regular customer    15876776\n",
       "Loyal customer      10284093\n",
       "New customer         4803695\n",
       "Name: count, dtype: int64"
      ]
     },
     "execution_count": 228,
     "metadata": {},
     "output_type": "execute_result"
    }
   ],
   "source": [
    "#checking value count table\n",
    "loyalty_distribution"
   ]
  },
  {
   "cell_type": "code",
   "execution_count": 229,
   "id": "07db3776-a9fa-4da2-8e71-b8e2cd370941",
   "metadata": {},
   "outputs": [
    {
     "data": {
      "image/png": "[encoded data removed]",
      "text/plain": [
       "<Figure size 640x480 with 1 Axes>"
      ]
     },
     "metadata": {},
     "output_type": "display_data"
    }
   ],
   "source": [
    "#creating a loyalty distribution pie\n",
    "loyalty_distribution_pie = plt.pie(loyalty_distribution, \n",
    "                            labels = loyalty_distribution.index,\n",
    "                            autopct='%.1f%%')\n",
    "plt.title('Loyalty Distribution')\n",
    "plt.savefig(os.path.join(path, '04 Analysis', 'Visualizations', 'loyalty_distribution_pie.png'), bbox_inches = 'tight') #saving pie chart"
   ]
  },
  {
   "cell_type": "markdown",
   "id": "9b95d992-c24d-4312-b802-3b163832c688",
   "metadata": {},
   "source": [
    "More than half of the customers are regular customers meaning they have made between 10-40 orders.  The next largest group is the loyal customer group, who have placed more than 40 orders.  The smallest group is the new customer group, who have placed less than 10 orders."
   ]
  }
 ],
 "metadata": {
  "kernelspec": {
   "display_name": "Python 3 (ipykernel)",
   "language": "python",
   "name": "python3"
  },
  "language_info": {
   "codemirror_mode": {
    "name": "ipython",
    "version": 3
   },
   "file_extension": ".py",
   "mimetype": "text/x-python",
   "name": "python",
   "nbconvert_exporter": "python",
   "pygments_lexer": "ipython3",
   "version": "3.12.4"
  }
 },
 "nbformat": 4,
 "nbformat_minor": 5
}
